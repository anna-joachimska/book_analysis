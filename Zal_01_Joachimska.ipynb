{
 "cells": [
  {
   "attachments": {},
   "cell_type": "markdown",
   "metadata": {},
   "source": [
    "# Analiza książek Jane Austen"
   ]
  },
  {
   "attachments": {},
   "cell_type": "markdown",
   "metadata": {},
   "source": [
    "1. Emma - powieść opowiadająca historię tytułowej bohaterki, Emmy Woodhouse - młodej i pewnej siebie damie, która bawi się w swaty i manipuluje życiem innych ludzi. Jednak jej pewność siebie zostaje wystawiona na próbę, gdy jej eksperymenty miłosne prowadzą do nieporozumień, błędnych ocen i tragicznych konsekwencji. Ksiązka jest pełna subtelnej ironii i ostrego spojrzenia na życie społeczne, a jednocześnie przedstawia rozwój i dojrzałość głównej bohaterki, która ostatecznie uczy się sztuki empatii i zrozumienia innych ludzi.\n",
    "\n",
    "2. Perswazje (ang. Persuasion) - powieść skupiająca się na historii Anny Elliot, starszej panny, która po latach spotyka swojego dawno utraconego kochanka, kapitana Wentwortha. To historia o przezwyciężaniu przeszkód społecznych, przebaczeniu i drugiej szansie w miłości, wpisana w charakterystyczny styl Austen, pełen spostrzeżeń, dowcipu i obserwacji dotyczących społeczeństwa.\n",
    "\n",
    "3. Rozważna i romantyczna (ang. Sense and Sensibility) - powieść przedstawia historię dwóch sióstr, Elinor i Marianne Dashwood, które stają w obliczu różnych wyzwań miłosnych. Książka porusza tematykę miłości, małżeństwa i różnic między rozsądkiem a uczuciami. Dodatkowo ukazuje społeczne konwenanse i ograniczenia, z którymi muszą zmierzyć się bohaterki.\n",
    "Bohaterkami są dwie siostry Elinor oraz Marinne, które prezentują kontrast między rozważnym podejściem starszej z sióstr a burzliwymi emocjami młodszej."
   ]
  },
  {
   "attachments": {},
   "cell_type": "markdown",
   "metadata": {},
   "source": [
    "## Przygotowanie środowiska"
   ]
  },
  {
   "cell_type": "code",
   "execution_count": 21,
   "metadata": {},
   "outputs": [
    {
     "name": "stderr",
     "output_type": "stream",
     "text": [
      "[nltk_data] Downloading package gutenberg to\n",
      "[nltk_data]     C:\\Users\\Ania\\AppData\\Roaming\\nltk_data...\n",
      "[nltk_data]   Package gutenberg is already up-to-date!\n"
     ]
    }
   ],
   "source": [
    "import nltk\n",
    "nltk.download('gutenberg')\n",
    "from nltk.corpus import gutenberg\n",
    "from nltk import word_tokenize\n",
    "from nltk.stem.snowball import SnowballStemmer\n",
    "from nltk.stem import WordNetLemmatizer\n",
    "import re\n",
    "import requests\n",
    "import matplotlib.pyplot as plt\n",
    "from wordcloud import WordCloud\n",
    "import spacy\n",
    "import pandas as pd\n",
    "import numpy as np\n",
    "from sklearn.cluster import AgglomerativeClustering\n",
    "from scipy.cluster.hierarchy import dendrogram\n",
    "from sklearn.preprocessing import MultiLabelBinarizer\n",
    "from sklearn.preprocessing import MinMaxScaler\n",
    "from sklearn.preprocessing import MultiLabelBinarizer\n",
    "from sklearn.feature_extraction.text import TfidfVectorizer\n",
    "from sklearn.model_selection import train_test_split\n",
    "from sklearn.neighbors import KNeighborsClassifier\n",
    "from sklearn.metrics import classification_report, confusion_matrix\n",
    "import os\n",
    "import gensim\n",
    "from textblob import TextBlob\n",
    "from gensim.corpora.dictionary import Dictionary\n",
    "from gensim.models import TfidfModel\n"
   ]
  },
  {
   "attachments": {},
   "cell_type": "markdown",
   "metadata": {},
   "source": [
    "## Pobranie książek"
   ]
  },
  {
   "cell_type": "code",
   "execution_count": 4,
   "metadata": {},
   "outputs": [],
   "source": [
    "emma = gutenberg.raw('austen-emma.txt')\n",
    "persuasion = gutenberg.raw('austen-persuasion.txt')\n",
    "sense = gutenberg.raw('austen-sense.txt')"
   ]
  },
  {
   "attachments": {},
   "cell_type": "markdown",
   "metadata": {},
   "source": [
    "## Normalizacja tekstu"
   ]
  },
  {
   "cell_type": "code",
   "execution_count": 13,
   "metadata": {},
   "outputs": [],
   "source": [
    "def clean_book(book):\n",
    "    book = re.sub(\"\\s{2,}\", \" \", book)\n",
    "    book = book.lower()\n",
    "    book = re.sub(r'[^\\w\\s]', '', book) # Usuwa znaki specjalne\n",
    "    book = re.sub(r'\\d+', '', book)     # Usuwa cyfry\n",
    "    book = re.sub(r'_[^\\s]+', '', book) # Usuwa słowa po _\n",
    "    book = re.sub(\"\\n\", \" \", book)  # Usuwa znaki nowej linii\n",
    "    book = re.sub(\"\\n\\n\", \" \", book)  \n",
    "    book = re.sub(\"\\s{2,}\", \" \", book) \n",
    "    book = book.strip()\n",
    "\n",
    "    return book\n",
    "\n",
    "cleaned_emma = clean_book(emma)\n",
    "cleaned_persuasion = clean_book(persuasion)\n",
    "cleaned_sense = clean_book(sense)"
   ]
  },
  {
   "attachments": {},
   "cell_type": "markdown",
   "metadata": {},
   "source": [
    "## Tokenizacja"
   ]
  },
  {
   "cell_type": "code",
   "execution_count": 14,
   "metadata": {},
   "outputs": [],
   "source": [
    "tokens_emma = word_tokenize(cleaned_emma)\n",
    "tokens_persuasion = word_tokenize(cleaned_persuasion)\n",
    "tokens_sense = word_tokenize(cleaned_sense)"
   ]
  },
  {
   "attachments": {},
   "cell_type": "markdown",
   "metadata": {},
   "source": [
    "## Stop lista\n",
    "\n",
    "#### Zastosowano stoplistę z biblioteki Spacy ze względu, iż zawiera dużo większą liczbę słów. "
   ]
  },
  {
   "cell_type": "code",
   "execution_count": 15,
   "metadata": {},
   "outputs": [],
   "source": [
    "en = spacy.load('en_core_web_sm')\n",
    "stopwords = en.Defaults.stop_words \n",
    "\n",
    "terms_emma = [el for el in tokens_emma if el not in stopwords]\n",
    "terms_persuasion = [el for el in tokens_persuasion if el not in stopwords]\n",
    "terms_sense = [el for el in tokens_sense if el not in stopwords]"
   ]
  },
  {
   "attachments": {},
   "cell_type": "markdown",
   "metadata": {},
   "source": [
    "## Stemming"
   ]
  },
  {
   "cell_type": "code",
   "execution_count": 16,
   "metadata": {},
   "outputs": [],
   "source": [
    "stemmer = SnowballStemmer(\"english\")\n",
    "\n",
    "terms_stem_emma = [stemmer.stem(el) for el in terms_emma]\n",
    "terms_stem_persuasion = [stemmer.stem(el) for el in terms_persuasion]\n",
    "terms_stem_sense = [stemmer.stem(el) for el in terms_sense]\n"
   ]
  },
  {
   "attachments": {},
   "cell_type": "markdown",
   "metadata": {},
   "source": [
    "## Manualna stop lista\n",
    "\n",
    "#### Dodatkowo manualnie usunięto słowa, które pojawiają się często a nie mają znaczenia dla zdania oraz resztki słów, których znaczenie zostało zatracone po stemmingu. Dodatkowo usunięto imię oraz nazwisko autorki, które mogło pojawić się w tekście. "
   ]
  },
  {
   "cell_type": "code",
   "execution_count": 17,
   "metadata": {},
   "outputs": [],
   "source": [
    "stoplist = ['volum','unit', 'vex', 'miss', 'be', 'mr', 'mrs', 'chapter', 'veri', \"sir\", \"idl\", \"esq\", \"paragraph\", \"page\", \"much\", \"jane\", \"austen\"]\n",
    "\n",
    "terms_stem_emma = [el for el in terms_stem_emma if el not in stoplist]\n",
    "terms_stem_persuasion = [el for el in terms_stem_persuasion if el not in stoplist]\n",
    "terms_stem_sense = [el for el in terms_stem_sense if el not in stoplist]"
   ]
  },
  {
   "attachments": {},
   "cell_type": "markdown",
   "metadata": {},
   "source": [
    "## Zliczenie wystąpień"
   ]
  },
  {
   "cell_type": "code",
   "execution_count": 8,
   "metadata": {},
   "outputs": [],
   "source": [
    "def counting_collections(termy, amount):\n",
    "    unikaty = list(set(termy))\n",
    "    bow = {unikat: termy.count(unikat) for unikat in unikaty}\n",
    "    bow_naj = {unikat: liczba for unikat, liczba in bow.items() if liczba >= amount}\n",
    "    bow_naj_sort = {unikat: liczba for unikat, liczba in sorted(bow_naj.items(), key=lambda el: el[1])}\n",
    "\n",
    "    return bow_naj_sort"
   ]
  },
  {
   "attachments": {},
   "cell_type": "markdown",
   "metadata": {},
   "source": [
    "## Najczęściej występujące termy"
   ]
  },
  {
   "attachments": {},
   "cell_type": "markdown",
   "metadata": {},
   "source": [
    "#### Dla każdej z książek"
   ]
  },
  {
   "cell_type": "code",
   "execution_count": 10,
   "metadata": {},
   "outputs": [],
   "source": [
    "bow_naj_sort_emma = counting_collections(terms_stem_emma, 250)\n",
    "bow_naj_sort_persuasion = counting_collections(terms_stem_persuasion, 120)\n",
    "bow_naj_sort_sense = counting_collections(terms_stem_sense, 150)"
   ]
  },
  {
   "attachments": {},
   "cell_type": "markdown",
   "metadata": {},
   "source": [
    "#### Tylko dla książki \"Emma\""
   ]
  },
  {
   "cell_type": "code",
   "execution_count": 11,
   "metadata": {},
   "outputs": [],
   "source": [
    "terms_only_emma = [el for el in terms_stem_emma if el not in terms_stem_persuasion and el not in terms_stem_sense]\n",
    "bow_naj_sort_only_emma = counting_collections(terms_only_emma, 50)"
   ]
  },
  {
   "attachments": {},
   "cell_type": "markdown",
   "metadata": {},
   "source": [
    "#### Tylko dla książki \"Persuasion\""
   ]
  },
  {
   "cell_type": "code",
   "execution_count": 12,
   "metadata": {},
   "outputs": [],
   "source": [
    "terms_only_persuasion = [el for el in terms_stem_persuasion if el not in terms_stem_emma and el not in terms_stem_sense]\n",
    "bow_naj_sort_only_persuasion = counting_collections(terms_only_persuasion, 50)"
   ]
  },
  {
   "attachments": {},
   "cell_type": "markdown",
   "metadata": {},
   "source": [
    "#### Tylko dla książki \"Sense and Sensibility\""
   ]
  },
  {
   "cell_type": "code",
   "execution_count": 13,
   "metadata": {},
   "outputs": [],
   "source": [
    "terms_only_sense = [el for el in terms_stem_sense if el not in terms_stem_emma and el not in terms_stem_persuasion]\n",
    "bow_naj_sort_only_sense = counting_collections(terms_only_sense, 50)"
   ]
  },
  {
   "attachments": {},
   "cell_type": "markdown",
   "metadata": {},
   "source": [
    "#### Termy dla wszystkich książek"
   ]
  },
  {
   "cell_type": "code",
   "execution_count": 14,
   "metadata": {},
   "outputs": [],
   "source": [
    "terms_all = [el for el in terms_stem_emma if el in terms_stem_persuasion and el in terms_stem_sense]\n",
    "bow_naj_sort_all = counting_collections(terms_all, 235)"
   ]
  },
  {
   "attachments": {},
   "cell_type": "markdown",
   "metadata": {},
   "source": [
    "## Wizualizacja"
   ]
  },
  {
   "attachments": {},
   "cell_type": "markdown",
   "metadata": {},
   "source": [
    "### Wykres termów najczęściej występujących w książce \"Emma\""
   ]
  },
  {
   "cell_type": "code",
   "execution_count": 23,
   "metadata": {},
   "outputs": [
    {
     "data": {
      "image/png": "[encoded data removed]",
      "text/plain": [
       "<Figure size 640x480 with 1 Axes>"
      ]
     },
     "metadata": {},
     "output_type": "display_data"
    }
   ],
   "source": [
    "plt.barh(range(len(bow_naj_sort_emma)), bow_naj_sort_emma.values(), align='center')\n",
    "plt.yticks(range(len(bow_naj_sort_emma)), list(bow_naj_sort_emma.keys()))\n",
    "plt.title('Wykres najczęściej występujących termów w książce \"Emma\"')\n",
    "plt.show()"
   ]
  },
  {
   "attachments": {},
   "cell_type": "markdown",
   "metadata": {},
   "source": [
    "Najczęściej występującym słowem w książce \"Emma\" jest imie tytułowej bohaterki i występuje aż ponad 800 razy. Bardzo popularne słowa w tej książce to \"Harriet\", \"said\", \"think\", \"thing\" oraz \"Weston\" i występują około 500 razy w tej powieści. W okolicach 400 wystąpień znajdujemy słowa \"Elton\", \"know\", \"Knightley\" oraz \"littl\" (little). Pozostałe najczęściej występujące słowa pojawiają się częściej niż 250 razy."
   ]
  },
  {
   "attachments": {},
   "cell_type": "markdown",
   "metadata": {},
   "source": [
    "### Wykres termów najczęściej występujących w książce \"Persuasion\""
   ]
  },
  {
   "cell_type": "code",
   "execution_count": 22,
   "metadata": {},
   "outputs": [
    {
     "data": {
      "image/png": "[encoded data removed]",
      "text/plain": [
       "<Figure size 640x480 with 1 Axes>"
      ]
     },
     "metadata": {},
     "output_type": "display_data"
    }
   ],
   "source": [
    "plt.barh(range(len(bow_naj_sort_persuasion)), bow_naj_sort_persuasion.values(), align='center')\n",
    "plt.yticks(range(len(bow_naj_sort_persuasion)), list(bow_naj_sort_persuasion.keys()))\n",
    "plt.title('Wykres najczęściej występujących termów w książce \"Persuasion\"')\n",
    "plt.show()"
   ]
  },
  {
   "attachments": {},
   "cell_type": "markdown",
   "metadata": {},
   "source": [
    "Najczęściej występującym słowem w książce \"Persuasion\" jest imie głównej bohaterki \"Ann\" i występuje około 500 razy. Słowa występujące ponad 300 razy to \"captain\" oraz \"Eliot\". Kapitan jest to drugi z głównych bohaterów, natomiast słowo \"Eliot\" to nazwisko głównej bohaterki.\n",
    "Powyżej 200 razy pojawiają się słowa \"ladi\" (lady) oraz \"Wentworth\" i oba dotyczą opisu bohaterów. Pozostałe najczęściej występujące słowa pojawiają się częściej niż 120 razy."
   ]
  },
  {
   "attachments": {},
   "cell_type": "markdown",
   "metadata": {},
   "source": [
    "### Wykres termów najczęściej występujących w książce \"Sense and Sensibility\""
   ]
  },
  {
   "cell_type": "code",
   "execution_count": 21,
   "metadata": {},
   "outputs": [
    {
     "data": {
      "image/png": "[encoded data removed]",
      "text/plain": [
       "<Figure size 640x480 with 1 Axes>"
      ]
     },
     "metadata": {},
     "output_type": "display_data"
    }
   ],
   "source": [
    "plt.barh(range(len(bow_naj_sort_sense)), bow_naj_sort_sense.values(), align='center')\n",
    "plt.yticks(range(len(bow_naj_sort_sense)), list(bow_naj_sort_sense.keys()))\n",
    "plt.title('Wykres najczęściej występujących termów w książce \"Sense and Sensibility\"')\n",
    "plt.show()"
   ]
  },
  {
   "attachments": {},
   "cell_type": "markdown",
   "metadata": {},
   "source": [
    "Najczęściej występującym słowem w książce \"Sense and Sensibility\" jest imie jednej z głównych bohaterek - starszej siostry \"Elinor\". Pojawia się ono około 700 razy. Kolejno około 550 razy występuje imie młodszej z sióstr \"Mariann\" (Marianne). Ponad 400 razy występuje słowo \"said\", które jest często używanym słowem w powieściach w celu poinformowania czytelnika, który z bohaterów wypowiedział dane zdanie. Słowo \"sister\" występuje ponad 300 razy, co nie jest zaskakującym, ze względu na stopień pokrewieństwa dwóch głównych bohaterek. Pozostałe najczęściej występujące słowa pojawiają się w tekście ponad 150 razy. "
   ]
  },
  {
   "attachments": {},
   "cell_type": "markdown",
   "metadata": {},
   "source": [
    "##### Podsumowując, w badanych książkach najczęściej pojawiają się imiona oraz nazwiska bohaterów. Dodatkowo można zaobserwować słowa określające bohatera takie jak mother, sister, ladi (lady). W książkach \"Emma\" oraz \"Sense and Sensibility\" często pojawia się słowo \"good\" oraz \"thought\". W książce \"Persuasion\" można zaobserwować podobną częstość występowania słowa \"great\". Również słowo \"time\" pojawia się często w dwóch z analizowanych książek (\"Emma\", \"Persuasion\"). We wszystkich analizowanych książkach pojawia się również przymiotnik \"littl\" (little)."
   ]
  },
  {
   "attachments": {},
   "cell_type": "markdown",
   "metadata": {},
   "source": [
    "### Wykres termów pojawiających się najczęsciej w książce \"Emma\", a nie pojawiających się w pozostałych książkach"
   ]
  },
  {
   "cell_type": "code",
   "execution_count": 24,
   "metadata": {},
   "outputs": [
    {
     "data": {
      "image/png": "[encoded data removed]",
      "text/plain": [
       "<Figure size 640x480 with 1 Axes>"
      ]
     },
     "metadata": {},
     "output_type": "display_data"
    }
   ],
   "source": [
    "plt.barh(range(len(bow_naj_sort_only_emma)), bow_naj_sort_only_emma.values(), align='center')\n",
    "plt.yticks(range(len(bow_naj_sort_only_emma)), list(bow_naj_sort_only_emma.keys()))\n",
    "plt.title('Wykres najczęściej występujących termów charakterystycznych dla książki \"Emma\"')\n",
    "plt.show()"
   ]
  },
  {
   "attachments": {},
   "cell_type": "markdown",
   "metadata": {},
   "source": [
    "Jak można zauważyć na wykresie, słowo \"Emma\" mimo, iż było najczęściej pojawiającym się słowem dla tej książki, nie jest słowem jednoznacznie determinującym tę książkę. Natomiast, drugie z najpopularniejszych słów pojawia się na obu wykresach co oznacza, że jest słowem charakterystycznym dla tej pozycji. Pozostałe najczęściej występujące słowa, które są charakterystyczne dla książki \"Emma\" to imiona bądź nazwiska bohaterów"
   ]
  },
  {
   "attachments": {},
   "cell_type": "markdown",
   "metadata": {},
   "source": [
    "### Wykres termów pojawiających się najczęściej w książce \"Persuasion\", a nie pojawiających się dla innych książek"
   ]
  },
  {
   "cell_type": "code",
   "execution_count": 25,
   "metadata": {},
   "outputs": [
    {
     "data": {
      "image/png": "[encoded data removed]",
      "text/plain": [
       "<Figure size 640x480 with 1 Axes>"
      ]
     },
     "metadata": {},
     "output_type": "display_data"
    }
   ],
   "source": [
    "plt.barh(range(len(bow_naj_sort_only_persuasion)), bow_naj_sort_only_persuasion.values(), align='center')\n",
    "plt.yticks(range(len(bow_naj_sort_only_persuasion)), list(bow_naj_sort_only_persuasion.keys()))\n",
    "plt.title('Wykres najczęściej występujących termów charakterystycznych dla książki \"Persuasion\"')\n",
    "plt.show()"
   ]
  },
  {
   "attachments": {},
   "cell_type": "markdown",
   "metadata": {},
   "source": [
    "Najczęściej występującym słowem charakterystycznym dla powieści \"Persuasion\" jest nazwisko głównej bohaterki - \"Eliot\". Podobnie jak poprzednio dwa najczęściej występujące słowa (\"ann\" oraz \"captain\") nie są słowami charakterystycznymi dla tej książki. Pozostałe słowa charakterystyczne dla tej pozycji których częstość wystąpień wynosi ponad 50 to imiona i nazwiska bohaterów oraz nazwy własne (np. \"uppercross\" - prawdopodobnie nazwa ulicy). "
   ]
  },
  {
   "attachments": {},
   "cell_type": "markdown",
   "metadata": {},
   "source": [
    "### Wykres termów pojawiających się najczęściej dla książki \"Sense and Sensibility\", a nie pojawiających się dla innych książek"
   ]
  },
  {
   "cell_type": "code",
   "execution_count": 26,
   "metadata": {},
   "outputs": [
    {
     "data": {
      "image/png": "[encoded data removed]",
      "text/plain": [
       "<Figure size 640x480 with 1 Axes>"
      ]
     },
     "metadata": {},
     "output_type": "display_data"
    }
   ],
   "source": [
    "plt.barh(range(len(bow_naj_sort_only_sense)), bow_naj_sort_only_sense.values(), align='center')\n",
    "plt.yticks(range(len(bow_naj_sort_only_sense)), list(bow_naj_sort_only_sense.keys()))\n",
    "plt.title('Wykres najczęściej występujących termów charakterystycznych dla książki \"Sense and Sensibility\"')\n",
    "plt.show()"
   ]
  },
  {
   "attachments": {},
   "cell_type": "markdown",
   "metadata": {},
   "source": [
    "Najczęściej występujące słowa dla powieści \"Sense and Sensibility\" są też najczęściej występującymi słowami charakterystycznymi dla tej książki. Są to imiona głównych bohaterek \"Elinor\" oraz \"Mariann\" (Marianne). Pozostałe najczęściej występujące termy charakterystyczne dla tej książki to tak jak w pozostałych przypadkach głównie imiona lub nazwiska bohaterów. "
   ]
  },
  {
   "attachments": {},
   "cell_type": "markdown",
   "metadata": {},
   "source": [
    "##### Ograniczając najczęściej występujące słowa badanych książek do słów charakterystycznych dla konkretnej książki, tj. słów, które pojawiają się tylko w jednej książce a nie pojawiają się w pozostałych książkach obserwujemy, że najczęściej pojawiające się słowa to imiona lub nazwiska bohaterów. Bez tego ograniczenia obserwowano również inne słowa takie jak np. \"good\", \"great\", \"thought\" oraz \"time\", czyli słowa, które można uznać za popularne."
   ]
  },
  {
   "attachments": {},
   "cell_type": "markdown",
   "metadata": {},
   "source": [
    "### Wykres najczęściej występujących słów we wszystkich książkach"
   ]
  },
  {
   "cell_type": "code",
   "execution_count": 27,
   "metadata": {},
   "outputs": [
    {
     "data": {
      "image/png": "[encoded data removed]",
      "text/plain": [
       "<Figure size 640x480 with 1 Axes>"
      ]
     },
     "metadata": {},
     "output_type": "display_data"
    }
   ],
   "source": [
    "plt.barh(range(len(bow_naj_sort_all)), bow_naj_sort_all.values(), align='center')\n",
    "plt.yticks(range(len(bow_naj_sort_all)), list(bow_naj_sort_all.keys()))\n",
    "plt.title('Najczęściej występujące termy we wszystkich książkach')\n",
    "plt.show()"
   ]
  },
  {
   "attachments": {},
   "cell_type": "markdown",
   "metadata": {},
   "source": [
    "Na liście najpopularniejszych słów dla wszystkich książek pojawiają się słowa wymienione wcześniej - takie jak \"great\", \"good\", \"thought\", \"time\" czy \"littl\" (little). Najpopularniejszym słowem we wszystkich książkach jest słowo \"said\", a następnie słowo \"think\", co nie jest zaskakujące z racji charakteru książki, gdzie często pojawiają się opisy kto co powiedział lub pomyślał. "
   ]
  },
  {
   "attachments": {},
   "cell_type": "markdown",
   "metadata": {},
   "source": [
    "## Chmura wyrazów"
   ]
  },
  {
   "attachments": {},
   "cell_type": "markdown",
   "metadata": {},
   "source": [
    "### Chmura słów najczęściej występujących termów dla książki \"Emma\""
   ]
  },
  {
   "cell_type": "code",
   "execution_count": 28,
   "metadata": {},
   "outputs": [
    {
     "data": {
      "image/png": "[encoded data removed]",
      "text/plain": [
       "<Figure size 640x480 with 1 Axes>"
      ]
     },
     "metadata": {},
     "output_type": "display_data"
    }
   ],
   "source": [
    "wordcloud = WordCloud(background_color=\"white\").generate_from_frequencies(bow_naj_sort_emma)\n",
    "\n",
    "plt.imshow(wordcloud, interpolation='bilinear')\n",
    "plt.axis(\"off\")\n",
    "plt.show()"
   ]
  },
  {
   "attachments": {},
   "cell_type": "markdown",
   "metadata": {},
   "source": [
    "Jak widać na chmurze słów najczęściej pojawiają się termy \"emma\" oraz \"harriet\". Są to imiona głównych bohaterek książki. \n",
    "W książce znajdują się dialogi oraz przemyślenia bohaterów stąd pojawiają się słowa \"said\" lub \"think\". Imiona lub nazwiska pozostałych bohaterów również często się pojawiają.  \n",
    "Pozostałe słowa pojawiające się na chmurze słowa nie są termami specyficznymi. Są to słowa popularne dla wielu tekstów, co może powodować trudności w dalszej klasyfikacji tej książki. "
   ]
  },
  {
   "attachments": {},
   "cell_type": "markdown",
   "metadata": {},
   "source": [
    "### Chmura słów dla najczęściej występujących termów dla książki \"Persuasion\""
   ]
  },
  {
   "cell_type": "code",
   "execution_count": 29,
   "metadata": {},
   "outputs": [
    {
     "data": {
      "image/png": "[encoded data removed]",
      "text/plain": [
       "<Figure size 640x480 with 1 Axes>"
      ]
     },
     "metadata": {},
     "output_type": "display_data"
    }
   ],
   "source": [
    "wordcloud = WordCloud(background_color=\"white\").generate_from_frequencies(bow_naj_sort_persuasion)\n",
    "\n",
    "plt.imshow(wordcloud, interpolation='bilinear')\n",
    "plt.axis(\"off\")\n",
    "plt.show()"
   ]
  },
  {
   "attachments": {},
   "cell_type": "markdown",
   "metadata": {},
   "source": [
    "Dla książki \"Persuasion\" najpopularniejszymi słowami są \"ann\", \"captain\", \"elliot\", \"ladi\" oraz \"wentworth\". Są to imiona lub opisy bohaterów. Następnie często pojawiają się słowa \"said\" oraz \"think\", co zostało już przeanalizowane powyżej. Do listy słów niespecyficznych można dołączyć słowa \"feel\", \"good\" oraz \"littl\" (little). Są to bardzo powszechne słowa i nie są charakterystyczne tylko dla jednej książki bądź tekstu. "
   ]
  },
  {
   "attachments": {},
   "cell_type": "markdown",
   "metadata": {},
   "source": [
    "### Chmura słów dla najczęściej występujących termów dla książki \"Sense and Sensibility\""
   ]
  },
  {
   "cell_type": "code",
   "execution_count": 30,
   "metadata": {},
   "outputs": [
    {
     "data": {
      "image/png": "[encoded data removed]",
      "text/plain": [
       "<Figure size 640x480 with 1 Axes>"
      ]
     },
     "metadata": {},
     "output_type": "display_data"
    }
   ],
   "source": [
    "wordcloud = WordCloud(background_color=\"white\").generate_from_frequencies(bow_naj_sort_sense)\n",
    "\n",
    "plt.imshow(wordcloud, interpolation='bilinear')\n",
    "plt.axis(\"off\")\n",
    "plt.show()"
   ]
  },
  {
   "attachments": {},
   "cell_type": "markdown",
   "metadata": {},
   "source": [
    "Podobnie jak dla pozostałych pozycji najczęściej występujące słowa to imiona lub nazwiska bohaterów takie jak \"mariann\", \"elinor\", \"edward\" czy \"dashwood\". Dodatkowo książka opowiada historię dwóch sióstr stąd popularnym słowem jest słowo \"sistrer\". Ważną dla książki bohaterką jest też matka - stąd częstym słowem jest słowo \"mother\". Następnie widać słowa omawiane dla dwóch poprzednich książek czyli \"said\" oraz \"think\". Częstym słowem jest też słowo \"time\", które również nie jest charakterystycznym słowem. "
   ]
  },
  {
   "attachments": {},
   "cell_type": "markdown",
   "metadata": {},
   "source": [
    "##### Podsumowując, słowa, które mogą bezpośrednio charakteryzować książki to imiona bohaterów. Reszta często występujących słów to popularne przymiotniki lub czasowniki, które nie są charakterystyczne dla konkretnego tekstu. "
   ]
  },
  {
   "attachments": {},
   "cell_type": "markdown",
   "metadata": {},
   "source": [
    "### Chmura słów dla najczęśćiej występujących termów we wszystkich analizowanych książkach"
   ]
  },
  {
   "cell_type": "code",
   "execution_count": 31,
   "metadata": {},
   "outputs": [
    {
     "data": {
      "image/png": "[encoded data removed]",
      "text/plain": [
       "<Figure size 640x480 with 1 Axes>"
      ]
     },
     "metadata": {},
     "output_type": "display_data"
    }
   ],
   "source": [
    "wordcloud = WordCloud(background_color=\"white\").generate_from_frequencies(bow_naj_sort_all)\n",
    "\n",
    "plt.imshow(wordcloud, interpolation='bilinear')\n",
    "plt.axis(\"off\")\n",
    "plt.show()"
   ]
  },
  {
   "attachments": {},
   "cell_type": "markdown",
   "metadata": {},
   "source": [
    "Słowa pojawiające się dla wszystkich książek to popularne czasowniki oraz przymiotniki. W książkach często pojawiają się opisy o tym kto co powiedział, pomyślał, wiedział czy poczuł - z tego względu pojawiają się termy takie jak \"said\", \"think\", \"know\" czy \"feel\". Dodatkowo częstym słowem w języku angielskim jest \"time\". Określenia czasu równie często pojawiają się w różnych książkach. Pozostałe słowa to głównie ppopularne przymiotniki lub rzeczowniki takie jak \"little\", \"friend\", \"good\" czy \"great\". \n",
    "Dodatkowo można zauważyć, że większość słów poza czasownikami są słowami, które można uznać za pozytywne, co może wpływać na dalszą analizę nastroju. "
   ]
  },
  {
   "attachments": {},
   "cell_type": "markdown",
   "metadata": {},
   "source": [
    "## Macierz dokument-term"
   ]
  },
  {
   "cell_type": "code",
   "execution_count": 32,
   "metadata": {},
   "outputs": [
    {
     "name": "stdout",
     "output_type": "stream",
     "text": [
      "Wszystkich termów jest 131418, ale unikatowych jest 9029.\n"
     ]
    }
   ],
   "source": [
    "documents = [terms_stem_emma, terms_stem_persuasion, terms_stem_sense]\n",
    "unikaty = list(set([term for document in documents for term in document]))\n",
    "print(f'Wszystkich termów jest {sum(len(array) for array in documents)}, ale unikatowych jest {len(unikaty)}.')"
   ]
  },
  {
   "cell_type": "code",
   "execution_count": 33,
   "metadata": {},
   "outputs": [],
   "source": [
    "def create_dtm(documents, unikaty):    \n",
    "    matrix = np.zeros((len(documents), len(unikaty)), int)\n",
    "    \n",
    "    for doc_idx, document in enumerate(documents):\n",
    "        for term in document:\n",
    "            term_idx = unikaty.index(term)\n",
    "            matrix[doc_idx, term_idx] += 1\n",
    "                    \n",
    "    return matrix"
   ]
  },
  {
   "cell_type": "code",
   "execution_count": 34,
   "metadata": {},
   "outputs": [
    {
     "name": "stdout",
     "output_type": "stream",
     "text": [
      "[[17  1  0 ...  1 10  0]\n",
      " [ 7  0  0 ...  0  1  0]\n",
      " [ 4  0  2 ...  0  9  1]]\n"
     ]
    }
   ],
   "source": [
    "doc_term_matrix = create_dtm(documents, unikaty)\n",
    "print(doc_term_matrix)"
   ]
  },
  {
   "cell_type": "code",
   "execution_count": 35,
   "metadata": {},
   "outputs": [
    {
     "name": "stdout",
     "output_type": "stream",
     "text": [
      "[[17  7  4]\n",
      " [ 1  0  0]\n",
      " [ 0  0  2]\n",
      " ...\n",
      " [ 1  0  0]\n",
      " [10  1  9]\n",
      " [ 0  0  1]]\n"
     ]
    }
   ],
   "source": [
    "term_doc_matrix = np.transpose(doc_term_matrix)\n",
    "print(term_doc_matrix)"
   ]
  },
  {
   "attachments": {},
   "cell_type": "markdown",
   "metadata": {},
   "source": [
    "#### Rozkład najliczniejszych termów"
   ]
  },
  {
   "cell_type": "code",
   "execution_count": 55,
   "metadata": {},
   "outputs": [],
   "source": [
    "suma_col=doc_term_matrix.sum(axis=0)\n",
    "bow = list(zip(unikaty, suma_col))\n",
    "bow.sort(key=lambda el: el[1])"
   ]
  },
  {
   "cell_type": "code",
   "execution_count": 57,
   "metadata": {},
   "outputs": [
    {
     "data": {
      "image/png": "[encoded data removed]",
      "text/plain": [
       "<Figure size 640x480 with 1 Axes>"
      ]
     },
     "metadata": {},
     "output_type": "display_data"
    }
   ],
   "source": [
    "plt.barh(*zip(*bow[-20:]), align='center')\n",
    "plt.title(\"Rozkład najczęstszych termów\")\n",
    "plt.show()"
   ]
  },
  {
   "attachments": {},
   "cell_type": "markdown",
   "metadata": {},
   "source": [
    "Jak można zaobserwować, najczęściej występującym termem jest term \"said\". W każdej z powieści pojawiają się dialogi, do których używane jest słówo \"said\" aby określić który bohater wypowiedział dane zdanie. Kolejnym termem pod względem częstości występowania jest term \"think\", które pojawia się równie często w różnych powieściach jako oznaczenie przemyśleń bohatera. Trzecim najpopularniejszym termem jest \"Emma\". Ten term pojawia się w książce \"Emma\" ponad 800 razy. "
   ]
  },
  {
   "attachments": {},
   "cell_type": "markdown",
   "metadata": {},
   "source": [
    "## Analiza wątków"
   ]
  },
  {
   "cell_type": "code",
   "execution_count": 36,
   "metadata": {},
   "outputs": [
    {
     "data": {
      "text/plain": [
       "array([1, 2, 0], dtype=int64)"
      ]
     },
     "execution_count": 36,
     "metadata": {},
     "output_type": "execute_result"
    }
   ],
   "source": [
    "model_h = AgglomerativeClustering(n_clusters=None, distance_threshold = 0, metric = \"euclidean\", linkage ='ward')\n",
    "model_h.fit_predict(doc_term_matrix)"
   ]
  },
  {
   "cell_type": "code",
   "execution_count": 37,
   "metadata": {},
   "outputs": [],
   "source": [
    "def plot_dendrogram(model, **kwargs):\n",
    "    counts = np.zeros(model.children_.shape[0])\n",
    "    n_samples = len(model.labels_)\n",
    "    for i, merge in enumerate(model.children_):\n",
    "        current_count = 0\n",
    "        for child_idx in merge:\n",
    "            if child_idx < n_samples:\n",
    "                current_count += 1 \n",
    "            else:\n",
    "                current_count += counts[child_idx - n_samples]\n",
    "        counts[i] = current_count\n",
    "\n",
    "    linkage_matrix = np.column_stack([model.children_, model.distances_,\n",
    "                                      counts]).astype(float)\n",
    "\n",
    "    dendrogram(linkage_matrix, **kwargs)"
   ]
  },
  {
   "cell_type": "code",
   "execution_count": 38,
   "metadata": {},
   "outputs": [
    {
     "data": {
      "image/png": "[encoded data removed]",
      "text/plain": [
       "<Figure size 640x480 with 1 Axes>"
      ]
     },
     "metadata": {},
     "output_type": "display_data"
    }
   ],
   "source": [
    "plt.title('Dendrogram')\n",
    "plot_dendrogram(model_h, truncate_mode='level', p=3)\n",
    "plt.xlabel(\"Jane Austen books\")\n",
    "plt.show()"
   ]
  },
  {
   "attachments": {},
   "cell_type": "markdown",
   "metadata": {},
   "source": [
    "Jak można zaobserwować na dendrogramie analizowane książki autorstwa Jane Austen można podzielić na dwie grupy, z czego druga z nich dzieli się na kolejne dwie. Taki wynik mówi nam o tym, że dwie książki są ze sobą powiązane wspólnym wątkiem. Natomiast jedna z nich obejmuje inny wątek.\n",
    "Według tej analizy książka \"Emma\" (0) jest najmniej podobna do dwóch pozostałych książek. Książki \"Persuasion\" (1) oraz \"Sense and Sensibility\" (2) są uznane za podobne. Jednakże taka analiza dla tak małej ilości książek nie jest wiarygodna oraz nie daje jednoznacznych wyników. "
   ]
  },
  {
   "attachments": {},
   "cell_type": "markdown",
   "metadata": {},
   "source": [
    "### LDA "
   ]
  },
  {
   "attachments": {},
   "cell_type": "markdown",
   "metadata": {},
   "source": [
    "Latent Dirichlet Allocation (LDA) to popularny model do analizy tematycznej. LDA zakłada, że każdy dokument w korpusie jest kombinacją różnych tematów, a każde słowo w dokumencie jest przypisane do jednego z tych tematów. LDA jest modelem probabilistycznym i pozwala na odkrywanie ukrytych tematów, które wyjaśniają obecność pewnych słów w różnych dokumentach."
   ]
  },
  {
   "cell_type": "code",
   "execution_count": 430,
   "metadata": {},
   "outputs": [],
   "source": [
    "terms = terms_stem_emma + terms_stem_persuasion + terms_stem_sense\n",
    "\n",
    "dictionary = corpora.Dictionary([terms])\n",
    "\n",
    "# Tworzenie korpusu\n",
    "corpus = [dictionary.doc2bow([sentence]) for sentence in terms]\n",
    "\n",
    "#Model TF-IDF\n",
    "tfidf = TfidfModel(corpus)\n",
    "\n",
    "# tworzenie korpusu\n",
    "corpus = [dictionary.doc2bow([sentence]) for sentence in terms]"
   ]
  },
  {
   "cell_type": "code",
   "execution_count": 431,
   "metadata": {},
   "outputs": [
    {
     "name": "stdout",
     "output_type": "stream",
     "text": [
      "(0, '0.039*\"elinor\" + 0.031*\"mariann\" + 0.019*\"said\" + 0.018*\"edward\" + 0.017*\"sister\" + 0.017*\"time\" + 0.015*\"dashwood\" + 0.014*\"think\" + 0.014*\"mother\" + 0.009*\"ferrar\"')\n",
      "(1, '0.015*\"colonel\" + 0.015*\"luci\" + 0.014*\"thing\" + 0.013*\"jen\" + 0.012*\"soon\" + 0.012*\"happi\" + 0.012*\"brandon\" + 0.010*\"great\" + 0.010*\"friend\" + 0.009*\"good\"')\n",
      "(2, '0.017*\"know\" + 0.013*\"day\" + 0.012*\"wish\" + 0.012*\"feel\" + 0.011*\"look\" + 0.011*\"willoughbi\" + 0.010*\"heart\" + 0.010*\"littl\" + 0.010*\"thought\" + 0.010*\"engag\"')\n"
     ]
    }
   ],
   "source": [
    "num_topics = 3\n",
    "\n",
    "# Tworzenie modelu LDA\n",
    "lda_model = gensim.models.LdaModel(corpus=corpus, id2word=dictionary, num_topics=num_topics)\n",
    "\n",
    "# Wypisanie tematów\n",
    "topics = lda_model.print_topics(num_words=10)\n",
    "for topic in topics:\n",
    "    print(topic)\n"
   ]
  },
  {
   "attachments": {},
   "cell_type": "markdown",
   "metadata": {},
   "source": [
    "Analiza modelu LDA wyodrębniła 3 tematy. \n",
    "W pierwszym z nich można zaobserwować imiona głównych bohaterek książki \"Sense and Sensibility\". Następnie widnieją termy takie jak: \"edward\", \"sister\", \"dashwood\" czy \"mother\" co również jest zbieżne z treścią tej książki. Pozostałe słowa wyodrębnione to \"said\", \"think\" czy \"time\", które pojawiały się w najczęściej występujących słowach dla tej książki. Wartości przed termami również poprawnie odwierciedlają częstość występowania tych słów dla książki \"Sense and Sensibility\". Można zatem stwierdzić, że model prawidłowo wykrył główny wątek tej powieści.  \n",
    "Natomiast model drugi i trzeci są zbiorem losowych słów, z których ciężko wyodrębnić konkretny wątek. Można przypuszczać, że drugi z nich dotyczy przyjaźni. Trzeci może dotyczyć bohaterki \"willoughbi\", lecz również ze względu na dobór słów nie jest możliwe dokładniejsze przybliżenie jego. \n",
    "Oba natomiast zawierają termy przedstawiające imiona bohaterów książki \"Sense and Sensibility\" stąd można przypuszczać, że opisują poboczne wątki tej pozycji. \n",
    "Założenie 3 tematów miało na celu wykrycie głównych wątków dla każdej z analizowanych powieści. Niestety modelowanie nie spełniło tego założenia, co prawdopodobnie wynika z dużej dysproporcji danych tekstowych w zbiorze. Nie bez znaczenia jest również branie pod uwagę jedynie słów unikatowych. Wiele ze najczęściej występujących słów z książki \"Emma\" czy \"Persuasion\" nie są unikatowymi dla nich słowami. Stąd trudniej wykryć główne wątki tych książek. "
   ]
  },
  {
   "attachments": {},
   "cell_type": "markdown",
   "metadata": {},
   "source": [
    "## Podział książek na rozdziały"
   ]
  },
  {
   "attachments": {},
   "cell_type": "markdown",
   "metadata": {},
   "source": [
    "W tym celu wykonano następujące kroki:\n",
    "- Utworzono na dysku folder chapters a w nim podfoldery odpowiednio dla książek. \n",
    "- Podmieniono słowo CHAPTER na =-CHAPTER. \n",
    "- Następnie usunięto pierwszy element, który zawierał jedynie znak \"=-\".\n",
    "- Wydzielono nazwe po znaku nowej linii. \n",
    "- Podmieniono space w nazwie na znak _ w celu lepszego zapisu (i późniejszego odczytu pliku). \n",
    "- Następnie utworzono pliki z nazwą rodziału i wpisano do nich zawartość odpowiedniego rozdziału"
   ]
  },
  {
   "cell_type": "code",
   "execution_count": null,
   "metadata": {},
   "outputs": [],
   "source": [
    "formatted_text_emma = emma.replace('CHAPTER','=-CHAPTER')\n",
    "split_text_emma = formatted_text_emma.split(\"=-\")\n",
    "del split_text_emma[0]\n",
    "\n",
    "for i in split_text_emma:\n",
    "    name_emma = i.split(\"\\n\\n\")\n",
    "    form_name_emma = name_emma[0].replace(\" \", \"_\")\n",
    "    \n",
    "    with open (f\"C:/Users/Ania/Desktop/chapters/chapters_emma/{form_name_emma}.txt\",\"a+\") as f:\n",
    "        f.write(i)"
   ]
  },
  {
   "cell_type": "code",
   "execution_count": null,
   "metadata": {},
   "outputs": [],
   "source": [
    "formatted_text_persuasion = persuasion.replace('Chapter','=-Chapter')\n",
    "split_text_persuasion = formatted_text_persuasion.split(\"=-\")\n",
    "del split_text_persuasion[0]\n",
    "\n",
    "for i in split_text_persuasion:\n",
    "    name_persuasion = i.split(\"\\n\\n\")\n",
    "    form_name_persuasion = name_persuasion[0].replace(\" \", \"_\")\n",
    "    \n",
    "    with open (f\"C:/Users/Ania/Desktop/chapters/chapters_persuasion/{form_name_persuasion}.txt\",\"a+\") as f:\n",
    "        f.write(i)"
   ]
  },
  {
   "cell_type": "code",
   "execution_count": null,
   "metadata": {},
   "outputs": [],
   "source": [
    "formatted_text_sense = sense.replace('CHAPTER','=-CHAPTER')\n",
    "split_text_sense = formatted_text_sense.split(\"=-\")\n",
    "del split_text_sense[0]\n",
    "\n",
    "for i in split_text_sense:\n",
    "    name_sense = i.split(\"\\n\\n\")\n",
    "    form_name_sense = name_sense[0].replace(\" \", \"_\")\n",
    "    \n",
    "    with open (f\"C:/Users/Ania/Desktop/chapters/chapters_sense/{form_name_sense}.txt\",\"a+\") as f:\n",
    "        f.write(i)"
   ]
  },
  {
   "attachments": {},
   "cell_type": "markdown",
   "metadata": {},
   "source": [
    "## Stworzenie dataframe"
   ]
  },
  {
   "cell_type": "code",
   "execution_count": 39,
   "metadata": {},
   "outputs": [],
   "source": [
    "def split_by_chapter(directory):\n",
    "    chapters = []\n",
    "    os.chdir(f\"C:/Users/Ania/Desktop/chapters/{directory}\")\n",
    "    for filename in os.listdir(os.getcwd()):\n",
    "        with open(os.path.join(os.getcwd(), filename), 'r') as f:\n",
    "            text = f.read()\n",
    "            text = clean_book(text)\n",
    "            chapters.append(text)\n",
    "    return chapters"
   ]
  },
  {
   "attachments": {},
   "cell_type": "markdown",
   "metadata": {},
   "source": [
    "#### dla książki \"Emma\""
   ]
  },
  {
   "cell_type": "code",
   "execution_count": 40,
   "metadata": {},
   "outputs": [],
   "source": [
    "chapters_emma = split_by_chapter('chapters_emma')\n",
    "d_chapters_emma = {'text':chapters_emma}\n",
    "df_emma = pd.DataFrame(data=d_chapters_emma)"
   ]
  },
  {
   "attachments": {},
   "cell_type": "markdown",
   "metadata": {},
   "source": [
    "#### dla książki \"Persuasion\""
   ]
  },
  {
   "cell_type": "code",
   "execution_count": 41,
   "metadata": {},
   "outputs": [],
   "source": [
    "chapters_persuasion = split_by_chapter('chapters_persuasion')\n",
    "d_chapters_persuasion = {'text':chapters_persuasion}\n",
    "df_persuasion = pd.DataFrame(data=d_chapters_persuasion)"
   ]
  },
  {
   "attachments": {},
   "cell_type": "markdown",
   "metadata": {},
   "source": [
    "#### dla książki \"Sense and Sensibility\""
   ]
  },
  {
   "cell_type": "code",
   "execution_count": 42,
   "metadata": {},
   "outputs": [],
   "source": [
    "chapters_sense = split_by_chapter('chapters_sense')\n",
    "d_chapters_sense = {'text': chapters_sense}\n",
    "df_sense = pd.DataFrame(data=d_chapters_sense)"
   ]
  },
  {
   "attachments": {},
   "cell_type": "markdown",
   "metadata": {},
   "source": [
    "#### przygotowanie termów z tekstów z df_emma"
   ]
  },
  {
   "cell_type": "code",
   "execution_count": 43,
   "metadata": {},
   "outputs": [
    {
     "data": {
      "text/html": [
       "<div>\n",
       "<style scoped>\n",
       "    .dataframe tbody tr th:only-of-type {\n",
       "        vertical-align: middle;\n",
       "    }\n",
       "\n",
       "    .dataframe tbody tr th {\n",
       "        vertical-align: top;\n",
       "    }\n",
       "\n",
       "    .dataframe thead th {\n",
       "        text-align: right;\n",
       "    }\n",
       "</style>\n",
       "<table border=\"1\" class=\"dataframe\">\n",
       "  <thead>\n",
       "    <tr style=\"text-align: right;\">\n",
       "      <th></th>\n",
       "      <th>text</th>\n",
       "    </tr>\n",
       "  </thead>\n",
       "  <tbody>\n",
       "    <tr>\n",
       "      <th>0</th>\n",
       "      <td>[emma, woodhous, handsom, clever, rich, comfor...</td>\n",
       "    </tr>\n",
       "    <tr>\n",
       "      <th>1</th>\n",
       "      <td>[weston, nativ, highburi, born, respect, famil...</td>\n",
       "    </tr>\n",
       "    <tr>\n",
       "      <th>2</th>\n",
       "      <td>[woodhous, fond, societi, way, like, friend, c...</td>\n",
       "    </tr>\n",
       "    <tr>\n",
       "      <th>3</th>\n",
       "      <td>[harriet, smith, intimaci, hartfield, soon, se...</td>\n",
       "    </tr>\n",
       "    <tr>\n",
       "      <th>4</th>\n",
       "      <td>[knightley, quarrel, emma, quarrel, displeas, ...</td>\n",
       "    </tr>\n",
       "    <tr>\n",
       "      <th>5</th>\n",
       "      <td>[know, opinion, weston, said, knightley, great...</td>\n",
       "    </tr>\n",
       "    <tr>\n",
       "      <th>6</th>\n",
       "      <td>[emma, feel, doubt, have, given, harriet, fanc...</td>\n",
       "    </tr>\n",
       "    <tr>\n",
       "      <th>7</th>\n",
       "      <td>[day, elton, go, london, produc, fresh, occas,...</td>\n",
       "    </tr>\n",
       "    <tr>\n",
       "      <th>8</th>\n",
       "      <td>[harriet, slept, hartfield, night, week, past,...</td>\n",
       "    </tr>\n",
       "    <tr>\n",
       "      <th>9</th>\n",
       "      <td>[middl, decemb, weather, prevent, young, ladi,...</td>\n",
       "    </tr>\n",
       "    <tr>\n",
       "      <th>10</th>\n",
       "      <td>[elton, left, longer, emma, power, superintend...</td>\n",
       "    </tr>\n",
       "    <tr>\n",
       "      <th>11</th>\n",
       "      <td>[knightley, dine, themrath, inclin, woodhous, ...</td>\n",
       "    </tr>\n",
       "    <tr>\n",
       "      <th>12</th>\n",
       "      <td>[hard, happier, creatur, world, john, knightle...</td>\n",
       "    </tr>\n",
       "    <tr>\n",
       "      <th>13</th>\n",
       "      <td>[chang, counten, necessari, gentleman, walk, w...</td>\n",
       "    </tr>\n",
       "    <tr>\n",
       "      <th>14</th>\n",
       "      <td>[xix, emma, interv, anxious, feel, harriet, mo...</td>\n",
       "    </tr>\n",
       "    <tr>\n",
       "      <th>15</th>\n",
       "      <td>[woodhous, soon, readi, tea, drank, tea, readi...</td>\n",
       "    </tr>\n",
       "    <tr>\n",
       "      <th>16</th>\n",
       "      <td>[hair, curl, maid, sent, away, emma, sat, thin...</td>\n",
       "    </tr>\n",
       "    <tr>\n",
       "      <th>17</th>\n",
       "      <td>[john, knightley, detain, long, hartfield, wea...</td>\n",
       "    </tr>\n",
       "    <tr>\n",
       "      <th>18</th>\n",
       "      <td>[frank, churchil, come, time, propos, drew, ne...</td>\n",
       "    </tr>\n",
       "  </tbody>\n",
       "</table>\n",
       "</div>"
      ],
      "text/plain": [
       "                                                 text\n",
       "0   [emma, woodhous, handsom, clever, rich, comfor...\n",
       "1   [weston, nativ, highburi, born, respect, famil...\n",
       "2   [woodhous, fond, societi, way, like, friend, c...\n",
       "3   [harriet, smith, intimaci, hartfield, soon, se...\n",
       "4   [knightley, quarrel, emma, quarrel, displeas, ...\n",
       "5   [know, opinion, weston, said, knightley, great...\n",
       "6   [emma, feel, doubt, have, given, harriet, fanc...\n",
       "7   [day, elton, go, london, produc, fresh, occas,...\n",
       "8   [harriet, slept, hartfield, night, week, past,...\n",
       "9   [middl, decemb, weather, prevent, young, ladi,...\n",
       "10  [elton, left, longer, emma, power, superintend...\n",
       "11  [knightley, dine, themrath, inclin, woodhous, ...\n",
       "12  [hard, happier, creatur, world, john, knightle...\n",
       "13  [chang, counten, necessari, gentleman, walk, w...\n",
       "14  [xix, emma, interv, anxious, feel, harriet, mo...\n",
       "15  [woodhous, soon, readi, tea, drank, tea, readi...\n",
       "16  [hair, curl, maid, sent, away, emma, sat, thin...\n",
       "17  [john, knightley, detain, long, hartfield, wea...\n",
       "18  [frank, churchil, come, time, propos, drew, ne..."
      ]
     },
     "execution_count": 43,
     "metadata": {},
     "output_type": "execute_result"
    }
   ],
   "source": [
    "df_emma['text'] = df_emma['text'].apply(lambda x: clean_book(x))\n",
    "df_emma['text'] = df_emma['text'].apply(lambda x: word_tokenize(x))\n",
    "df_emma['text'] = df_emma['text'].apply(lambda x: [el for el in x if el not in stopwords])\n",
    "df_emma['text'] = df_emma['text'].apply(lambda x: [stemmer.stem(el) for el in x])\n",
    "stoplist=stoplist+['ii', 'iii', 'iv', 'v', 'vi', 'vii', 'viii', 'ix', 'x', 'xi', 'xii', 'xiii',\n",
    "                   'xiv', 'xv', 'xvi', 'xvii', 'xviii']\n",
    "df_emma['text'] = df_emma['text'].apply(lambda x: [el for el in x if el not in stoplist])\n",
    "df_emma"
   ]
  },
  {
   "attachments": {},
   "cell_type": "markdown",
   "metadata": {},
   "source": [
    "#### przygotowanie termów z tekstów z df_persuasion "
   ]
  },
  {
   "cell_type": "code",
   "execution_count": 44,
   "metadata": {},
   "outputs": [
    {
     "data": {
      "text/html": [
       "<div>\n",
       "<style scoped>\n",
       "    .dataframe tbody tr th:only-of-type {\n",
       "        vertical-align: middle;\n",
       "    }\n",
       "\n",
       "    .dataframe tbody tr th {\n",
       "        vertical-align: top;\n",
       "    }\n",
       "\n",
       "    .dataframe thead th {\n",
       "        text-align: right;\n",
       "    }\n",
       "</style>\n",
       "<table border=\"1\" class=\"dataframe\">\n",
       "  <thead>\n",
       "    <tr style=\"text-align: right;\">\n",
       "      <th></th>\n",
       "      <th>text</th>\n",
       "    </tr>\n",
       "  </thead>\n",
       "  <tbody>\n",
       "    <tr>\n",
       "      <th>0</th>\n",
       "      <td>[walter, elliot, kellynch, hall, somersetshir,...</td>\n",
       "    </tr>\n",
       "    <tr>\n",
       "      <th>1</th>\n",
       "      <td>[opportun, make, observ, fail, occur, ann, soo...</td>\n",
       "    </tr>\n",
       "    <tr>\n",
       "      <th>2</th>\n",
       "      <td>[time, approach, ladi, russel, return, day, fi...</td>\n",
       "    </tr>\n",
       "    <tr>\n",
       "      <th>3</th>\n",
       "      <td>[ann, henrietta, find, earliest, parti, morn, ...</td>\n",
       "    </tr>\n",
       "    <tr>\n",
       "      <th>4</th>\n",
       "      <td>[remaind, ann, time, uppercross, comprehend, d...</td>\n",
       "    </tr>\n",
       "    <tr>\n",
       "      <th>5</th>\n",
       "      <td>[charl, mari, remain, lyme, longer, musgrov, g...</td>\n",
       "    </tr>\n",
       "    <tr>\n",
       "      <th>6</th>\n",
       "      <td>[walter, taken, good, hous, camden, place, lof...</td>\n",
       "    </tr>\n",
       "    <tr>\n",
       "      <th>7</th>\n",
       "      <td>[point, ann, return, famili, thank, ascertain,...</td>\n",
       "    </tr>\n",
       "    <tr>\n",
       "      <th>8</th>\n",
       "      <td>[walter, elizabeth, assidu, push, good, fortun...</td>\n",
       "    </tr>\n",
       "    <tr>\n",
       "      <th>9</th>\n",
       "      <td>[begin, februari, ann, have, month, bath, grow...</td>\n",
       "    </tr>\n",
       "    <tr>\n",
       "      <th>10</th>\n",
       "      <td>[admir, croft, take, walk, ann, express, wish,...</td>\n",
       "    </tr>\n",
       "    <tr>\n",
       "      <th>11</th>\n",
       "      <td>[shepherd, civil, cautious, lawyer, hold, view...</td>\n",
       "    </tr>\n",
       "    <tr>\n",
       "      <th>12</th>\n",
       "      <td>[walter, daughter, clay, earliest, parti, room...</td>\n",
       "    </tr>\n",
       "    <tr>\n",
       "      <th>13</th>\n",
       "      <td>[ann, recollect, pleasur, morn, promis, go, sm...</td>\n",
       "    </tr>\n",
       "    <tr>\n",
       "      <th>14</th>\n",
       "      <td>[ann, went, home, think, heard, point, feel, r...</td>\n",
       "    </tr>\n",
       "    <tr>\n",
       "      <th>15</th>\n",
       "      <td>[day, pass, ann, convers, smith, keener, inter...</td>\n",
       "    </tr>\n",
       "    <tr>\n",
       "      <th>16</th>\n",
       "      <td>[doubt, follow, young, peopl, head, marri, pre...</td>\n",
       "    </tr>\n",
       "    <tr>\n",
       "      <th>17</th>\n",
       "      <td>[leav, observ, walter, said, shepherd, morn, k...</td>\n",
       "    </tr>\n",
       "    <tr>\n",
       "      <th>18</th>\n",
       "      <td>[wentworth, curat, monkford, suspici, appear, ...</td>\n",
       "    </tr>\n",
       "    <tr>\n",
       "      <th>19</th>\n",
       "      <td>[morn, appoint, admir, croft, see, kellynch, h...</td>\n",
       "    </tr>\n",
       "    <tr>\n",
       "      <th>20</th>\n",
       "      <td>[ann, want, visit, uppercross, learn, remov, s...</td>\n",
       "    </tr>\n",
       "    <tr>\n",
       "      <th>21</th>\n",
       "      <td>[day, captain, wentworth, known, kellynch, mus...</td>\n",
       "    </tr>\n",
       "    <tr>\n",
       "      <th>22</th>\n",
       "      <td>[time, captain, wentworth, ann, elliot, repeat...</td>\n",
       "    </tr>\n",
       "    <tr>\n",
       "      <th>23</th>\n",
       "      <td>[captain, wentworth, come, kellynch, home, sta...</td>\n",
       "    </tr>\n",
       "  </tbody>\n",
       "</table>\n",
       "</div>"
      ],
      "text/plain": [
       "                                                 text\n",
       "0   [walter, elliot, kellynch, hall, somersetshir,...\n",
       "1   [opportun, make, observ, fail, occur, ann, soo...\n",
       "2   [time, approach, ladi, russel, return, day, fi...\n",
       "3   [ann, henrietta, find, earliest, parti, morn, ...\n",
       "4   [remaind, ann, time, uppercross, comprehend, d...\n",
       "5   [charl, mari, remain, lyme, longer, musgrov, g...\n",
       "6   [walter, taken, good, hous, camden, place, lof...\n",
       "7   [point, ann, return, famili, thank, ascertain,...\n",
       "8   [walter, elizabeth, assidu, push, good, fortun...\n",
       "9   [begin, februari, ann, have, month, bath, grow...\n",
       "10  [admir, croft, take, walk, ann, express, wish,...\n",
       "11  [shepherd, civil, cautious, lawyer, hold, view...\n",
       "12  [walter, daughter, clay, earliest, parti, room...\n",
       "13  [ann, recollect, pleasur, morn, promis, go, sm...\n",
       "14  [ann, went, home, think, heard, point, feel, r...\n",
       "15  [day, pass, ann, convers, smith, keener, inter...\n",
       "16  [doubt, follow, young, peopl, head, marri, pre...\n",
       "17  [leav, observ, walter, said, shepherd, morn, k...\n",
       "18  [wentworth, curat, monkford, suspici, appear, ...\n",
       "19  [morn, appoint, admir, croft, see, kellynch, h...\n",
       "20  [ann, want, visit, uppercross, learn, remov, s...\n",
       "21  [day, captain, wentworth, known, kellynch, mus...\n",
       "22  [time, captain, wentworth, ann, elliot, repeat...\n",
       "23  [captain, wentworth, come, kellynch, home, sta..."
      ]
     },
     "execution_count": 44,
     "metadata": {},
     "output_type": "execute_result"
    }
   ],
   "source": [
    "df_persuasion['text'] = df_persuasion['text'].apply(lambda x: clean_book(x))\n",
    "df_persuasion['text'] = df_persuasion['text'].apply(lambda x: word_tokenize(x))\n",
    "df_persuasion['text'] = df_persuasion['text'].apply(lambda x: [el for el in x if el not in stopwords])\n",
    "df_persuasion['text'] = df_persuasion['text'].apply(lambda x: [stemmer.stem(el) for el in x])\n",
    "stoplist=stoplist+['ii', 'iii', 'iv', 'v', 'vi', 'vii', 'viii', 'ix', 'x', 'xi', 'xii', 'xiii',\n",
    "                   'xiv', 'xv', 'xvi', 'xvii', 'xviii']\n",
    "df_persuasion['text'] = df_persuasion['text'].apply(lambda x: [el for el in x if el not in stoplist])\n",
    "df_persuasion"
   ]
  },
  {
   "attachments": {},
   "cell_type": "markdown",
   "metadata": {},
   "source": [
    "#### przygotowanie termów z tekstów z df_sense"
   ]
  },
  {
   "cell_type": "code",
   "execution_count": 45,
   "metadata": {},
   "outputs": [
    {
     "data": {
      "text/html": [
       "<div>\n",
       "<style scoped>\n",
       "    .dataframe tbody tr th:only-of-type {\n",
       "        vertical-align: middle;\n",
       "    }\n",
       "\n",
       "    .dataframe tbody tr th {\n",
       "        vertical-align: top;\n",
       "    }\n",
       "\n",
       "    .dataframe thead th {\n",
       "        text-align: right;\n",
       "    }\n",
       "</style>\n",
       "<table border=\"1\" class=\"dataframe\">\n",
       "  <thead>\n",
       "    <tr style=\"text-align: right;\">\n",
       "      <th></th>\n",
       "      <th>text</th>\n",
       "    </tr>\n",
       "  </thead>\n",
       "  <tbody>\n",
       "    <tr>\n",
       "      <th>0</th>\n",
       "      <td>[famili, dashwood, long, settl, sussex, estat,...</td>\n",
       "    </tr>\n",
       "    <tr>\n",
       "      <th>1</th>\n",
       "      <td>[mariann, preserv, margaret, eleg, precis, sty...</td>\n",
       "    </tr>\n",
       "    <tr>\n",
       "      <th>2</th>\n",
       "      <td>[littl, dashwood, daughter, imagin, came, devo...</td>\n",
       "    </tr>\n",
       "    <tr>\n",
       "      <th>3</th>\n",
       "      <td>[elinor, mariann, walk, morn, communic, piec, ...</td>\n",
       "    </tr>\n",
       "    <tr>\n",
       "      <th>4</th>\n",
       "      <td>[intend, excurs, whitwel, turn, differ, elinor...</td>\n",
       "    </tr>\n",
       "    <tr>\n",
       "      <th>5</th>\n",
       "      <td>[sudden, termin, colonel, brandon, visit, park...</td>\n",
       "    </tr>\n",
       "    <tr>\n",
       "      <th>6</th>\n",
       "      <td>[dashwood, visit, ladi, middleton, took, place...</td>\n",
       "    </tr>\n",
       "    <tr>\n",
       "      <th>7</th>\n",
       "      <td>[mariann, thought, inexcus, abl, sleep, night,...</td>\n",
       "    </tr>\n",
       "    <tr>\n",
       "      <th>8</th>\n",
       "      <td>[dashwood, surpris, moment, see, come, barton,...</td>\n",
       "    </tr>\n",
       "    <tr>\n",
       "      <th>9</th>\n",
       "      <td>[elinor, saw, great, uneasi, low, spirit, frie...</td>\n",
       "    </tr>\n",
       "    <tr>\n",
       "      <th>10</th>\n",
       "      <td>[edward, remain, week, cottag, earnest, press,...</td>\n",
       "    </tr>\n",
       "    <tr>\n",
       "      <th>11</th>\n",
       "      <td>[john, dashwood, instal, mistress, norland, mo...</td>\n",
       "    </tr>\n",
       "    <tr>\n",
       "      <th>12</th>\n",
       "      <td>[dashwood, enter, drawingroom, park, day, door...</td>\n",
       "    </tr>\n",
       "    <tr>\n",
       "      <th>13</th>\n",
       "      <td>[palmer, return, cleveland, day, famili, barto...</td>\n",
       "    </tr>\n",
       "    <tr>\n",
       "      <th>14</th>\n",
       "      <td>[mariann, toler, thing, like, impertin, vulgar...</td>\n",
       "    </tr>\n",
       "    <tr>\n",
       "      <th>15</th>\n",
       "      <td>[small, elinor, general, depend, luci, verac, ...</td>\n",
       "    </tr>\n",
       "    <tr>\n",
       "      <th>16</th>\n",
       "      <td>[firm, cautious, tone, elinor, began, undeserv...</td>\n",
       "    </tr>\n",
       "    <tr>\n",
       "      <th>17</th>\n",
       "      <td>[jen, habit, spend, larg, portion, year, hous,...</td>\n",
       "    </tr>\n",
       "    <tr>\n",
       "      <th>18</th>\n",
       "      <td>[elinor, find, carriag, jen, begin, journey, l...</td>\n",
       "    </tr>\n",
       "    <tr>\n",
       "      <th>19</th>\n",
       "      <td>[open, weather, hold, longer, said, jen, met, ...</td>\n",
       "    </tr>\n",
       "    <tr>\n",
       "      <th>20</th>\n",
       "      <td>[occur, day, elinor, regret, appli, mother, wi...</td>\n",
       "    </tr>\n",
       "    <tr>\n",
       "      <th>21</th>\n",
       "      <td>[housemaid, lit, fire, day, sun, gain, power, ...</td>\n",
       "    </tr>\n",
       "    <tr>\n",
       "      <th>22</th>\n",
       "      <td>[dashwood, remain, norland, month, disinclin, ...</td>\n",
       "    </tr>\n",
       "    <tr>\n",
       "      <th>23</th>\n",
       "      <td>[jen, came, immedi, room, return, wait, reques...</td>\n",
       "    </tr>\n",
       "    <tr>\n",
       "      <th>24</th>\n",
       "      <td>[night, sleep, expect, mariann, awok, morn, co...</td>\n",
       "    </tr>\n",
       "    <tr>\n",
       "      <th>25</th>\n",
       "      <td>[particular, convers, repeat, dashwood, sister...</td>\n",
       "    </tr>\n",
       "    <tr>\n",
       "      <th>26</th>\n",
       "      <td>[opposit, mariann, yield, sister, entreati, co...</td>\n",
       "    </tr>\n",
       "    <tr>\n",
       "      <th>27</th>\n",
       "      <td>[john, dashwood, confid, husband, judgment, wa...</td>\n",
       "    </tr>\n",
       "    <tr>\n",
       "      <th>28</th>\n",
       "      <td>[elinor, curios, ferrar, satisfi, found, thing...</td>\n",
       "    </tr>\n",
       "    <tr>\n",
       "      <th>29</th>\n",
       "      <td>[day, meet, newspap, announc, world, ladi, tho...</td>\n",
       "    </tr>\n",
       "    <tr>\n",
       "      <th>30</th>\n",
       "      <td>[palmer, end, fortnight, mother, felt, longer,...</td>\n",
       "    </tr>\n",
       "    <tr>\n",
       "      <th>31</th>\n",
       "      <td>[jen, warm, prais, edward, conduct, elinor, ma...</td>\n",
       "    </tr>\n",
       "    <tr>\n",
       "      <th>32</th>\n",
       "      <td>[dashwood, month, town, mariann, impati, gone,...</td>\n",
       "    </tr>\n",
       "    <tr>\n",
       "      <th>33</th>\n",
       "      <td>[piti, elinor, said, mariann, edward, tast, dr...</td>\n",
       "    </tr>\n",
       "    <tr>\n",
       "      <th>34</th>\n",
       "      <td>[dashwood, said, jen, sagaci, smile, soon, gen...</td>\n",
       "    </tr>\n",
       "    <tr>\n",
       "      <th>35</th>\n",
       "      <td>[edward, have, carri, thank, colonel, brandon,...</td>\n",
       "    </tr>\n",
       "    <tr>\n",
       "      <th>36</th>\n",
       "      <td>[short, harley, street, elinor, receiv, brothe...</td>\n",
       "    </tr>\n",
       "    <tr>\n",
       "      <th>37</th>\n",
       "      <td>[mariann, got, morn, usual, time, inquiri, rep...</td>\n",
       "    </tr>\n",
       "    <tr>\n",
       "      <th>38</th>\n",
       "      <td>[elinor, start, look, horror, sight, obey, imp...</td>\n",
       "    </tr>\n",
       "    <tr>\n",
       "      <th>39</th>\n",
       "      <td>[elinor, time, left, time, sound, carriag, die...</td>\n",
       "    </tr>\n",
       "    <tr>\n",
       "      <th>40</th>\n",
       "      <td>[mariann, ill, weaken, kind, long, recoveri, s...</td>\n",
       "    </tr>\n",
       "    <tr>\n",
       "      <th>41</th>\n",
       "      <td>[dashwood, hear, unmov, vindic, favourit, rejo...</td>\n",
       "    </tr>\n",
       "    <tr>\n",
       "      <th>42</th>\n",
       "      <td>[elinor, found, differ, expect, unpleas, event...</td>\n",
       "    </tr>\n",
       "    <tr>\n",
       "      <th>43</th>\n",
       "      <td>[unaccount, circumst, releas, appear, famili, ...</td>\n",
       "    </tr>\n",
       "    <tr>\n",
       "      <th>44</th>\n",
       "      <td>[sooner, answer, dispatch, dashwood, indulg, p...</td>\n",
       "    </tr>\n",
       "    <tr>\n",
       "      <th>45</th>\n",
       "      <td>[proper, resist, ferrar, violent, steadi, pres...</td>\n",
       "    </tr>\n",
       "    <tr>\n",
       "      <th>46</th>\n",
       "      <td>[journey, perform, melancholi, disposit, tedio...</td>\n",
       "    </tr>\n",
       "    <tr>\n",
       "      <th>47</th>\n",
       "      <td>[barton, park, half, mile, cottag, ladi, pass,...</td>\n",
       "    </tr>\n",
       "    <tr>\n",
       "      <th>48</th>\n",
       "      <td>[jen, widow, ampl, jointur, daughter, live, re...</td>\n",
       "    </tr>\n",
       "    <tr>\n",
       "      <th>49</th>\n",
       "      <td>[dashwood, settl, barton, toler, comfort, hous...</td>\n",
       "    </tr>\n",
       "  </tbody>\n",
       "</table>\n",
       "</div>"
      ],
      "text/plain": [
       "                                                 text\n",
       "0   [famili, dashwood, long, settl, sussex, estat,...\n",
       "1   [mariann, preserv, margaret, eleg, precis, sty...\n",
       "2   [littl, dashwood, daughter, imagin, came, devo...\n",
       "3   [elinor, mariann, walk, morn, communic, piec, ...\n",
       "4   [intend, excurs, whitwel, turn, differ, elinor...\n",
       "5   [sudden, termin, colonel, brandon, visit, park...\n",
       "6   [dashwood, visit, ladi, middleton, took, place...\n",
       "7   [mariann, thought, inexcus, abl, sleep, night,...\n",
       "8   [dashwood, surpris, moment, see, come, barton,...\n",
       "9   [elinor, saw, great, uneasi, low, spirit, frie...\n",
       "10  [edward, remain, week, cottag, earnest, press,...\n",
       "11  [john, dashwood, instal, mistress, norland, mo...\n",
       "12  [dashwood, enter, drawingroom, park, day, door...\n",
       "13  [palmer, return, cleveland, day, famili, barto...\n",
       "14  [mariann, toler, thing, like, impertin, vulgar...\n",
       "15  [small, elinor, general, depend, luci, verac, ...\n",
       "16  [firm, cautious, tone, elinor, began, undeserv...\n",
       "17  [jen, habit, spend, larg, portion, year, hous,...\n",
       "18  [elinor, find, carriag, jen, begin, journey, l...\n",
       "19  [open, weather, hold, longer, said, jen, met, ...\n",
       "20  [occur, day, elinor, regret, appli, mother, wi...\n",
       "21  [housemaid, lit, fire, day, sun, gain, power, ...\n",
       "22  [dashwood, remain, norland, month, disinclin, ...\n",
       "23  [jen, came, immedi, room, return, wait, reques...\n",
       "24  [night, sleep, expect, mariann, awok, morn, co...\n",
       "25  [particular, convers, repeat, dashwood, sister...\n",
       "26  [opposit, mariann, yield, sister, entreati, co...\n",
       "27  [john, dashwood, confid, husband, judgment, wa...\n",
       "28  [elinor, curios, ferrar, satisfi, found, thing...\n",
       "29  [day, meet, newspap, announc, world, ladi, tho...\n",
       "30  [palmer, end, fortnight, mother, felt, longer,...\n",
       "31  [jen, warm, prais, edward, conduct, elinor, ma...\n",
       "32  [dashwood, month, town, mariann, impati, gone,...\n",
       "33  [piti, elinor, said, mariann, edward, tast, dr...\n",
       "34  [dashwood, said, jen, sagaci, smile, soon, gen...\n",
       "35  [edward, have, carri, thank, colonel, brandon,...\n",
       "36  [short, harley, street, elinor, receiv, brothe...\n",
       "37  [mariann, got, morn, usual, time, inquiri, rep...\n",
       "38  [elinor, start, look, horror, sight, obey, imp...\n",
       "39  [elinor, time, left, time, sound, carriag, die...\n",
       "40  [mariann, ill, weaken, kind, long, recoveri, s...\n",
       "41  [dashwood, hear, unmov, vindic, favourit, rejo...\n",
       "42  [elinor, found, differ, expect, unpleas, event...\n",
       "43  [unaccount, circumst, releas, appear, famili, ...\n",
       "44  [sooner, answer, dispatch, dashwood, indulg, p...\n",
       "45  [proper, resist, ferrar, violent, steadi, pres...\n",
       "46  [journey, perform, melancholi, disposit, tedio...\n",
       "47  [barton, park, half, mile, cottag, ladi, pass,...\n",
       "48  [jen, widow, ampl, jointur, daughter, live, re...\n",
       "49  [dashwood, settl, barton, toler, comfort, hous..."
      ]
     },
     "execution_count": 45,
     "metadata": {},
     "output_type": "execute_result"
    }
   ],
   "source": [
    "df_sense['text'] = df_sense['text'].apply(lambda x: clean_book(x))\n",
    "df_sense['text'] = df_sense['text'].apply(lambda x: word_tokenize(x))\n",
    "df_sense['text'] = df_sense['text'].apply(lambda x: [el for el in x if el not in stopwords])\n",
    "df_sense['text'] = df_sense['text'].apply(lambda x: [stemmer.stem(el) for el in x])\n",
    "stoplist=stoplist+['ii', 'iii', 'iv', 'v', 'vi', 'vii', 'viii', 'ix', 'x', 'xi', 'xii', 'xiii',\n",
    "                   'xiv', 'xv', 'xvi', 'xvii', 'xviii']\n",
    "df_sense['text'] = df_sense['text'].apply(lambda x: [el for el in x if el not in stoplist])\n",
    "df_sense"
   ]
  },
  {
   "attachments": {},
   "cell_type": "markdown",
   "metadata": {},
   "source": [
    "#### połączenie poszczególnych dataframe"
   ]
  },
  {
   "cell_type": "code",
   "execution_count": 46,
   "metadata": {},
   "outputs": [
    {
     "data": {
      "text/html": [
       "<div>\n",
       "<style scoped>\n",
       "    .dataframe tbody tr th:only-of-type {\n",
       "        vertical-align: middle;\n",
       "    }\n",
       "\n",
       "    .dataframe tbody tr th {\n",
       "        vertical-align: top;\n",
       "    }\n",
       "\n",
       "    .dataframe thead th {\n",
       "        text-align: right;\n",
       "    }\n",
       "</style>\n",
       "<table border=\"1\" class=\"dataframe\">\n",
       "  <thead>\n",
       "    <tr style=\"text-align: right;\">\n",
       "      <th></th>\n",
       "      <th>text</th>\n",
       "    </tr>\n",
       "  </thead>\n",
       "  <tbody>\n",
       "    <tr>\n",
       "      <th>0</th>\n",
       "      <td>[emma, woodhous, handsom, clever, rich, comfor...</td>\n",
       "    </tr>\n",
       "    <tr>\n",
       "      <th>1</th>\n",
       "      <td>[weston, nativ, highburi, born, respect, famil...</td>\n",
       "    </tr>\n",
       "    <tr>\n",
       "      <th>2</th>\n",
       "      <td>[woodhous, fond, societi, way, like, friend, c...</td>\n",
       "    </tr>\n",
       "    <tr>\n",
       "      <th>3</th>\n",
       "      <td>[harriet, smith, intimaci, hartfield, soon, se...</td>\n",
       "    </tr>\n",
       "    <tr>\n",
       "      <th>4</th>\n",
       "      <td>[knightley, quarrel, emma, quarrel, displeas, ...</td>\n",
       "    </tr>\n",
       "    <tr>\n",
       "      <th>...</th>\n",
       "      <td>...</td>\n",
       "    </tr>\n",
       "    <tr>\n",
       "      <th>88</th>\n",
       "      <td>[proper, resist, ferrar, violent, steadi, pres...</td>\n",
       "    </tr>\n",
       "    <tr>\n",
       "      <th>89</th>\n",
       "      <td>[journey, perform, melancholi, disposit, tedio...</td>\n",
       "    </tr>\n",
       "    <tr>\n",
       "      <th>90</th>\n",
       "      <td>[barton, park, half, mile, cottag, ladi, pass,...</td>\n",
       "    </tr>\n",
       "    <tr>\n",
       "      <th>91</th>\n",
       "      <td>[jen, widow, ampl, jointur, daughter, live, re...</td>\n",
       "    </tr>\n",
       "    <tr>\n",
       "      <th>92</th>\n",
       "      <td>[dashwood, settl, barton, toler, comfort, hous...</td>\n",
       "    </tr>\n",
       "  </tbody>\n",
       "</table>\n",
       "<p>93 rows × 1 columns</p>\n",
       "</div>"
      ],
      "text/plain": [
       "                                                 text\n",
       "0   [emma, woodhous, handsom, clever, rich, comfor...\n",
       "1   [weston, nativ, highburi, born, respect, famil...\n",
       "2   [woodhous, fond, societi, way, like, friend, c...\n",
       "3   [harriet, smith, intimaci, hartfield, soon, se...\n",
       "4   [knightley, quarrel, emma, quarrel, displeas, ...\n",
       "..                                                ...\n",
       "88  [proper, resist, ferrar, violent, steadi, pres...\n",
       "89  [journey, perform, melancholi, disposit, tedio...\n",
       "90  [barton, park, half, mile, cottag, ladi, pass,...\n",
       "91  [jen, widow, ampl, jointur, daughter, live, re...\n",
       "92  [dashwood, settl, barton, toler, comfort, hous...\n",
       "\n",
       "[93 rows x 1 columns]"
      ]
     },
     "execution_count": 46,
     "metadata": {},
     "output_type": "execute_result"
    }
   ],
   "source": [
    "combined_df = pd.concat([df_emma, df_persuasion, df_sense], ignore_index=True)\n",
    "combined_df"
   ]
  },
  {
   "attachments": {},
   "cell_type": "markdown",
   "metadata": {},
   "source": [
    "## Klasyfikacja"
   ]
  },
  {
   "attachments": {},
   "cell_type": "markdown",
   "metadata": {},
   "source": [
    "Klasyfikacje przeprowadzono dla wszystkich analizowanych książek jednocześnie."
   ]
  },
  {
   "attachments": {},
   "cell_type": "markdown",
   "metadata": {},
   "source": [
    "#### Dla wag binarnych"
   ]
  },
  {
   "cell_type": "code",
   "execution_count": 47,
   "metadata": {},
   "outputs": [
    {
     "name": "stdout",
     "output_type": "stream",
     "text": [
      "['abandon' 'abat' 'abbey' ... 'zealit' 'zealous' 'zigzag']\n"
     ]
    },
    {
     "data": {
      "text/html": [
       "<div>\n",
       "<style scoped>\n",
       "    .dataframe tbody tr th:only-of-type {\n",
       "        vertical-align: middle;\n",
       "    }\n",
       "\n",
       "    .dataframe tbody tr th {\n",
       "        vertical-align: top;\n",
       "    }\n",
       "\n",
       "    .dataframe thead th {\n",
       "        text-align: right;\n",
       "    }\n",
       "</style>\n",
       "<table border=\"1\" class=\"dataframe\">\n",
       "  <thead>\n",
       "    <tr style=\"text-align: right;\">\n",
       "      <th></th>\n",
       "      <th>abandon</th>\n",
       "      <th>abat</th>\n",
       "      <th>abbey</th>\n",
       "      <th>abbeyland</th>\n",
       "      <th>abbeymil</th>\n",
       "      <th>abbeyoh</th>\n",
       "      <th>abbot</th>\n",
       "      <th>abbrevi</th>\n",
       "      <th>abdi</th>\n",
       "      <th>abdic</th>\n",
       "      <th>...</th>\n",
       "      <th>youthkil</th>\n",
       "      <th>youto</th>\n",
       "      <th>youwhat</th>\n",
       "      <th>youwhen</th>\n",
       "      <th>youyou</th>\n",
       "      <th>z</th>\n",
       "      <th>zeal</th>\n",
       "      <th>zealit</th>\n",
       "      <th>zealous</th>\n",
       "      <th>zigzag</th>\n",
       "    </tr>\n",
       "  </thead>\n",
       "  <tbody>\n",
       "    <tr>\n",
       "      <th>1</th>\n",
       "      <td>0</td>\n",
       "      <td>0</td>\n",
       "      <td>0</td>\n",
       "      <td>0</td>\n",
       "      <td>0</td>\n",
       "      <td>0</td>\n",
       "      <td>0</td>\n",
       "      <td>0</td>\n",
       "      <td>0</td>\n",
       "      <td>0</td>\n",
       "      <td>...</td>\n",
       "      <td>0</td>\n",
       "      <td>0</td>\n",
       "      <td>0</td>\n",
       "      <td>0</td>\n",
       "      <td>0</td>\n",
       "      <td>0</td>\n",
       "      <td>0</td>\n",
       "      <td>0</td>\n",
       "      <td>0</td>\n",
       "      <td>0</td>\n",
       "    </tr>\n",
       "    <tr>\n",
       "      <th>2</th>\n",
       "      <td>0</td>\n",
       "      <td>0</td>\n",
       "      <td>0</td>\n",
       "      <td>0</td>\n",
       "      <td>0</td>\n",
       "      <td>0</td>\n",
       "      <td>0</td>\n",
       "      <td>0</td>\n",
       "      <td>0</td>\n",
       "      <td>0</td>\n",
       "      <td>...</td>\n",
       "      <td>0</td>\n",
       "      <td>0</td>\n",
       "      <td>0</td>\n",
       "      <td>0</td>\n",
       "      <td>0</td>\n",
       "      <td>0</td>\n",
       "      <td>0</td>\n",
       "      <td>0</td>\n",
       "      <td>0</td>\n",
       "      <td>0</td>\n",
       "    </tr>\n",
       "    <tr>\n",
       "      <th>3</th>\n",
       "      <td>0</td>\n",
       "      <td>0</td>\n",
       "      <td>1</td>\n",
       "      <td>0</td>\n",
       "      <td>0</td>\n",
       "      <td>0</td>\n",
       "      <td>0</td>\n",
       "      <td>0</td>\n",
       "      <td>0</td>\n",
       "      <td>0</td>\n",
       "      <td>...</td>\n",
       "      <td>0</td>\n",
       "      <td>0</td>\n",
       "      <td>0</td>\n",
       "      <td>0</td>\n",
       "      <td>0</td>\n",
       "      <td>0</td>\n",
       "      <td>0</td>\n",
       "      <td>0</td>\n",
       "      <td>0</td>\n",
       "      <td>0</td>\n",
       "    </tr>\n",
       "    <tr>\n",
       "      <th>4</th>\n",
       "      <td>0</td>\n",
       "      <td>0</td>\n",
       "      <td>1</td>\n",
       "      <td>0</td>\n",
       "      <td>1</td>\n",
       "      <td>0</td>\n",
       "      <td>0</td>\n",
       "      <td>0</td>\n",
       "      <td>0</td>\n",
       "      <td>0</td>\n",
       "      <td>...</td>\n",
       "      <td>0</td>\n",
       "      <td>0</td>\n",
       "      <td>0</td>\n",
       "      <td>0</td>\n",
       "      <td>0</td>\n",
       "      <td>0</td>\n",
       "      <td>0</td>\n",
       "      <td>0</td>\n",
       "      <td>0</td>\n",
       "      <td>0</td>\n",
       "    </tr>\n",
       "    <tr>\n",
       "      <th>5</th>\n",
       "      <td>0</td>\n",
       "      <td>0</td>\n",
       "      <td>1</td>\n",
       "      <td>0</td>\n",
       "      <td>0</td>\n",
       "      <td>0</td>\n",
       "      <td>1</td>\n",
       "      <td>0</td>\n",
       "      <td>0</td>\n",
       "      <td>0</td>\n",
       "      <td>...</td>\n",
       "      <td>0</td>\n",
       "      <td>0</td>\n",
       "      <td>0</td>\n",
       "      <td>0</td>\n",
       "      <td>0</td>\n",
       "      <td>0</td>\n",
       "      <td>0</td>\n",
       "      <td>0</td>\n",
       "      <td>0</td>\n",
       "      <td>0</td>\n",
       "    </tr>\n",
       "    <tr>\n",
       "      <th>...</th>\n",
       "      <td>...</td>\n",
       "      <td>...</td>\n",
       "      <td>...</td>\n",
       "      <td>...</td>\n",
       "      <td>...</td>\n",
       "      <td>...</td>\n",
       "      <td>...</td>\n",
       "      <td>...</td>\n",
       "      <td>...</td>\n",
       "      <td>...</td>\n",
       "      <td>...</td>\n",
       "      <td>...</td>\n",
       "      <td>...</td>\n",
       "      <td>...</td>\n",
       "      <td>...</td>\n",
       "      <td>...</td>\n",
       "      <td>...</td>\n",
       "      <td>...</td>\n",
       "      <td>...</td>\n",
       "      <td>...</td>\n",
       "      <td>...</td>\n",
       "    </tr>\n",
       "    <tr>\n",
       "      <th>89</th>\n",
       "      <td>0</td>\n",
       "      <td>0</td>\n",
       "      <td>0</td>\n",
       "      <td>0</td>\n",
       "      <td>0</td>\n",
       "      <td>0</td>\n",
       "      <td>0</td>\n",
       "      <td>0</td>\n",
       "      <td>0</td>\n",
       "      <td>0</td>\n",
       "      <td>...</td>\n",
       "      <td>0</td>\n",
       "      <td>0</td>\n",
       "      <td>0</td>\n",
       "      <td>0</td>\n",
       "      <td>0</td>\n",
       "      <td>0</td>\n",
       "      <td>0</td>\n",
       "      <td>0</td>\n",
       "      <td>0</td>\n",
       "      <td>0</td>\n",
       "    </tr>\n",
       "    <tr>\n",
       "      <th>90</th>\n",
       "      <td>0</td>\n",
       "      <td>0</td>\n",
       "      <td>0</td>\n",
       "      <td>0</td>\n",
       "      <td>0</td>\n",
       "      <td>0</td>\n",
       "      <td>0</td>\n",
       "      <td>0</td>\n",
       "      <td>0</td>\n",
       "      <td>0</td>\n",
       "      <td>...</td>\n",
       "      <td>0</td>\n",
       "      <td>0</td>\n",
       "      <td>0</td>\n",
       "      <td>0</td>\n",
       "      <td>0</td>\n",
       "      <td>0</td>\n",
       "      <td>0</td>\n",
       "      <td>0</td>\n",
       "      <td>0</td>\n",
       "      <td>0</td>\n",
       "    </tr>\n",
       "    <tr>\n",
       "      <th>91</th>\n",
       "      <td>0</td>\n",
       "      <td>0</td>\n",
       "      <td>0</td>\n",
       "      <td>0</td>\n",
       "      <td>0</td>\n",
       "      <td>0</td>\n",
       "      <td>0</td>\n",
       "      <td>0</td>\n",
       "      <td>0</td>\n",
       "      <td>0</td>\n",
       "      <td>...</td>\n",
       "      <td>0</td>\n",
       "      <td>0</td>\n",
       "      <td>0</td>\n",
       "      <td>0</td>\n",
       "      <td>0</td>\n",
       "      <td>0</td>\n",
       "      <td>0</td>\n",
       "      <td>0</td>\n",
       "      <td>0</td>\n",
       "      <td>0</td>\n",
       "    </tr>\n",
       "    <tr>\n",
       "      <th>92</th>\n",
       "      <td>0</td>\n",
       "      <td>0</td>\n",
       "      <td>0</td>\n",
       "      <td>0</td>\n",
       "      <td>0</td>\n",
       "      <td>0</td>\n",
       "      <td>0</td>\n",
       "      <td>0</td>\n",
       "      <td>0</td>\n",
       "      <td>0</td>\n",
       "      <td>...</td>\n",
       "      <td>0</td>\n",
       "      <td>0</td>\n",
       "      <td>0</td>\n",
       "      <td>0</td>\n",
       "      <td>0</td>\n",
       "      <td>0</td>\n",
       "      <td>0</td>\n",
       "      <td>0</td>\n",
       "      <td>1</td>\n",
       "      <td>0</td>\n",
       "    </tr>\n",
       "    <tr>\n",
       "      <th>93</th>\n",
       "      <td>0</td>\n",
       "      <td>0</td>\n",
       "      <td>0</td>\n",
       "      <td>0</td>\n",
       "      <td>0</td>\n",
       "      <td>0</td>\n",
       "      <td>0</td>\n",
       "      <td>0</td>\n",
       "      <td>0</td>\n",
       "      <td>0</td>\n",
       "      <td>...</td>\n",
       "      <td>0</td>\n",
       "      <td>0</td>\n",
       "      <td>0</td>\n",
       "      <td>0</td>\n",
       "      <td>0</td>\n",
       "      <td>0</td>\n",
       "      <td>0</td>\n",
       "      <td>0</td>\n",
       "      <td>0</td>\n",
       "      <td>0</td>\n",
       "    </tr>\n",
       "  </tbody>\n",
       "</table>\n",
       "<p>93 rows × 9012 columns</p>\n",
       "</div>"
      ],
      "text/plain": [
       "    abandon  abat  abbey  abbeyland  abbeymil  abbeyoh  abbot  abbrevi  abdi   \n",
       "1         0     0      0          0         0        0      0        0     0  \\\n",
       "2         0     0      0          0         0        0      0        0     0   \n",
       "3         0     0      1          0         0        0      0        0     0   \n",
       "4         0     0      1          0         1        0      0        0     0   \n",
       "5         0     0      1          0         0        0      1        0     0   \n",
       "..      ...   ...    ...        ...       ...      ...    ...      ...   ...   \n",
       "89        0     0      0          0         0        0      0        0     0   \n",
       "90        0     0      0          0         0        0      0        0     0   \n",
       "91        0     0      0          0         0        0      0        0     0   \n",
       "92        0     0      0          0         0        0      0        0     0   \n",
       "93        0     0      0          0         0        0      0        0     0   \n",
       "\n",
       "    abdic  ...  youthkil  youto  youwhat  youwhen  youyou  z  zeal  zealit   \n",
       "1       0  ...         0      0        0        0       0  0     0       0  \\\n",
       "2       0  ...         0      0        0        0       0  0     0       0   \n",
       "3       0  ...         0      0        0        0       0  0     0       0   \n",
       "4       0  ...         0      0        0        0       0  0     0       0   \n",
       "5       0  ...         0      0        0        0       0  0     0       0   \n",
       "..    ...  ...       ...    ...      ...      ...     ... ..   ...     ...   \n",
       "89      0  ...         0      0        0        0       0  0     0       0   \n",
       "90      0  ...         0      0        0        0       0  0     0       0   \n",
       "91      0  ...         0      0        0        0       0  0     0       0   \n",
       "92      0  ...         0      0        0        0       0  0     0       0   \n",
       "93      0  ...         0      0        0        0       0  0     0       0   \n",
       "\n",
       "    zealous  zigzag  \n",
       "1         0       0  \n",
       "2         0       0  \n",
       "3         0       0  \n",
       "4         0       0  \n",
       "5         0       0  \n",
       "..      ...     ...  \n",
       "89        0       0  \n",
       "90        0       0  \n",
       "91        0       0  \n",
       "92        1       0  \n",
       "93        0       0  \n",
       "\n",
       "[93 rows x 9012 columns]"
      ]
     },
     "execution_count": 47,
     "metadata": {},
     "output_type": "execute_result"
    }
   ],
   "source": [
    "# Inicjalizacja obiektu MultiLabelBinarizer\n",
    "mlb = MultiLabelBinarizer()\n",
    "\n",
    "# Transformacja listy tokenów na macierz binarną\n",
    "dtm = mlb.fit_transform(combined_df['text'])\n",
    "\n",
    "# Pobranie listy termów\n",
    "terms = mlb.classes_\n",
    "\n",
    "# Tworzenie DataFrame z macierzy dokument-term\n",
    "dtm_df = pd.DataFrame(dtm, columns=terms)\n",
    "\n",
    "# Ustawienie indeksu na liczby od 1 do n (gdzie n to liczba rozdziałów)\n",
    "dtm_df.index = range(1, len(combined_df) + 1)\n",
    "\n",
    "# Wyświetlanie macierzy dokument-term\n",
    "dtm_df"
   ]
  },
  {
   "cell_type": "code",
   "execution_count": 48,
   "metadata": {},
   "outputs": [],
   "source": [
    "X = dtm_df.values\n",
    "min_max_scaler = MinMaxScaler()\n",
    "X_minmax = min_max_scaler.fit_transform(X)"
   ]
  },
  {
   "cell_type": "code",
   "execution_count": 49,
   "metadata": {},
   "outputs": [
    {
     "data": {
      "text/html": [
       "<div>\n",
       "<style scoped>\n",
       "    .dataframe tbody tr th:only-of-type {\n",
       "        vertical-align: middle;\n",
       "    }\n",
       "\n",
       "    .dataframe tbody tr th {\n",
       "        vertical-align: top;\n",
       "    }\n",
       "\n",
       "    .dataframe thead th {\n",
       "        text-align: right;\n",
       "    }\n",
       "</style>\n",
       "<table border=\"1\" class=\"dataframe\">\n",
       "  <thead>\n",
       "    <tr style=\"text-align: right;\">\n",
       "      <th></th>\n",
       "      <th>0</th>\n",
       "      <th>1</th>\n",
       "      <th>2</th>\n",
       "      <th>3</th>\n",
       "      <th>4</th>\n",
       "      <th>5</th>\n",
       "      <th>6</th>\n",
       "      <th>7</th>\n",
       "      <th>8</th>\n",
       "      <th>9</th>\n",
       "      <th>...</th>\n",
       "      <th>9002</th>\n",
       "      <th>9003</th>\n",
       "      <th>9004</th>\n",
       "      <th>9005</th>\n",
       "      <th>9006</th>\n",
       "      <th>9007</th>\n",
       "      <th>9008</th>\n",
       "      <th>9009</th>\n",
       "      <th>9010</th>\n",
       "      <th>9011</th>\n",
       "    </tr>\n",
       "  </thead>\n",
       "  <tbody>\n",
       "    <tr>\n",
       "      <th>count</th>\n",
       "      <td>93.000000</td>\n",
       "      <td>93.000000</td>\n",
       "      <td>93.000000</td>\n",
       "      <td>93.000000</td>\n",
       "      <td>93.000000</td>\n",
       "      <td>93.000000</td>\n",
       "      <td>93.000000</td>\n",
       "      <td>93.000000</td>\n",
       "      <td>93.000000</td>\n",
       "      <td>93.000000</td>\n",
       "      <td>...</td>\n",
       "      <td>93.000000</td>\n",
       "      <td>93.000000</td>\n",
       "      <td>93.000000</td>\n",
       "      <td>93.000000</td>\n",
       "      <td>93.000000</td>\n",
       "      <td>93.000000</td>\n",
       "      <td>93.000000</td>\n",
       "      <td>93.000000</td>\n",
       "      <td>93.000000</td>\n",
       "      <td>93.000000</td>\n",
       "    </tr>\n",
       "    <tr>\n",
       "      <th>mean</th>\n",
       "      <td>0.010753</td>\n",
       "      <td>0.010753</td>\n",
       "      <td>0.107527</td>\n",
       "      <td>0.010753</td>\n",
       "      <td>0.032258</td>\n",
       "      <td>0.010753</td>\n",
       "      <td>0.010753</td>\n",
       "      <td>0.010753</td>\n",
       "      <td>0.010753</td>\n",
       "      <td>0.010753</td>\n",
       "      <td>...</td>\n",
       "      <td>0.010753</td>\n",
       "      <td>0.010753</td>\n",
       "      <td>0.010753</td>\n",
       "      <td>0.010753</td>\n",
       "      <td>0.043011</td>\n",
       "      <td>0.010753</td>\n",
       "      <td>0.096774</td>\n",
       "      <td>0.010753</td>\n",
       "      <td>0.064516</td>\n",
       "      <td>0.010753</td>\n",
       "    </tr>\n",
       "    <tr>\n",
       "      <th>std</th>\n",
       "      <td>0.103695</td>\n",
       "      <td>0.103695</td>\n",
       "      <td>0.311461</td>\n",
       "      <td>0.103695</td>\n",
       "      <td>0.177642</td>\n",
       "      <td>0.103695</td>\n",
       "      <td>0.103695</td>\n",
       "      <td>0.103695</td>\n",
       "      <td>0.103695</td>\n",
       "      <td>0.103695</td>\n",
       "      <td>...</td>\n",
       "      <td>0.103695</td>\n",
       "      <td>0.103695</td>\n",
       "      <td>0.103695</td>\n",
       "      <td>0.103695</td>\n",
       "      <td>0.203981</td>\n",
       "      <td>0.103695</td>\n",
       "      <td>0.297252</td>\n",
       "      <td>0.103695</td>\n",
       "      <td>0.247002</td>\n",
       "      <td>0.103695</td>\n",
       "    </tr>\n",
       "    <tr>\n",
       "      <th>min</th>\n",
       "      <td>0.000000</td>\n",
       "      <td>0.000000</td>\n",
       "      <td>0.000000</td>\n",
       "      <td>0.000000</td>\n",
       "      <td>0.000000</td>\n",
       "      <td>0.000000</td>\n",
       "      <td>0.000000</td>\n",
       "      <td>0.000000</td>\n",
       "      <td>0.000000</td>\n",
       "      <td>0.000000</td>\n",
       "      <td>...</td>\n",
       "      <td>0.000000</td>\n",
       "      <td>0.000000</td>\n",
       "      <td>0.000000</td>\n",
       "      <td>0.000000</td>\n",
       "      <td>0.000000</td>\n",
       "      <td>0.000000</td>\n",
       "      <td>0.000000</td>\n",
       "      <td>0.000000</td>\n",
       "      <td>0.000000</td>\n",
       "      <td>0.000000</td>\n",
       "    </tr>\n",
       "    <tr>\n",
       "      <th>25%</th>\n",
       "      <td>0.000000</td>\n",
       "      <td>0.000000</td>\n",
       "      <td>0.000000</td>\n",
       "      <td>0.000000</td>\n",
       "      <td>0.000000</td>\n",
       "      <td>0.000000</td>\n",
       "      <td>0.000000</td>\n",
       "      <td>0.000000</td>\n",
       "      <td>0.000000</td>\n",
       "      <td>0.000000</td>\n",
       "      <td>...</td>\n",
       "      <td>0.000000</td>\n",
       "      <td>0.000000</td>\n",
       "      <td>0.000000</td>\n",
       "      <td>0.000000</td>\n",
       "      <td>0.000000</td>\n",
       "      <td>0.000000</td>\n",
       "      <td>0.000000</td>\n",
       "      <td>0.000000</td>\n",
       "      <td>0.000000</td>\n",
       "      <td>0.000000</td>\n",
       "    </tr>\n",
       "    <tr>\n",
       "      <th>50%</th>\n",
       "      <td>0.000000</td>\n",
       "      <td>0.000000</td>\n",
       "      <td>0.000000</td>\n",
       "      <td>0.000000</td>\n",
       "      <td>0.000000</td>\n",
       "      <td>0.000000</td>\n",
       "      <td>0.000000</td>\n",
       "      <td>0.000000</td>\n",
       "      <td>0.000000</td>\n",
       "      <td>0.000000</td>\n",
       "      <td>...</td>\n",
       "      <td>0.000000</td>\n",
       "      <td>0.000000</td>\n",
       "      <td>0.000000</td>\n",
       "      <td>0.000000</td>\n",
       "      <td>0.000000</td>\n",
       "      <td>0.000000</td>\n",
       "      <td>0.000000</td>\n",
       "      <td>0.000000</td>\n",
       "      <td>0.000000</td>\n",
       "      <td>0.000000</td>\n",
       "    </tr>\n",
       "    <tr>\n",
       "      <th>75%</th>\n",
       "      <td>0.000000</td>\n",
       "      <td>0.000000</td>\n",
       "      <td>0.000000</td>\n",
       "      <td>0.000000</td>\n",
       "      <td>0.000000</td>\n",
       "      <td>0.000000</td>\n",
       "      <td>0.000000</td>\n",
       "      <td>0.000000</td>\n",
       "      <td>0.000000</td>\n",
       "      <td>0.000000</td>\n",
       "      <td>...</td>\n",
       "      <td>0.000000</td>\n",
       "      <td>0.000000</td>\n",
       "      <td>0.000000</td>\n",
       "      <td>0.000000</td>\n",
       "      <td>0.000000</td>\n",
       "      <td>0.000000</td>\n",
       "      <td>0.000000</td>\n",
       "      <td>0.000000</td>\n",
       "      <td>0.000000</td>\n",
       "      <td>0.000000</td>\n",
       "    </tr>\n",
       "    <tr>\n",
       "      <th>max</th>\n",
       "      <td>1.000000</td>\n",
       "      <td>1.000000</td>\n",
       "      <td>1.000000</td>\n",
       "      <td>1.000000</td>\n",
       "      <td>1.000000</td>\n",
       "      <td>1.000000</td>\n",
       "      <td>1.000000</td>\n",
       "      <td>1.000000</td>\n",
       "      <td>1.000000</td>\n",
       "      <td>1.000000</td>\n",
       "      <td>...</td>\n",
       "      <td>1.000000</td>\n",
       "      <td>1.000000</td>\n",
       "      <td>1.000000</td>\n",
       "      <td>1.000000</td>\n",
       "      <td>1.000000</td>\n",
       "      <td>1.000000</td>\n",
       "      <td>1.000000</td>\n",
       "      <td>1.000000</td>\n",
       "      <td>1.000000</td>\n",
       "      <td>1.000000</td>\n",
       "    </tr>\n",
       "  </tbody>\n",
       "</table>\n",
       "<p>8 rows × 9012 columns</p>\n",
       "</div>"
      ],
      "text/plain": [
       "            0          1          2          3          4          5      \n",
       "count  93.000000  93.000000  93.000000  93.000000  93.000000  93.000000  \\\n",
       "mean    0.010753   0.010753   0.107527   0.010753   0.032258   0.010753   \n",
       "std     0.103695   0.103695   0.311461   0.103695   0.177642   0.103695   \n",
       "min     0.000000   0.000000   0.000000   0.000000   0.000000   0.000000   \n",
       "25%     0.000000   0.000000   0.000000   0.000000   0.000000   0.000000   \n",
       "50%     0.000000   0.000000   0.000000   0.000000   0.000000   0.000000   \n",
       "75%     0.000000   0.000000   0.000000   0.000000   0.000000   0.000000   \n",
       "max     1.000000   1.000000   1.000000   1.000000   1.000000   1.000000   \n",
       "\n",
       "            6          7          8          9     ...       9002       9003   \n",
       "count  93.000000  93.000000  93.000000  93.000000  ...  93.000000  93.000000  \\\n",
       "mean    0.010753   0.010753   0.010753   0.010753  ...   0.010753   0.010753   \n",
       "std     0.103695   0.103695   0.103695   0.103695  ...   0.103695   0.103695   \n",
       "min     0.000000   0.000000   0.000000   0.000000  ...   0.000000   0.000000   \n",
       "25%     0.000000   0.000000   0.000000   0.000000  ...   0.000000   0.000000   \n",
       "50%     0.000000   0.000000   0.000000   0.000000  ...   0.000000   0.000000   \n",
       "75%     0.000000   0.000000   0.000000   0.000000  ...   0.000000   0.000000   \n",
       "max     1.000000   1.000000   1.000000   1.000000  ...   1.000000   1.000000   \n",
       "\n",
       "            9004       9005       9006       9007       9008       9009   \n",
       "count  93.000000  93.000000  93.000000  93.000000  93.000000  93.000000  \\\n",
       "mean    0.010753   0.010753   0.043011   0.010753   0.096774   0.010753   \n",
       "std     0.103695   0.103695   0.203981   0.103695   0.297252   0.103695   \n",
       "min     0.000000   0.000000   0.000000   0.000000   0.000000   0.000000   \n",
       "25%     0.000000   0.000000   0.000000   0.000000   0.000000   0.000000   \n",
       "50%     0.000000   0.000000   0.000000   0.000000   0.000000   0.000000   \n",
       "75%     0.000000   0.000000   0.000000   0.000000   0.000000   0.000000   \n",
       "max     1.000000   1.000000   1.000000   1.000000   1.000000   1.000000   \n",
       "\n",
       "            9010       9011  \n",
       "count  93.000000  93.000000  \n",
       "mean    0.064516   0.010753  \n",
       "std     0.247002   0.103695  \n",
       "min     0.000000   0.000000  \n",
       "25%     0.000000   0.000000  \n",
       "50%     0.000000   0.000000  \n",
       "75%     0.000000   0.000000  \n",
       "max     1.000000   1.000000  \n",
       "\n",
       "[8 rows x 9012 columns]"
      ]
     },
     "execution_count": 49,
     "metadata": {},
     "output_type": "execute_result"
    }
   ],
   "source": [
    "pd.DataFrame(X_minmax).describe()"
   ]
  },
  {
   "attachments": {},
   "cell_type": "markdown",
   "metadata": {},
   "source": [
    "#### Podział na zbiory treningowy oraz testowy"
   ]
  },
  {
   "cell_type": "code",
   "execution_count": 200,
   "metadata": {},
   "outputs": [],
   "source": [
    "y = ['emma'] * 19 + ['persuasion'] * 24 + ['sense'] * 50\n",
    "\n",
    "X_train, X_test, y_train, y_test = train_test_split(X_minmax, y, test_size=0.30)"
   ]
  },
  {
   "cell_type": "code",
   "execution_count": 201,
   "metadata": {},
   "outputs": [
    {
     "name": "stdout",
     "output_type": "stream",
     "text": [
      "klasy zbioru treningowego: ['emma', 'sense', 'sense', 'persuasion', 'persuasion', 'sense', 'emma', 'sense', 'persuasion', 'sense', 'sense', 'sense', 'emma', 'sense', 'emma', 'emma', 'sense', 'sense', 'sense', 'sense', 'sense', 'persuasion', 'sense', 'sense', 'sense', 'emma', 'sense', 'emma', 'sense', 'sense', 'sense', 'sense', 'persuasion', 'sense', 'emma', 'persuasion', 'sense', 'persuasion', 'persuasion', 'emma', 'sense', 'persuasion', 'emma', 'emma', 'persuasion', 'persuasion', 'sense', 'sense', 'sense', 'sense', 'sense', 'sense', 'sense', 'sense', 'emma', 'persuasion', 'persuasion', 'sense', 'sense', 'sense', 'emma', 'emma', 'persuasion', 'sense', 'emma']\n",
      "klasy zbioru testowego: ['persuasion', 'persuasion', 'emma', 'sense', 'persuasion', 'sense', 'sense', 'sense', 'persuasion', 'sense', 'sense', 'sense', 'sense', 'sense', 'persuasion', 'sense', 'sense', 'persuasion', 'persuasion', 'sense', 'emma', 'persuasion', 'emma', 'persuasion', 'sense', 'persuasion', 'sense', 'emma']\n"
     ]
    }
   ],
   "source": [
    "print(f'klasy zbioru treningowego: {y_train}')\n",
    "print(f'klasy zbioru testowego: {y_test}')"
   ]
  },
  {
   "cell_type": "code",
   "execution_count": 202,
   "metadata": {},
   "outputs": [
    {
     "data": {
      "text/html": [
       "<style>#sk-container-id-25 {color: black;background-color: white;}#sk-container-id-25 pre{padding: 0;}#sk-container-id-25 div.sk-toggleable {background-color: white;}#sk-container-id-25 label.sk-toggleable__label {cursor: pointer;display: block;width: 100%;margin-bottom: 0;padding: 0.3em;box-sizing: border-box;text-align: center;}#sk-container-id-25 label.sk-toggleable__label-arrow:before {content: \"▸\";float: left;margin-right: 0.25em;color: #696969;}#sk-container-id-25 label.sk-toggleable__label-arrow:hover:before {color: black;}#sk-container-id-25 div.sk-estimator:hover label.sk-toggleable__label-arrow:before {color: black;}#sk-container-id-25 div.sk-toggleable__content {max-height: 0;max-width: 0;overflow: hidden;text-align: left;background-color: #f0f8ff;}#sk-container-id-25 div.sk-toggleable__content pre {margin: 0.2em;color: black;border-radius: 0.25em;background-color: #f0f8ff;}#sk-container-id-25 input.sk-toggleable__control:checked~div.sk-toggleable__content {max-height: 200px;max-width: 100%;overflow: auto;}#sk-container-id-25 input.sk-toggleable__control:checked~label.sk-toggleable__label-arrow:before {content: \"▾\";}#sk-container-id-25 div.sk-estimator input.sk-toggleable__control:checked~label.sk-toggleable__label {background-color: #d4ebff;}#sk-container-id-25 div.sk-label input.sk-toggleable__control:checked~label.sk-toggleable__label {background-color: #d4ebff;}#sk-container-id-25 input.sk-hidden--visually {border: 0;clip: rect(1px 1px 1px 1px);clip: rect(1px, 1px, 1px, 1px);height: 1px;margin: -1px;overflow: hidden;padding: 0;position: absolute;width: 1px;}#sk-container-id-25 div.sk-estimator {font-family: monospace;background-color: #f0f8ff;border: 1px dotted black;border-radius: 0.25em;box-sizing: border-box;margin-bottom: 0.5em;}#sk-container-id-25 div.sk-estimator:hover {background-color: #d4ebff;}#sk-container-id-25 div.sk-parallel-item::after {content: \"\";width: 100%;border-bottom: 1px solid gray;flex-grow: 1;}#sk-container-id-25 div.sk-label:hover label.sk-toggleable__label {background-color: #d4ebff;}#sk-container-id-25 div.sk-serial::before {content: \"\";position: absolute;border-left: 1px solid gray;box-sizing: border-box;top: 0;bottom: 0;left: 50%;z-index: 0;}#sk-container-id-25 div.sk-serial {display: flex;flex-direction: column;align-items: center;background-color: white;padding-right: 0.2em;padding-left: 0.2em;position: relative;}#sk-container-id-25 div.sk-item {position: relative;z-index: 1;}#sk-container-id-25 div.sk-parallel {display: flex;align-items: stretch;justify-content: center;background-color: white;position: relative;}#sk-container-id-25 div.sk-item::before, #sk-container-id-25 div.sk-parallel-item::before {content: \"\";position: absolute;border-left: 1px solid gray;box-sizing: border-box;top: 0;bottom: 0;left: 50%;z-index: -1;}#sk-container-id-25 div.sk-parallel-item {display: flex;flex-direction: column;z-index: 1;position: relative;background-color: white;}#sk-container-id-25 div.sk-parallel-item:first-child::after {align-self: flex-end;width: 50%;}#sk-container-id-25 div.sk-parallel-item:last-child::after {align-self: flex-start;width: 50%;}#sk-container-id-25 div.sk-parallel-item:only-child::after {width: 0;}#sk-container-id-25 div.sk-dashed-wrapped {border: 1px dashed gray;margin: 0 0.4em 0.5em 0.4em;box-sizing: border-box;padding-bottom: 0.4em;background-color: white;}#sk-container-id-25 div.sk-label label {font-family: monospace;font-weight: bold;display: inline-block;line-height: 1.2em;}#sk-container-id-25 div.sk-label-container {text-align: center;}#sk-container-id-25 div.sk-container {/* jupyter's `normalize.less` sets `[hidden] { display: none; }` but bootstrap.min.css set `[hidden] { display: none !important; }` so we also need the `!important` here to be able to override the default hidden behavior on the sphinx rendered scikit-learn.org. See: https://github.com/scikit-learn/scikit-learn/issues/21755 */display: inline-block !important;position: relative;}#sk-container-id-25 div.sk-text-repr-fallback {display: none;}</style><div id=\"sk-container-id-25\" class=\"sk-top-container\"><div class=\"sk-text-repr-fallback\"><pre>KNeighborsClassifier()</pre><b>In a Jupyter environment, please rerun this cell to show the HTML representation or trust the notebook. <br />On GitHub, the HTML representation is unable to render, please try loading this page with nbviewer.org.</b></div><div class=\"sk-container\" hidden><div class=\"sk-item\"><div class=\"sk-estimator sk-toggleable\"><input class=\"sk-toggleable__control sk-hidden--visually\" id=\"sk-estimator-id-25\" type=\"checkbox\" checked><label for=\"sk-estimator-id-25\" class=\"sk-toggleable__label sk-toggleable__label-arrow\">KNeighborsClassifier</label><div class=\"sk-toggleable__content\"><pre>KNeighborsClassifier()</pre></div></div></div></div></div>"
      ],
      "text/plain": [
       "KNeighborsClassifier()"
      ]
     },
     "execution_count": 202,
     "metadata": {},
     "output_type": "execute_result"
    }
   ],
   "source": [
    "model_knn = KNeighborsClassifier(n_neighbors = 5)\n",
    "model_knn.fit(X_train, y_train)"
   ]
  },
  {
   "cell_type": "code",
   "execution_count": 203,
   "metadata": {},
   "outputs": [],
   "source": [
    "y_pred = model_knn.predict(X_test)"
   ]
  },
  {
   "attachments": {},
   "cell_type": "markdown",
   "metadata": {},
   "source": [
    "#### Ocena klasyfikatora dla wag binarnych"
   ]
  },
  {
   "cell_type": "code",
   "execution_count": 204,
   "metadata": {},
   "outputs": [
    {
     "name": "stdout",
     "output_type": "stream",
     "text": [
      "0.6785714285714286\n"
     ]
    }
   ],
   "source": [
    "porownanie = [pred == rzecz for pred, rzecz in zip (y_pred, y_test)]\n",
    "print(sum(porownanie)/len(porownanie))"
   ]
  },
  {
   "attachments": {},
   "cell_type": "markdown",
   "metadata": {},
   "source": [
    "Dokładność klasyfikacji wynosi około 68%. Rozkład elementów w klasach jest nierównomierny, przez co posługiwanie się tylko dokładnością może zaburzać pogląd sytuacji poprzez najlepszą naukę klasyfikacji do klasy najliczniejszej."
   ]
  },
  {
   "cell_type": "code",
   "execution_count": 205,
   "metadata": {},
   "outputs": [
    {
     "name": "stdout",
     "output_type": "stream",
     "text": [
      "[[ 0  1  3]\n",
      " [ 0  5  5]\n",
      " [ 0  0 14]]\n",
      "              precision    recall  f1-score   support\n",
      "\n",
      "        emma       0.00      0.00      0.00         4\n",
      "  persuasion       0.83      0.50      0.62        10\n",
      "       sense       0.64      1.00      0.78        14\n",
      "\n",
      "    accuracy                           0.68        28\n",
      "   macro avg       0.49      0.50      0.47        28\n",
      "weighted avg       0.62      0.68      0.61        28\n",
      "\n"
     ]
    },
    {
     "name": "stderr",
     "output_type": "stream",
     "text": [
      "c:\\Users\\Ania\\AppData\\Local\\Programs\\Python\\Python311\\Lib\\site-packages\\sklearn\\metrics\\_classification.py:1344: UndefinedMetricWarning: Precision and F-score are ill-defined and being set to 0.0 in labels with no predicted samples. Use `zero_division` parameter to control this behavior.\n",
      "  _warn_prf(average, modifier, msg_start, len(result))\n",
      "c:\\Users\\Ania\\AppData\\Local\\Programs\\Python\\Python311\\Lib\\site-packages\\sklearn\\metrics\\_classification.py:1344: UndefinedMetricWarning: Precision and F-score are ill-defined and being set to 0.0 in labels with no predicted samples. Use `zero_division` parameter to control this behavior.\n",
      "  _warn_prf(average, modifier, msg_start, len(result))\n",
      "c:\\Users\\Ania\\AppData\\Local\\Programs\\Python\\Python311\\Lib\\site-packages\\sklearn\\metrics\\_classification.py:1344: UndefinedMetricWarning: Precision and F-score are ill-defined and being set to 0.0 in labels with no predicted samples. Use `zero_division` parameter to control this behavior.\n",
      "  _warn_prf(average, modifier, msg_start, len(result))\n"
     ]
    }
   ],
   "source": [
    "print(confusion_matrix(y_test, y_pred))\n",
    "print(classification_report(y_test, y_pred))"
   ]
  },
  {
   "attachments": {},
   "cell_type": "markdown",
   "metadata": {},
   "source": [
    "Zbiór testowy składa się z czterech rozdziałów książki \"Emma\", dziesięciu rozdziałów książki \"Persuasion\" oraz czternastu rozdziałów książki \"Sense and Sensibility\". \n",
    "\n",
    "Rozdziały książki \"Emma\" nie zostały ani razu zaklasyfikowane do swojej klasy rzeczywistej. Raz rozdział książki został przydzielony do klasy \"Persuasion\" oraz trzy razy do klasy \"Sense and Sensibility\". Ma to odzwierciedlenie w wrażliwości klasyfikacji tej klasy na poziomie 0. Trafność rozpoznawania tej klasy również jest na poziomie 0. Oznacza to, że klasyfikator nie radzi sobie z klasyfikacją książki \"Emma\". Można też zaobserwować, że klasa \"Emma\" nie pojawiła się ani razu w przeprowadzanej klasyfikacji o czym świadczy pierwsza kolumna macierzy pomyłek.\n",
    "\n",
    "Kolejna pozycja, to klasa książki \"Persuasion\". Została ona zaklasyfikowana pięć razy do właściwej klasy oraz pięć razy do klasy \"Sense and Sensibility\". Stąd wynika wartość 50% trafności klasyfikacji tej klasy. Nie jest to dobry wynik. Oznacza on, że klasyfikator w połowie przypadków źle przewiduje klasę \"Persuasion\", czyli nie radzi sobie z klasyfikacją tej klasy. Wartość wrażliwości klasyfikatora wynosi 83%. Wynika to z pięciokrotnej klasyfikacji poprawnej tej klasy na wszystkie przewidywania tej klasy. \n",
    "\n",
    "Ostatnią analizowaną klasą jest klasa książki \"Sense and Sensibility\". Wrażliwość klasyfikacji tej klasy wynosi 64%. Taki wynik jest spowodowany niepoprawnym przydzieleniem pozostałych książek do tej klasy (3 rozdziały książki \"Emma\" oraz 5 rozdziałów książki \"Persuasion\" zostały błędnie zaklasyfikowane do książki \"Sense and Sensibility\"). Natomiast trafność rozpoznawania tej klasy wynosi 100%. Co oznacza, że klasyfikator dobrze radzi sobie z rozpoznawaniem tej klasy. "
   ]
  },
  {
   "attachments": {},
   "cell_type": "markdown",
   "metadata": {},
   "source": [
    "#### Dla wag logarytmicznych"
   ]
  },
  {
   "cell_type": "code",
   "execution_count": 206,
   "metadata": {},
   "outputs": [
    {
     "data": {
      "text/html": [
       "<div>\n",
       "<style scoped>\n",
       "    .dataframe tbody tr th:only-of-type {\n",
       "        vertical-align: middle;\n",
       "    }\n",
       "\n",
       "    .dataframe tbody tr th {\n",
       "        vertical-align: top;\n",
       "    }\n",
       "\n",
       "    .dataframe thead th {\n",
       "        text-align: right;\n",
       "    }\n",
       "</style>\n",
       "<table border=\"1\" class=\"dataframe\">\n",
       "  <thead>\n",
       "    <tr style=\"text-align: right;\">\n",
       "      <th></th>\n",
       "      <th>abandon</th>\n",
       "      <th>abat</th>\n",
       "      <th>abbey</th>\n",
       "      <th>abbeyland</th>\n",
       "      <th>abbeymil</th>\n",
       "      <th>abbeyoh</th>\n",
       "      <th>abbot</th>\n",
       "      <th>abbrevi</th>\n",
       "      <th>abdi</th>\n",
       "      <th>abdic</th>\n",
       "      <th>...</th>\n",
       "      <th>youthkil</th>\n",
       "      <th>youto</th>\n",
       "      <th>youwhat</th>\n",
       "      <th>youwhen</th>\n",
       "      <th>youyou</th>\n",
       "      <th>z</th>\n",
       "      <th>zeal</th>\n",
       "      <th>zealit</th>\n",
       "      <th>zealous</th>\n",
       "      <th>zigzag</th>\n",
       "    </tr>\n",
       "  </thead>\n",
       "  <tbody>\n",
       "    <tr>\n",
       "      <th>1</th>\n",
       "      <td>0.0</td>\n",
       "      <td>0.0</td>\n",
       "      <td>0.000000</td>\n",
       "      <td>0.0</td>\n",
       "      <td>0.000000</td>\n",
       "      <td>0.0</td>\n",
       "      <td>0.000000</td>\n",
       "      <td>0.0</td>\n",
       "      <td>0.0</td>\n",
       "      <td>0.0</td>\n",
       "      <td>...</td>\n",
       "      <td>0.0</td>\n",
       "      <td>0.0</td>\n",
       "      <td>0.0</td>\n",
       "      <td>0.0</td>\n",
       "      <td>0.0</td>\n",
       "      <td>0.0</td>\n",
       "      <td>0.0</td>\n",
       "      <td>0.0</td>\n",
       "      <td>0.000000</td>\n",
       "      <td>0.0</td>\n",
       "    </tr>\n",
       "    <tr>\n",
       "      <th>2</th>\n",
       "      <td>0.0</td>\n",
       "      <td>0.0</td>\n",
       "      <td>0.000000</td>\n",
       "      <td>0.0</td>\n",
       "      <td>0.000000</td>\n",
       "      <td>0.0</td>\n",
       "      <td>0.000000</td>\n",
       "      <td>0.0</td>\n",
       "      <td>0.0</td>\n",
       "      <td>0.0</td>\n",
       "      <td>...</td>\n",
       "      <td>0.0</td>\n",
       "      <td>0.0</td>\n",
       "      <td>0.0</td>\n",
       "      <td>0.0</td>\n",
       "      <td>0.0</td>\n",
       "      <td>0.0</td>\n",
       "      <td>0.0</td>\n",
       "      <td>0.0</td>\n",
       "      <td>0.000000</td>\n",
       "      <td>0.0</td>\n",
       "    </tr>\n",
       "    <tr>\n",
       "      <th>3</th>\n",
       "      <td>0.0</td>\n",
       "      <td>0.0</td>\n",
       "      <td>0.693147</td>\n",
       "      <td>0.0</td>\n",
       "      <td>0.000000</td>\n",
       "      <td>0.0</td>\n",
       "      <td>0.000000</td>\n",
       "      <td>0.0</td>\n",
       "      <td>0.0</td>\n",
       "      <td>0.0</td>\n",
       "      <td>...</td>\n",
       "      <td>0.0</td>\n",
       "      <td>0.0</td>\n",
       "      <td>0.0</td>\n",
       "      <td>0.0</td>\n",
       "      <td>0.0</td>\n",
       "      <td>0.0</td>\n",
       "      <td>0.0</td>\n",
       "      <td>0.0</td>\n",
       "      <td>0.000000</td>\n",
       "      <td>0.0</td>\n",
       "    </tr>\n",
       "    <tr>\n",
       "      <th>4</th>\n",
       "      <td>0.0</td>\n",
       "      <td>0.0</td>\n",
       "      <td>0.693147</td>\n",
       "      <td>0.0</td>\n",
       "      <td>0.693147</td>\n",
       "      <td>0.0</td>\n",
       "      <td>0.000000</td>\n",
       "      <td>0.0</td>\n",
       "      <td>0.0</td>\n",
       "      <td>0.0</td>\n",
       "      <td>...</td>\n",
       "      <td>0.0</td>\n",
       "      <td>0.0</td>\n",
       "      <td>0.0</td>\n",
       "      <td>0.0</td>\n",
       "      <td>0.0</td>\n",
       "      <td>0.0</td>\n",
       "      <td>0.0</td>\n",
       "      <td>0.0</td>\n",
       "      <td>0.000000</td>\n",
       "      <td>0.0</td>\n",
       "    </tr>\n",
       "    <tr>\n",
       "      <th>5</th>\n",
       "      <td>0.0</td>\n",
       "      <td>0.0</td>\n",
       "      <td>0.693147</td>\n",
       "      <td>0.0</td>\n",
       "      <td>0.000000</td>\n",
       "      <td>0.0</td>\n",
       "      <td>0.693147</td>\n",
       "      <td>0.0</td>\n",
       "      <td>0.0</td>\n",
       "      <td>0.0</td>\n",
       "      <td>...</td>\n",
       "      <td>0.0</td>\n",
       "      <td>0.0</td>\n",
       "      <td>0.0</td>\n",
       "      <td>0.0</td>\n",
       "      <td>0.0</td>\n",
       "      <td>0.0</td>\n",
       "      <td>0.0</td>\n",
       "      <td>0.0</td>\n",
       "      <td>0.000000</td>\n",
       "      <td>0.0</td>\n",
       "    </tr>\n",
       "    <tr>\n",
       "      <th>...</th>\n",
       "      <td>...</td>\n",
       "      <td>...</td>\n",
       "      <td>...</td>\n",
       "      <td>...</td>\n",
       "      <td>...</td>\n",
       "      <td>...</td>\n",
       "      <td>...</td>\n",
       "      <td>...</td>\n",
       "      <td>...</td>\n",
       "      <td>...</td>\n",
       "      <td>...</td>\n",
       "      <td>...</td>\n",
       "      <td>...</td>\n",
       "      <td>...</td>\n",
       "      <td>...</td>\n",
       "      <td>...</td>\n",
       "      <td>...</td>\n",
       "      <td>...</td>\n",
       "      <td>...</td>\n",
       "      <td>...</td>\n",
       "      <td>...</td>\n",
       "    </tr>\n",
       "    <tr>\n",
       "      <th>89</th>\n",
       "      <td>0.0</td>\n",
       "      <td>0.0</td>\n",
       "      <td>0.000000</td>\n",
       "      <td>0.0</td>\n",
       "      <td>0.000000</td>\n",
       "      <td>0.0</td>\n",
       "      <td>0.000000</td>\n",
       "      <td>0.0</td>\n",
       "      <td>0.0</td>\n",
       "      <td>0.0</td>\n",
       "      <td>...</td>\n",
       "      <td>0.0</td>\n",
       "      <td>0.0</td>\n",
       "      <td>0.0</td>\n",
       "      <td>0.0</td>\n",
       "      <td>0.0</td>\n",
       "      <td>0.0</td>\n",
       "      <td>0.0</td>\n",
       "      <td>0.0</td>\n",
       "      <td>0.000000</td>\n",
       "      <td>0.0</td>\n",
       "    </tr>\n",
       "    <tr>\n",
       "      <th>90</th>\n",
       "      <td>0.0</td>\n",
       "      <td>0.0</td>\n",
       "      <td>0.000000</td>\n",
       "      <td>0.0</td>\n",
       "      <td>0.000000</td>\n",
       "      <td>0.0</td>\n",
       "      <td>0.000000</td>\n",
       "      <td>0.0</td>\n",
       "      <td>0.0</td>\n",
       "      <td>0.0</td>\n",
       "      <td>...</td>\n",
       "      <td>0.0</td>\n",
       "      <td>0.0</td>\n",
       "      <td>0.0</td>\n",
       "      <td>0.0</td>\n",
       "      <td>0.0</td>\n",
       "      <td>0.0</td>\n",
       "      <td>0.0</td>\n",
       "      <td>0.0</td>\n",
       "      <td>0.000000</td>\n",
       "      <td>0.0</td>\n",
       "    </tr>\n",
       "    <tr>\n",
       "      <th>91</th>\n",
       "      <td>0.0</td>\n",
       "      <td>0.0</td>\n",
       "      <td>0.000000</td>\n",
       "      <td>0.0</td>\n",
       "      <td>0.000000</td>\n",
       "      <td>0.0</td>\n",
       "      <td>0.000000</td>\n",
       "      <td>0.0</td>\n",
       "      <td>0.0</td>\n",
       "      <td>0.0</td>\n",
       "      <td>...</td>\n",
       "      <td>0.0</td>\n",
       "      <td>0.0</td>\n",
       "      <td>0.0</td>\n",
       "      <td>0.0</td>\n",
       "      <td>0.0</td>\n",
       "      <td>0.0</td>\n",
       "      <td>0.0</td>\n",
       "      <td>0.0</td>\n",
       "      <td>0.000000</td>\n",
       "      <td>0.0</td>\n",
       "    </tr>\n",
       "    <tr>\n",
       "      <th>92</th>\n",
       "      <td>0.0</td>\n",
       "      <td>0.0</td>\n",
       "      <td>0.000000</td>\n",
       "      <td>0.0</td>\n",
       "      <td>0.000000</td>\n",
       "      <td>0.0</td>\n",
       "      <td>0.000000</td>\n",
       "      <td>0.0</td>\n",
       "      <td>0.0</td>\n",
       "      <td>0.0</td>\n",
       "      <td>...</td>\n",
       "      <td>0.0</td>\n",
       "      <td>0.0</td>\n",
       "      <td>0.0</td>\n",
       "      <td>0.0</td>\n",
       "      <td>0.0</td>\n",
       "      <td>0.0</td>\n",
       "      <td>0.0</td>\n",
       "      <td>0.0</td>\n",
       "      <td>0.693147</td>\n",
       "      <td>0.0</td>\n",
       "    </tr>\n",
       "    <tr>\n",
       "      <th>93</th>\n",
       "      <td>0.0</td>\n",
       "      <td>0.0</td>\n",
       "      <td>0.000000</td>\n",
       "      <td>0.0</td>\n",
       "      <td>0.000000</td>\n",
       "      <td>0.0</td>\n",
       "      <td>0.000000</td>\n",
       "      <td>0.0</td>\n",
       "      <td>0.0</td>\n",
       "      <td>0.0</td>\n",
       "      <td>...</td>\n",
       "      <td>0.0</td>\n",
       "      <td>0.0</td>\n",
       "      <td>0.0</td>\n",
       "      <td>0.0</td>\n",
       "      <td>0.0</td>\n",
       "      <td>0.0</td>\n",
       "      <td>0.0</td>\n",
       "      <td>0.0</td>\n",
       "      <td>0.000000</td>\n",
       "      <td>0.0</td>\n",
       "    </tr>\n",
       "  </tbody>\n",
       "</table>\n",
       "<p>93 rows × 9012 columns</p>\n",
       "</div>"
      ],
      "text/plain": [
       "    abandon  abat     abbey  abbeyland  abbeymil  abbeyoh     abbot  abbrevi   \n",
       "1       0.0   0.0  0.000000        0.0  0.000000      0.0  0.000000      0.0  \\\n",
       "2       0.0   0.0  0.000000        0.0  0.000000      0.0  0.000000      0.0   \n",
       "3       0.0   0.0  0.693147        0.0  0.000000      0.0  0.000000      0.0   \n",
       "4       0.0   0.0  0.693147        0.0  0.693147      0.0  0.000000      0.0   \n",
       "5       0.0   0.0  0.693147        0.0  0.000000      0.0  0.693147      0.0   \n",
       "..      ...   ...       ...        ...       ...      ...       ...      ...   \n",
       "89      0.0   0.0  0.000000        0.0  0.000000      0.0  0.000000      0.0   \n",
       "90      0.0   0.0  0.000000        0.0  0.000000      0.0  0.000000      0.0   \n",
       "91      0.0   0.0  0.000000        0.0  0.000000      0.0  0.000000      0.0   \n",
       "92      0.0   0.0  0.000000        0.0  0.000000      0.0  0.000000      0.0   \n",
       "93      0.0   0.0  0.000000        0.0  0.000000      0.0  0.000000      0.0   \n",
       "\n",
       "    abdi  abdic  ...  youthkil  youto  youwhat  youwhen  youyou    z  zeal   \n",
       "1    0.0    0.0  ...       0.0    0.0      0.0      0.0     0.0  0.0   0.0  \\\n",
       "2    0.0    0.0  ...       0.0    0.0      0.0      0.0     0.0  0.0   0.0   \n",
       "3    0.0    0.0  ...       0.0    0.0      0.0      0.0     0.0  0.0   0.0   \n",
       "4    0.0    0.0  ...       0.0    0.0      0.0      0.0     0.0  0.0   0.0   \n",
       "5    0.0    0.0  ...       0.0    0.0      0.0      0.0     0.0  0.0   0.0   \n",
       "..   ...    ...  ...       ...    ...      ...      ...     ...  ...   ...   \n",
       "89   0.0    0.0  ...       0.0    0.0      0.0      0.0     0.0  0.0   0.0   \n",
       "90   0.0    0.0  ...       0.0    0.0      0.0      0.0     0.0  0.0   0.0   \n",
       "91   0.0    0.0  ...       0.0    0.0      0.0      0.0     0.0  0.0   0.0   \n",
       "92   0.0    0.0  ...       0.0    0.0      0.0      0.0     0.0  0.0   0.0   \n",
       "93   0.0    0.0  ...       0.0    0.0      0.0      0.0     0.0  0.0   0.0   \n",
       "\n",
       "    zealit   zealous  zigzag  \n",
       "1      0.0  0.000000     0.0  \n",
       "2      0.0  0.000000     0.0  \n",
       "3      0.0  0.000000     0.0  \n",
       "4      0.0  0.000000     0.0  \n",
       "5      0.0  0.000000     0.0  \n",
       "..     ...       ...     ...  \n",
       "89     0.0  0.000000     0.0  \n",
       "90     0.0  0.000000     0.0  \n",
       "91     0.0  0.000000     0.0  \n",
       "92     0.0  0.693147     0.0  \n",
       "93     0.0  0.000000     0.0  \n",
       "\n",
       "[93 rows x 9012 columns]"
      ]
     },
     "execution_count": 206,
     "metadata": {},
     "output_type": "execute_result"
    }
   ],
   "source": [
    "# Inicjalizacja obiektu MultiLabelBinarizer\n",
    "mlb = MultiLabelBinarizer()\n",
    "\n",
    "# Transformacja listy tokenów na macierz binarną\n",
    "dtm = mlb.fit_transform(combined_df['text'])\n",
    "\n",
    "# Zastosowanie transformacji logarytmicznej\n",
    "dtm_log = np.log1p(dtm)\n",
    "\n",
    "# Pobranie listy terów\n",
    "terms = mlb.classes_\n",
    "\n",
    "# Tworzenie DataFrame z macierzy logarytmicznej dokument-term\n",
    "dtm_log_df = pd.DataFrame(dtm_log, columns=terms)\n",
    "\n",
    "# Ustawienie indeksu na liczby od 1 do n (gdzie n to liczba aktów)\n",
    "dtm_log_df.index = range(1, len(combined_df) + 1)\n",
    "\n",
    "# Wyświetlanie macierzy logarytmicznej dokument-term\n",
    "dtm_log_df"
   ]
  },
  {
   "cell_type": "code",
   "execution_count": 207,
   "metadata": {},
   "outputs": [],
   "source": [
    "X = dtm_df.values\n",
    "\n",
    "min_max_scaler = MinMaxScaler()\n",
    "X_minmax = min_max_scaler.fit_transform(X)"
   ]
  },
  {
   "cell_type": "code",
   "execution_count": 208,
   "metadata": {},
   "outputs": [
    {
     "data": {
      "text/html": [
       "<div>\n",
       "<style scoped>\n",
       "    .dataframe tbody tr th:only-of-type {\n",
       "        vertical-align: middle;\n",
       "    }\n",
       "\n",
       "    .dataframe tbody tr th {\n",
       "        vertical-align: top;\n",
       "    }\n",
       "\n",
       "    .dataframe thead th {\n",
       "        text-align: right;\n",
       "    }\n",
       "</style>\n",
       "<table border=\"1\" class=\"dataframe\">\n",
       "  <thead>\n",
       "    <tr style=\"text-align: right;\">\n",
       "      <th></th>\n",
       "      <th>0</th>\n",
       "      <th>1</th>\n",
       "      <th>2</th>\n",
       "      <th>3</th>\n",
       "      <th>4</th>\n",
       "      <th>5</th>\n",
       "      <th>6</th>\n",
       "      <th>7</th>\n",
       "      <th>8</th>\n",
       "      <th>9</th>\n",
       "      <th>...</th>\n",
       "      <th>9002</th>\n",
       "      <th>9003</th>\n",
       "      <th>9004</th>\n",
       "      <th>9005</th>\n",
       "      <th>9006</th>\n",
       "      <th>9007</th>\n",
       "      <th>9008</th>\n",
       "      <th>9009</th>\n",
       "      <th>9010</th>\n",
       "      <th>9011</th>\n",
       "    </tr>\n",
       "  </thead>\n",
       "  <tbody>\n",
       "    <tr>\n",
       "      <th>count</th>\n",
       "      <td>93.000000</td>\n",
       "      <td>93.000000</td>\n",
       "      <td>93.000000</td>\n",
       "      <td>93.000000</td>\n",
       "      <td>93.000000</td>\n",
       "      <td>93.000000</td>\n",
       "      <td>93.000000</td>\n",
       "      <td>93.000000</td>\n",
       "      <td>93.000000</td>\n",
       "      <td>93.000000</td>\n",
       "      <td>...</td>\n",
       "      <td>93.000000</td>\n",
       "      <td>93.000000</td>\n",
       "      <td>93.000000</td>\n",
       "      <td>93.000000</td>\n",
       "      <td>93.000000</td>\n",
       "      <td>93.000000</td>\n",
       "      <td>93.000000</td>\n",
       "      <td>93.000000</td>\n",
       "      <td>93.000000</td>\n",
       "      <td>93.000000</td>\n",
       "    </tr>\n",
       "    <tr>\n",
       "      <th>mean</th>\n",
       "      <td>0.010753</td>\n",
       "      <td>0.010753</td>\n",
       "      <td>0.107527</td>\n",
       "      <td>0.010753</td>\n",
       "      <td>0.032258</td>\n",
       "      <td>0.010753</td>\n",
       "      <td>0.010753</td>\n",
       "      <td>0.010753</td>\n",
       "      <td>0.010753</td>\n",
       "      <td>0.010753</td>\n",
       "      <td>...</td>\n",
       "      <td>0.010753</td>\n",
       "      <td>0.010753</td>\n",
       "      <td>0.010753</td>\n",
       "      <td>0.010753</td>\n",
       "      <td>0.043011</td>\n",
       "      <td>0.010753</td>\n",
       "      <td>0.096774</td>\n",
       "      <td>0.010753</td>\n",
       "      <td>0.064516</td>\n",
       "      <td>0.010753</td>\n",
       "    </tr>\n",
       "    <tr>\n",
       "      <th>std</th>\n",
       "      <td>0.103695</td>\n",
       "      <td>0.103695</td>\n",
       "      <td>0.311461</td>\n",
       "      <td>0.103695</td>\n",
       "      <td>0.177642</td>\n",
       "      <td>0.103695</td>\n",
       "      <td>0.103695</td>\n",
       "      <td>0.103695</td>\n",
       "      <td>0.103695</td>\n",
       "      <td>0.103695</td>\n",
       "      <td>...</td>\n",
       "      <td>0.103695</td>\n",
       "      <td>0.103695</td>\n",
       "      <td>0.103695</td>\n",
       "      <td>0.103695</td>\n",
       "      <td>0.203981</td>\n",
       "      <td>0.103695</td>\n",
       "      <td>0.297252</td>\n",
       "      <td>0.103695</td>\n",
       "      <td>0.247002</td>\n",
       "      <td>0.103695</td>\n",
       "    </tr>\n",
       "    <tr>\n",
       "      <th>min</th>\n",
       "      <td>0.000000</td>\n",
       "      <td>0.000000</td>\n",
       "      <td>0.000000</td>\n",
       "      <td>0.000000</td>\n",
       "      <td>0.000000</td>\n",
       "      <td>0.000000</td>\n",
       "      <td>0.000000</td>\n",
       "      <td>0.000000</td>\n",
       "      <td>0.000000</td>\n",
       "      <td>0.000000</td>\n",
       "      <td>...</td>\n",
       "      <td>0.000000</td>\n",
       "      <td>0.000000</td>\n",
       "      <td>0.000000</td>\n",
       "      <td>0.000000</td>\n",
       "      <td>0.000000</td>\n",
       "      <td>0.000000</td>\n",
       "      <td>0.000000</td>\n",
       "      <td>0.000000</td>\n",
       "      <td>0.000000</td>\n",
       "      <td>0.000000</td>\n",
       "    </tr>\n",
       "    <tr>\n",
       "      <th>25%</th>\n",
       "      <td>0.000000</td>\n",
       "      <td>0.000000</td>\n",
       "      <td>0.000000</td>\n",
       "      <td>0.000000</td>\n",
       "      <td>0.000000</td>\n",
       "      <td>0.000000</td>\n",
       "      <td>0.000000</td>\n",
       "      <td>0.000000</td>\n",
       "      <td>0.000000</td>\n",
       "      <td>0.000000</td>\n",
       "      <td>...</td>\n",
       "      <td>0.000000</td>\n",
       "      <td>0.000000</td>\n",
       "      <td>0.000000</td>\n",
       "      <td>0.000000</td>\n",
       "      <td>0.000000</td>\n",
       "      <td>0.000000</td>\n",
       "      <td>0.000000</td>\n",
       "      <td>0.000000</td>\n",
       "      <td>0.000000</td>\n",
       "      <td>0.000000</td>\n",
       "    </tr>\n",
       "    <tr>\n",
       "      <th>50%</th>\n",
       "      <td>0.000000</td>\n",
       "      <td>0.000000</td>\n",
       "      <td>0.000000</td>\n",
       "      <td>0.000000</td>\n",
       "      <td>0.000000</td>\n",
       "      <td>0.000000</td>\n",
       "      <td>0.000000</td>\n",
       "      <td>0.000000</td>\n",
       "      <td>0.000000</td>\n",
       "      <td>0.000000</td>\n",
       "      <td>...</td>\n",
       "      <td>0.000000</td>\n",
       "      <td>0.000000</td>\n",
       "      <td>0.000000</td>\n",
       "      <td>0.000000</td>\n",
       "      <td>0.000000</td>\n",
       "      <td>0.000000</td>\n",
       "      <td>0.000000</td>\n",
       "      <td>0.000000</td>\n",
       "      <td>0.000000</td>\n",
       "      <td>0.000000</td>\n",
       "    </tr>\n",
       "    <tr>\n",
       "      <th>75%</th>\n",
       "      <td>0.000000</td>\n",
       "      <td>0.000000</td>\n",
       "      <td>0.000000</td>\n",
       "      <td>0.000000</td>\n",
       "      <td>0.000000</td>\n",
       "      <td>0.000000</td>\n",
       "      <td>0.000000</td>\n",
       "      <td>0.000000</td>\n",
       "      <td>0.000000</td>\n",
       "      <td>0.000000</td>\n",
       "      <td>...</td>\n",
       "      <td>0.000000</td>\n",
       "      <td>0.000000</td>\n",
       "      <td>0.000000</td>\n",
       "      <td>0.000000</td>\n",
       "      <td>0.000000</td>\n",
       "      <td>0.000000</td>\n",
       "      <td>0.000000</td>\n",
       "      <td>0.000000</td>\n",
       "      <td>0.000000</td>\n",
       "      <td>0.000000</td>\n",
       "    </tr>\n",
       "    <tr>\n",
       "      <th>max</th>\n",
       "      <td>1.000000</td>\n",
       "      <td>1.000000</td>\n",
       "      <td>1.000000</td>\n",
       "      <td>1.000000</td>\n",
       "      <td>1.000000</td>\n",
       "      <td>1.000000</td>\n",
       "      <td>1.000000</td>\n",
       "      <td>1.000000</td>\n",
       "      <td>1.000000</td>\n",
       "      <td>1.000000</td>\n",
       "      <td>...</td>\n",
       "      <td>1.000000</td>\n",
       "      <td>1.000000</td>\n",
       "      <td>1.000000</td>\n",
       "      <td>1.000000</td>\n",
       "      <td>1.000000</td>\n",
       "      <td>1.000000</td>\n",
       "      <td>1.000000</td>\n",
       "      <td>1.000000</td>\n",
       "      <td>1.000000</td>\n",
       "      <td>1.000000</td>\n",
       "    </tr>\n",
       "  </tbody>\n",
       "</table>\n",
       "<p>8 rows × 9012 columns</p>\n",
       "</div>"
      ],
      "text/plain": [
       "            0          1          2          3          4          5      \n",
       "count  93.000000  93.000000  93.000000  93.000000  93.000000  93.000000  \\\n",
       "mean    0.010753   0.010753   0.107527   0.010753   0.032258   0.010753   \n",
       "std     0.103695   0.103695   0.311461   0.103695   0.177642   0.103695   \n",
       "min     0.000000   0.000000   0.000000   0.000000   0.000000   0.000000   \n",
       "25%     0.000000   0.000000   0.000000   0.000000   0.000000   0.000000   \n",
       "50%     0.000000   0.000000   0.000000   0.000000   0.000000   0.000000   \n",
       "75%     0.000000   0.000000   0.000000   0.000000   0.000000   0.000000   \n",
       "max     1.000000   1.000000   1.000000   1.000000   1.000000   1.000000   \n",
       "\n",
       "            6          7          8          9     ...       9002       9003   \n",
       "count  93.000000  93.000000  93.000000  93.000000  ...  93.000000  93.000000  \\\n",
       "mean    0.010753   0.010753   0.010753   0.010753  ...   0.010753   0.010753   \n",
       "std     0.103695   0.103695   0.103695   0.103695  ...   0.103695   0.103695   \n",
       "min     0.000000   0.000000   0.000000   0.000000  ...   0.000000   0.000000   \n",
       "25%     0.000000   0.000000   0.000000   0.000000  ...   0.000000   0.000000   \n",
       "50%     0.000000   0.000000   0.000000   0.000000  ...   0.000000   0.000000   \n",
       "75%     0.000000   0.000000   0.000000   0.000000  ...   0.000000   0.000000   \n",
       "max     1.000000   1.000000   1.000000   1.000000  ...   1.000000   1.000000   \n",
       "\n",
       "            9004       9005       9006       9007       9008       9009   \n",
       "count  93.000000  93.000000  93.000000  93.000000  93.000000  93.000000  \\\n",
       "mean    0.010753   0.010753   0.043011   0.010753   0.096774   0.010753   \n",
       "std     0.103695   0.103695   0.203981   0.103695   0.297252   0.103695   \n",
       "min     0.000000   0.000000   0.000000   0.000000   0.000000   0.000000   \n",
       "25%     0.000000   0.000000   0.000000   0.000000   0.000000   0.000000   \n",
       "50%     0.000000   0.000000   0.000000   0.000000   0.000000   0.000000   \n",
       "75%     0.000000   0.000000   0.000000   0.000000   0.000000   0.000000   \n",
       "max     1.000000   1.000000   1.000000   1.000000   1.000000   1.000000   \n",
       "\n",
       "            9010       9011  \n",
       "count  93.000000  93.000000  \n",
       "mean    0.064516   0.010753  \n",
       "std     0.247002   0.103695  \n",
       "min     0.000000   0.000000  \n",
       "25%     0.000000   0.000000  \n",
       "50%     0.000000   0.000000  \n",
       "75%     0.000000   0.000000  \n",
       "max     1.000000   1.000000  \n",
       "\n",
       "[8 rows x 9012 columns]"
      ]
     },
     "execution_count": 208,
     "metadata": {},
     "output_type": "execute_result"
    }
   ],
   "source": [
    "pd.DataFrame(X_minmax).describe()"
   ]
  },
  {
   "cell_type": "code",
   "execution_count": 209,
   "metadata": {},
   "outputs": [],
   "source": [
    "X_train, X_test, y_train, y_test = train_test_split(X_minmax, y, test_size=0.30)"
   ]
  },
  {
   "cell_type": "code",
   "execution_count": 210,
   "metadata": {},
   "outputs": [
    {
     "name": "stdout",
     "output_type": "stream",
     "text": [
      "klasy zbioru treningowego: ['persuasion', 'sense', 'persuasion', 'sense', 'sense', 'persuasion', 'sense', 'emma', 'sense', 'persuasion', 'persuasion', 'sense', 'emma', 'emma', 'sense', 'sense', 'persuasion', 'emma', 'emma', 'sense', 'sense', 'sense', 'sense', 'sense', 'emma', 'sense', 'persuasion', 'emma', 'sense', 'emma', 'sense', 'persuasion', 'sense', 'sense', 'sense', 'sense', 'persuasion', 'persuasion', 'sense', 'persuasion', 'persuasion', 'sense', 'sense', 'sense', 'emma', 'persuasion', 'sense', 'sense', 'persuasion', 'sense', 'persuasion', 'sense', 'sense', 'sense', 'sense', 'sense', 'persuasion', 'sense', 'sense', 'sense', 'emma', 'persuasion', 'sense', 'persuasion', 'sense']\n",
      "klasy zbioru testowego: ['sense', 'emma', 'emma', 'sense', 'emma', 'persuasion', 'persuasion', 'emma', 'sense', 'emma', 'persuasion', 'sense', 'sense', 'sense', 'persuasion', 'persuasion', 'sense', 'sense', 'emma', 'sense', 'sense', 'persuasion', 'sense', 'emma', 'emma', 'sense', 'sense', 'emma']\n"
     ]
    }
   ],
   "source": [
    "print(f'klasy zbioru treningowego: {y_train}')\n",
    "print(f'klasy zbioru testowego: {y_test}')"
   ]
  },
  {
   "cell_type": "code",
   "execution_count": 211,
   "metadata": {},
   "outputs": [
    {
     "data": {
      "text/html": [
       "<style>#sk-container-id-26 {color: black;background-color: white;}#sk-container-id-26 pre{padding: 0;}#sk-container-id-26 div.sk-toggleable {background-color: white;}#sk-container-id-26 label.sk-toggleable__label {cursor: pointer;display: block;width: 100%;margin-bottom: 0;padding: 0.3em;box-sizing: border-box;text-align: center;}#sk-container-id-26 label.sk-toggleable__label-arrow:before {content: \"▸\";float: left;margin-right: 0.25em;color: #696969;}#sk-container-id-26 label.sk-toggleable__label-arrow:hover:before {color: black;}#sk-container-id-26 div.sk-estimator:hover label.sk-toggleable__label-arrow:before {color: black;}#sk-container-id-26 div.sk-toggleable__content {max-height: 0;max-width: 0;overflow: hidden;text-align: left;background-color: #f0f8ff;}#sk-container-id-26 div.sk-toggleable__content pre {margin: 0.2em;color: black;border-radius: 0.25em;background-color: #f0f8ff;}#sk-container-id-26 input.sk-toggleable__control:checked~div.sk-toggleable__content {max-height: 200px;max-width: 100%;overflow: auto;}#sk-container-id-26 input.sk-toggleable__control:checked~label.sk-toggleable__label-arrow:before {content: \"▾\";}#sk-container-id-26 div.sk-estimator input.sk-toggleable__control:checked~label.sk-toggleable__label {background-color: #d4ebff;}#sk-container-id-26 div.sk-label input.sk-toggleable__control:checked~label.sk-toggleable__label {background-color: #d4ebff;}#sk-container-id-26 input.sk-hidden--visually {border: 0;clip: rect(1px 1px 1px 1px);clip: rect(1px, 1px, 1px, 1px);height: 1px;margin: -1px;overflow: hidden;padding: 0;position: absolute;width: 1px;}#sk-container-id-26 div.sk-estimator {font-family: monospace;background-color: #f0f8ff;border: 1px dotted black;border-radius: 0.25em;box-sizing: border-box;margin-bottom: 0.5em;}#sk-container-id-26 div.sk-estimator:hover {background-color: #d4ebff;}#sk-container-id-26 div.sk-parallel-item::after {content: \"\";width: 100%;border-bottom: 1px solid gray;flex-grow: 1;}#sk-container-id-26 div.sk-label:hover label.sk-toggleable__label {background-color: #d4ebff;}#sk-container-id-26 div.sk-serial::before {content: \"\";position: absolute;border-left: 1px solid gray;box-sizing: border-box;top: 0;bottom: 0;left: 50%;z-index: 0;}#sk-container-id-26 div.sk-serial {display: flex;flex-direction: column;align-items: center;background-color: white;padding-right: 0.2em;padding-left: 0.2em;position: relative;}#sk-container-id-26 div.sk-item {position: relative;z-index: 1;}#sk-container-id-26 div.sk-parallel {display: flex;align-items: stretch;justify-content: center;background-color: white;position: relative;}#sk-container-id-26 div.sk-item::before, #sk-container-id-26 div.sk-parallel-item::before {content: \"\";position: absolute;border-left: 1px solid gray;box-sizing: border-box;top: 0;bottom: 0;left: 50%;z-index: -1;}#sk-container-id-26 div.sk-parallel-item {display: flex;flex-direction: column;z-index: 1;position: relative;background-color: white;}#sk-container-id-26 div.sk-parallel-item:first-child::after {align-self: flex-end;width: 50%;}#sk-container-id-26 div.sk-parallel-item:last-child::after {align-self: flex-start;width: 50%;}#sk-container-id-26 div.sk-parallel-item:only-child::after {width: 0;}#sk-container-id-26 div.sk-dashed-wrapped {border: 1px dashed gray;margin: 0 0.4em 0.5em 0.4em;box-sizing: border-box;padding-bottom: 0.4em;background-color: white;}#sk-container-id-26 div.sk-label label {font-family: monospace;font-weight: bold;display: inline-block;line-height: 1.2em;}#sk-container-id-26 div.sk-label-container {text-align: center;}#sk-container-id-26 div.sk-container {/* jupyter's `normalize.less` sets `[hidden] { display: none; }` but bootstrap.min.css set `[hidden] { display: none !important; }` so we also need the `!important` here to be able to override the default hidden behavior on the sphinx rendered scikit-learn.org. See: https://github.com/scikit-learn/scikit-learn/issues/21755 */display: inline-block !important;position: relative;}#sk-container-id-26 div.sk-text-repr-fallback {display: none;}</style><div id=\"sk-container-id-26\" class=\"sk-top-container\"><div class=\"sk-text-repr-fallback\"><pre>KNeighborsClassifier()</pre><b>In a Jupyter environment, please rerun this cell to show the HTML representation or trust the notebook. <br />On GitHub, the HTML representation is unable to render, please try loading this page with nbviewer.org.</b></div><div class=\"sk-container\" hidden><div class=\"sk-item\"><div class=\"sk-estimator sk-toggleable\"><input class=\"sk-toggleable__control sk-hidden--visually\" id=\"sk-estimator-id-26\" type=\"checkbox\" checked><label for=\"sk-estimator-id-26\" class=\"sk-toggleable__label sk-toggleable__label-arrow\">KNeighborsClassifier</label><div class=\"sk-toggleable__content\"><pre>KNeighborsClassifier()</pre></div></div></div></div></div>"
      ],
      "text/plain": [
       "KNeighborsClassifier()"
      ]
     },
     "execution_count": 211,
     "metadata": {},
     "output_type": "execute_result"
    }
   ],
   "source": [
    "model_knn = KNeighborsClassifier(n_neighbors = 5)\n",
    "model_knn.fit(X_train, y_train)"
   ]
  },
  {
   "cell_type": "code",
   "execution_count": 212,
   "metadata": {},
   "outputs": [],
   "source": [
    "y_pred = model_knn.predict(X_test)"
   ]
  },
  {
   "attachments": {},
   "cell_type": "markdown",
   "metadata": {},
   "source": [
    "#### Ocena klasyfikatora dla wag logarytmicznych"
   ]
  },
  {
   "cell_type": "code",
   "execution_count": 213,
   "metadata": {},
   "outputs": [
    {
     "name": "stdout",
     "output_type": "stream",
     "text": [
      "0.5\n"
     ]
    }
   ],
   "source": [
    "porownanie = [pred == rzecz for pred, rzecz in zip (y_pred, y_test)]\n",
    "print(sum(porownanie)/len(porownanie))"
   ]
  },
  {
   "attachments": {},
   "cell_type": "markdown",
   "metadata": {},
   "source": [
    "Dokładność klasyfikacji wynosi 50%. Jest to niski wynik. Oznacza on, że klasyfikator w połowie przypadków źle klasyfikuje badany tekst. "
   ]
  },
  {
   "cell_type": "code",
   "execution_count": 214,
   "metadata": {},
   "outputs": [
    {
     "name": "stdout",
     "output_type": "stream",
     "text": [
      "[[ 0  4  5]\n",
      " [ 0  1  5]\n",
      " [ 0  0 13]]\n",
      "              precision    recall  f1-score   support\n",
      "\n",
      "        emma       0.00      0.00      0.00         9\n",
      "  persuasion       0.20      0.17      0.18         6\n",
      "       sense       0.57      1.00      0.72        13\n",
      "\n",
      "    accuracy                           0.50        28\n",
      "   macro avg       0.26      0.39      0.30        28\n",
      "weighted avg       0.31      0.50      0.37        28\n",
      "\n"
     ]
    },
    {
     "name": "stderr",
     "output_type": "stream",
     "text": [
      "c:\\Users\\Ania\\AppData\\Local\\Programs\\Python\\Python311\\Lib\\site-packages\\sklearn\\metrics\\_classification.py:1344: UndefinedMetricWarning: Precision and F-score are ill-defined and being set to 0.0 in labels with no predicted samples. Use `zero_division` parameter to control this behavior.\n",
      "  _warn_prf(average, modifier, msg_start, len(result))\n",
      "c:\\Users\\Ania\\AppData\\Local\\Programs\\Python\\Python311\\Lib\\site-packages\\sklearn\\metrics\\_classification.py:1344: UndefinedMetricWarning: Precision and F-score are ill-defined and being set to 0.0 in labels with no predicted samples. Use `zero_division` parameter to control this behavior.\n",
      "  _warn_prf(average, modifier, msg_start, len(result))\n",
      "c:\\Users\\Ania\\AppData\\Local\\Programs\\Python\\Python311\\Lib\\site-packages\\sklearn\\metrics\\_classification.py:1344: UndefinedMetricWarning: Precision and F-score are ill-defined and being set to 0.0 in labels with no predicted samples. Use `zero_division` parameter to control this behavior.\n",
      "  _warn_prf(average, modifier, msg_start, len(result))\n"
     ]
    }
   ],
   "source": [
    "print(confusion_matrix(y_test, y_pred))\n",
    "print(classification_report(y_test, y_pred))"
   ]
  },
  {
   "attachments": {},
   "cell_type": "markdown",
   "metadata": {},
   "source": [
    "Zbiór testowy składa się z dziewięciu rozdziałów książki \"Emma\", sześciu rozdziałów książki \"Persuasion\" oraz trzynastu rozdziałów książki \"Sense and Sensibility\". \n",
    "\n",
    "Rozdziały książki \"Emma\" nie zostały ani razu zaklasyfikowane do swojej klasy rzeczywistej. Cztery razy rozdział książki został przydzielony do klasy \"Persuasion\" oraz pięć razy do klasy \"Sense and Sensibility\". Klasyfikator nie radzi sobie z klasyfikacją oraz rozpoznawaniem książki \"Emma\". Jest to widoczne w wartościach \n",
    "wrażliwości klasyfikacji oraz trafności rozpoznawania tej klasy równych 0. Tak samo jak w klasyfikacji binarnej, w klasyfikacji logarytmicznej klasa \"Emma\" nie pojawiła się ani razu w przeprowadzanej klasyfikacji o czym świadczy pierwsza kolumna macierzy pomyłek.\n",
    "\n",
    "Klasa książki \"Persuasion\" została zaklasyfikowana tylko raz do właściwej klasy oraz pięć razy do klasy \"Sense and Sensibility\". \n",
    "Trafność klasyfikacji tej klasy jest bardzo niska i wynosi 17%. \n",
    "Taki wynik oznacza, że klasyfikator w większości przypadków źle przewiduje klasę \"Persuasion\", czyli nie radzi sobie z klasyfikacją tej klasy. Wartość wrażliwości klasyfikatora również jest bardzo niska i wynosi 20%. Wynika to z tylko jednej poprawnej klasyfikacji tej klasy na wszystkie jej przewidywania. \n",
    "\n",
    "Rozdziały książki \"Sense and Sensibility\" należą do ostatniej analizowanej klasy. Wartość wrażliwości klasyfikacji tej klasy wynosi 57%. Wynika to z 10 niepoprawnych przewidywań innych klas (5 rozdziałów książki \"Emma\" oraz 5 rozdziałów książki \"Persuasion\" zostało błędnie zaklasyfikowanych do książki \"Sense and Sensibility\"). Natomiast trafność rozpoznawania tej klasy wynosi 100%. Co oznacza, że klasyfikator dobrze radzi sobie z rozpoznawaniem tej klasy. "
   ]
  },
  {
   "attachments": {},
   "cell_type": "markdown",
   "metadata": {},
   "source": [
    "#### Dla wag TFIDF"
   ]
  },
  {
   "cell_type": "code",
   "execution_count": 215,
   "metadata": {},
   "outputs": [
    {
     "data": {
      "text/html": [
       "<div>\n",
       "<style scoped>\n",
       "    .dataframe tbody tr th:only-of-type {\n",
       "        vertical-align: middle;\n",
       "    }\n",
       "\n",
       "    .dataframe tbody tr th {\n",
       "        vertical-align: top;\n",
       "    }\n",
       "\n",
       "    .dataframe thead th {\n",
       "        text-align: right;\n",
       "    }\n",
       "</style>\n",
       "<table border=\"1\" class=\"dataframe\">\n",
       "  <thead>\n",
       "    <tr style=\"text-align: right;\">\n",
       "      <th></th>\n",
       "      <th>emma</th>\n",
       "      <th>woodhous</th>\n",
       "      <th>handsom</th>\n",
       "      <th>clever</th>\n",
       "      <th>rich</th>\n",
       "      <th>comfort</th>\n",
       "      <th>home</th>\n",
       "      <th>happi</th>\n",
       "      <th>disposit</th>\n",
       "      <th>best</th>\n",
       "      <th>...</th>\n",
       "      <th>southwest</th>\n",
       "      <th>thismargaret</th>\n",
       "      <th>chagrin</th>\n",
       "      <th>exig</th>\n",
       "      <th>theme</th>\n",
       "      <th>shootingjacket</th>\n",
       "      <th>sprain</th>\n",
       "      <th>ankl</th>\n",
       "      <th>bitch</th>\n",
       "      <th>smitten</th>\n",
       "    </tr>\n",
       "  </thead>\n",
       "  <tbody>\n",
       "    <tr>\n",
       "      <th>0</th>\n",
       "      <td>0.0</td>\n",
       "      <td>0.0</td>\n",
       "      <td>0.000000</td>\n",
       "      <td>0.0</td>\n",
       "      <td>0.000000</td>\n",
       "      <td>0.0</td>\n",
       "      <td>0.000000</td>\n",
       "      <td>0.0</td>\n",
       "      <td>0.0</td>\n",
       "      <td>0.0</td>\n",
       "      <td>...</td>\n",
       "      <td>0.0</td>\n",
       "      <td>0.0</td>\n",
       "      <td>0.0</td>\n",
       "      <td>0.0</td>\n",
       "      <td>0.0</td>\n",
       "      <td>0.0</td>\n",
       "      <td>0.0</td>\n",
       "      <td>0.0</td>\n",
       "      <td>0.000000</td>\n",
       "      <td>0.0</td>\n",
       "    </tr>\n",
       "    <tr>\n",
       "      <th>1</th>\n",
       "      <td>0.0</td>\n",
       "      <td>0.0</td>\n",
       "      <td>0.000000</td>\n",
       "      <td>0.0</td>\n",
       "      <td>0.000000</td>\n",
       "      <td>0.0</td>\n",
       "      <td>0.000000</td>\n",
       "      <td>0.0</td>\n",
       "      <td>0.0</td>\n",
       "      <td>0.0</td>\n",
       "      <td>...</td>\n",
       "      <td>0.0</td>\n",
       "      <td>0.0</td>\n",
       "      <td>0.0</td>\n",
       "      <td>0.0</td>\n",
       "      <td>0.0</td>\n",
       "      <td>0.0</td>\n",
       "      <td>0.0</td>\n",
       "      <td>0.0</td>\n",
       "      <td>0.000000</td>\n",
       "      <td>0.0</td>\n",
       "    </tr>\n",
       "    <tr>\n",
       "      <th>2</th>\n",
       "      <td>0.0</td>\n",
       "      <td>0.0</td>\n",
       "      <td>0.011675</td>\n",
       "      <td>0.0</td>\n",
       "      <td>0.000000</td>\n",
       "      <td>0.0</td>\n",
       "      <td>0.000000</td>\n",
       "      <td>0.0</td>\n",
       "      <td>0.0</td>\n",
       "      <td>0.0</td>\n",
       "      <td>...</td>\n",
       "      <td>0.0</td>\n",
       "      <td>0.0</td>\n",
       "      <td>0.0</td>\n",
       "      <td>0.0</td>\n",
       "      <td>0.0</td>\n",
       "      <td>0.0</td>\n",
       "      <td>0.0</td>\n",
       "      <td>0.0</td>\n",
       "      <td>0.000000</td>\n",
       "      <td>0.0</td>\n",
       "    </tr>\n",
       "    <tr>\n",
       "      <th>3</th>\n",
       "      <td>0.0</td>\n",
       "      <td>0.0</td>\n",
       "      <td>0.022560</td>\n",
       "      <td>0.0</td>\n",
       "      <td>0.014908</td>\n",
       "      <td>0.0</td>\n",
       "      <td>0.000000</td>\n",
       "      <td>0.0</td>\n",
       "      <td>0.0</td>\n",
       "      <td>0.0</td>\n",
       "      <td>...</td>\n",
       "      <td>0.0</td>\n",
       "      <td>0.0</td>\n",
       "      <td>0.0</td>\n",
       "      <td>0.0</td>\n",
       "      <td>0.0</td>\n",
       "      <td>0.0</td>\n",
       "      <td>0.0</td>\n",
       "      <td>0.0</td>\n",
       "      <td>0.000000</td>\n",
       "      <td>0.0</td>\n",
       "    </tr>\n",
       "    <tr>\n",
       "      <th>4</th>\n",
       "      <td>0.0</td>\n",
       "      <td>0.0</td>\n",
       "      <td>0.009038</td>\n",
       "      <td>0.0</td>\n",
       "      <td>0.000000</td>\n",
       "      <td>0.0</td>\n",
       "      <td>0.013936</td>\n",
       "      <td>0.0</td>\n",
       "      <td>0.0</td>\n",
       "      <td>0.0</td>\n",
       "      <td>...</td>\n",
       "      <td>0.0</td>\n",
       "      <td>0.0</td>\n",
       "      <td>0.0</td>\n",
       "      <td>0.0</td>\n",
       "      <td>0.0</td>\n",
       "      <td>0.0</td>\n",
       "      <td>0.0</td>\n",
       "      <td>0.0</td>\n",
       "      <td>0.000000</td>\n",
       "      <td>0.0</td>\n",
       "    </tr>\n",
       "    <tr>\n",
       "      <th>...</th>\n",
       "      <td>...</td>\n",
       "      <td>...</td>\n",
       "      <td>...</td>\n",
       "      <td>...</td>\n",
       "      <td>...</td>\n",
       "      <td>...</td>\n",
       "      <td>...</td>\n",
       "      <td>...</td>\n",
       "      <td>...</td>\n",
       "      <td>...</td>\n",
       "      <td>...</td>\n",
       "      <td>...</td>\n",
       "      <td>...</td>\n",
       "      <td>...</td>\n",
       "      <td>...</td>\n",
       "      <td>...</td>\n",
       "      <td>...</td>\n",
       "      <td>...</td>\n",
       "      <td>...</td>\n",
       "      <td>...</td>\n",
       "      <td>...</td>\n",
       "    </tr>\n",
       "    <tr>\n",
       "      <th>88</th>\n",
       "      <td>0.0</td>\n",
       "      <td>0.0</td>\n",
       "      <td>0.000000</td>\n",
       "      <td>0.0</td>\n",
       "      <td>0.000000</td>\n",
       "      <td>0.0</td>\n",
       "      <td>0.000000</td>\n",
       "      <td>0.0</td>\n",
       "      <td>0.0</td>\n",
       "      <td>0.0</td>\n",
       "      <td>...</td>\n",
       "      <td>0.0</td>\n",
       "      <td>0.0</td>\n",
       "      <td>0.0</td>\n",
       "      <td>0.0</td>\n",
       "      <td>0.0</td>\n",
       "      <td>0.0</td>\n",
       "      <td>0.0</td>\n",
       "      <td>0.0</td>\n",
       "      <td>0.000000</td>\n",
       "      <td>0.0</td>\n",
       "    </tr>\n",
       "    <tr>\n",
       "      <th>89</th>\n",
       "      <td>0.0</td>\n",
       "      <td>0.0</td>\n",
       "      <td>0.000000</td>\n",
       "      <td>0.0</td>\n",
       "      <td>0.000000</td>\n",
       "      <td>0.0</td>\n",
       "      <td>0.000000</td>\n",
       "      <td>0.0</td>\n",
       "      <td>0.0</td>\n",
       "      <td>0.0</td>\n",
       "      <td>...</td>\n",
       "      <td>0.0</td>\n",
       "      <td>0.0</td>\n",
       "      <td>0.0</td>\n",
       "      <td>0.0</td>\n",
       "      <td>0.0</td>\n",
       "      <td>0.0</td>\n",
       "      <td>0.0</td>\n",
       "      <td>0.0</td>\n",
       "      <td>0.000000</td>\n",
       "      <td>0.0</td>\n",
       "    </tr>\n",
       "    <tr>\n",
       "      <th>90</th>\n",
       "      <td>0.0</td>\n",
       "      <td>0.0</td>\n",
       "      <td>0.000000</td>\n",
       "      <td>0.0</td>\n",
       "      <td>0.000000</td>\n",
       "      <td>0.0</td>\n",
       "      <td>0.000000</td>\n",
       "      <td>0.0</td>\n",
       "      <td>0.0</td>\n",
       "      <td>0.0</td>\n",
       "      <td>...</td>\n",
       "      <td>0.0</td>\n",
       "      <td>0.0</td>\n",
       "      <td>0.0</td>\n",
       "      <td>0.0</td>\n",
       "      <td>0.0</td>\n",
       "      <td>0.0</td>\n",
       "      <td>0.0</td>\n",
       "      <td>0.0</td>\n",
       "      <td>0.000000</td>\n",
       "      <td>0.0</td>\n",
       "    </tr>\n",
       "    <tr>\n",
       "      <th>91</th>\n",
       "      <td>0.0</td>\n",
       "      <td>0.0</td>\n",
       "      <td>0.000000</td>\n",
       "      <td>0.0</td>\n",
       "      <td>0.000000</td>\n",
       "      <td>0.0</td>\n",
       "      <td>0.000000</td>\n",
       "      <td>0.0</td>\n",
       "      <td>0.0</td>\n",
       "      <td>0.0</td>\n",
       "      <td>...</td>\n",
       "      <td>0.0</td>\n",
       "      <td>0.0</td>\n",
       "      <td>0.0</td>\n",
       "      <td>0.0</td>\n",
       "      <td>0.0</td>\n",
       "      <td>0.0</td>\n",
       "      <td>0.0</td>\n",
       "      <td>0.0</td>\n",
       "      <td>0.054514</td>\n",
       "      <td>0.0</td>\n",
       "    </tr>\n",
       "    <tr>\n",
       "      <th>92</th>\n",
       "      <td>0.0</td>\n",
       "      <td>0.0</td>\n",
       "      <td>0.000000</td>\n",
       "      <td>0.0</td>\n",
       "      <td>0.000000</td>\n",
       "      <td>0.0</td>\n",
       "      <td>0.000000</td>\n",
       "      <td>0.0</td>\n",
       "      <td>0.0</td>\n",
       "      <td>0.0</td>\n",
       "      <td>...</td>\n",
       "      <td>0.0</td>\n",
       "      <td>0.0</td>\n",
       "      <td>0.0</td>\n",
       "      <td>0.0</td>\n",
       "      <td>0.0</td>\n",
       "      <td>0.0</td>\n",
       "      <td>0.0</td>\n",
       "      <td>0.0</td>\n",
       "      <td>0.000000</td>\n",
       "      <td>0.0</td>\n",
       "    </tr>\n",
       "  </tbody>\n",
       "</table>\n",
       "<p>93 rows × 9002 columns</p>\n",
       "</div>"
      ],
      "text/plain": [
       "    emma  woodhous   handsom  clever      rich  comfort      home  happi   \n",
       "0    0.0       0.0  0.000000     0.0  0.000000      0.0  0.000000    0.0  \\\n",
       "1    0.0       0.0  0.000000     0.0  0.000000      0.0  0.000000    0.0   \n",
       "2    0.0       0.0  0.011675     0.0  0.000000      0.0  0.000000    0.0   \n",
       "3    0.0       0.0  0.022560     0.0  0.014908      0.0  0.000000    0.0   \n",
       "4    0.0       0.0  0.009038     0.0  0.000000      0.0  0.013936    0.0   \n",
       "..   ...       ...       ...     ...       ...      ...       ...    ...   \n",
       "88   0.0       0.0  0.000000     0.0  0.000000      0.0  0.000000    0.0   \n",
       "89   0.0       0.0  0.000000     0.0  0.000000      0.0  0.000000    0.0   \n",
       "90   0.0       0.0  0.000000     0.0  0.000000      0.0  0.000000    0.0   \n",
       "91   0.0       0.0  0.000000     0.0  0.000000      0.0  0.000000    0.0   \n",
       "92   0.0       0.0  0.000000     0.0  0.000000      0.0  0.000000    0.0   \n",
       "\n",
       "    disposit  best  ...  southwest  thismargaret  chagrin  exig  theme   \n",
       "0        0.0   0.0  ...        0.0           0.0      0.0   0.0    0.0  \\\n",
       "1        0.0   0.0  ...        0.0           0.0      0.0   0.0    0.0   \n",
       "2        0.0   0.0  ...        0.0           0.0      0.0   0.0    0.0   \n",
       "3        0.0   0.0  ...        0.0           0.0      0.0   0.0    0.0   \n",
       "4        0.0   0.0  ...        0.0           0.0      0.0   0.0    0.0   \n",
       "..       ...   ...  ...        ...           ...      ...   ...    ...   \n",
       "88       0.0   0.0  ...        0.0           0.0      0.0   0.0    0.0   \n",
       "89       0.0   0.0  ...        0.0           0.0      0.0   0.0    0.0   \n",
       "90       0.0   0.0  ...        0.0           0.0      0.0   0.0    0.0   \n",
       "91       0.0   0.0  ...        0.0           0.0      0.0   0.0    0.0   \n",
       "92       0.0   0.0  ...        0.0           0.0      0.0   0.0    0.0   \n",
       "\n",
       "    shootingjacket  sprain  ankl     bitch  smitten  \n",
       "0              0.0     0.0   0.0  0.000000      0.0  \n",
       "1              0.0     0.0   0.0  0.000000      0.0  \n",
       "2              0.0     0.0   0.0  0.000000      0.0  \n",
       "3              0.0     0.0   0.0  0.000000      0.0  \n",
       "4              0.0     0.0   0.0  0.000000      0.0  \n",
       "..             ...     ...   ...       ...      ...  \n",
       "88             0.0     0.0   0.0  0.000000      0.0  \n",
       "89             0.0     0.0   0.0  0.000000      0.0  \n",
       "90             0.0     0.0   0.0  0.000000      0.0  \n",
       "91             0.0     0.0   0.0  0.054514      0.0  \n",
       "92             0.0     0.0   0.0  0.000000      0.0  \n",
       "\n",
       "[93 rows x 9002 columns]"
      ]
     },
     "execution_count": 215,
     "metadata": {},
     "output_type": "execute_result"
    }
   ],
   "source": [
    "# Inicjalizacja obiektu TfidfVectorizer\n",
    "tfidf_vectorizer = TfidfVectorizer()\n",
    "\n",
    "# Przygotowanie listy tekstów\n",
    "texts = [' '.join(text) for text in combined_df['text']]\n",
    "\n",
    "# Utworzenie macierzy TF-IDF\n",
    "tfidf_matrix = tfidf_vectorizer.fit_transform(texts)\n",
    "\n",
    "# Pobranie unikalnych terów (słów)\n",
    "terms = list(tfidf_vectorizer.vocabulary_.keys())\n",
    "\n",
    "# Tworzenie DataFrame z macierzy TF-IDF\n",
    "tfidf_df = pd.DataFrame(tfidf_matrix.toarray(), columns=terms)\n",
    "\n",
    "# Wyświetlanie macierzy dokument-term z wagami TF-IDF\n",
    "tfidf_df\n"
   ]
  },
  {
   "cell_type": "code",
   "execution_count": 216,
   "metadata": {},
   "outputs": [],
   "source": [
    "X = dtm_df.values\n",
    "\n",
    "min_max_scaler = MinMaxScaler()\n",
    "X_minmax = min_max_scaler.fit_transform(X)"
   ]
  },
  {
   "cell_type": "code",
   "execution_count": 217,
   "metadata": {},
   "outputs": [
    {
     "data": {
      "text/html": [
       "<div>\n",
       "<style scoped>\n",
       "    .dataframe tbody tr th:only-of-type {\n",
       "        vertical-align: middle;\n",
       "    }\n",
       "\n",
       "    .dataframe tbody tr th {\n",
       "        vertical-align: top;\n",
       "    }\n",
       "\n",
       "    .dataframe thead th {\n",
       "        text-align: right;\n",
       "    }\n",
       "</style>\n",
       "<table border=\"1\" class=\"dataframe\">\n",
       "  <thead>\n",
       "    <tr style=\"text-align: right;\">\n",
       "      <th></th>\n",
       "      <th>0</th>\n",
       "      <th>1</th>\n",
       "      <th>2</th>\n",
       "      <th>3</th>\n",
       "      <th>4</th>\n",
       "      <th>5</th>\n",
       "      <th>6</th>\n",
       "      <th>7</th>\n",
       "      <th>8</th>\n",
       "      <th>9</th>\n",
       "      <th>...</th>\n",
       "      <th>9002</th>\n",
       "      <th>9003</th>\n",
       "      <th>9004</th>\n",
       "      <th>9005</th>\n",
       "      <th>9006</th>\n",
       "      <th>9007</th>\n",
       "      <th>9008</th>\n",
       "      <th>9009</th>\n",
       "      <th>9010</th>\n",
       "      <th>9011</th>\n",
       "    </tr>\n",
       "  </thead>\n",
       "  <tbody>\n",
       "    <tr>\n",
       "      <th>count</th>\n",
       "      <td>93.000000</td>\n",
       "      <td>93.000000</td>\n",
       "      <td>93.000000</td>\n",
       "      <td>93.000000</td>\n",
       "      <td>93.000000</td>\n",
       "      <td>93.000000</td>\n",
       "      <td>93.000000</td>\n",
       "      <td>93.000000</td>\n",
       "      <td>93.000000</td>\n",
       "      <td>93.000000</td>\n",
       "      <td>...</td>\n",
       "      <td>93.000000</td>\n",
       "      <td>93.000000</td>\n",
       "      <td>93.000000</td>\n",
       "      <td>93.000000</td>\n",
       "      <td>93.000000</td>\n",
       "      <td>93.000000</td>\n",
       "      <td>93.000000</td>\n",
       "      <td>93.000000</td>\n",
       "      <td>93.000000</td>\n",
       "      <td>93.000000</td>\n",
       "    </tr>\n",
       "    <tr>\n",
       "      <th>mean</th>\n",
       "      <td>0.010753</td>\n",
       "      <td>0.010753</td>\n",
       "      <td>0.107527</td>\n",
       "      <td>0.010753</td>\n",
       "      <td>0.032258</td>\n",
       "      <td>0.010753</td>\n",
       "      <td>0.010753</td>\n",
       "      <td>0.010753</td>\n",
       "      <td>0.010753</td>\n",
       "      <td>0.010753</td>\n",
       "      <td>...</td>\n",
       "      <td>0.010753</td>\n",
       "      <td>0.010753</td>\n",
       "      <td>0.010753</td>\n",
       "      <td>0.010753</td>\n",
       "      <td>0.043011</td>\n",
       "      <td>0.010753</td>\n",
       "      <td>0.096774</td>\n",
       "      <td>0.010753</td>\n",
       "      <td>0.064516</td>\n",
       "      <td>0.010753</td>\n",
       "    </tr>\n",
       "    <tr>\n",
       "      <th>std</th>\n",
       "      <td>0.103695</td>\n",
       "      <td>0.103695</td>\n",
       "      <td>0.311461</td>\n",
       "      <td>0.103695</td>\n",
       "      <td>0.177642</td>\n",
       "      <td>0.103695</td>\n",
       "      <td>0.103695</td>\n",
       "      <td>0.103695</td>\n",
       "      <td>0.103695</td>\n",
       "      <td>0.103695</td>\n",
       "      <td>...</td>\n",
       "      <td>0.103695</td>\n",
       "      <td>0.103695</td>\n",
       "      <td>0.103695</td>\n",
       "      <td>0.103695</td>\n",
       "      <td>0.203981</td>\n",
       "      <td>0.103695</td>\n",
       "      <td>0.297252</td>\n",
       "      <td>0.103695</td>\n",
       "      <td>0.247002</td>\n",
       "      <td>0.103695</td>\n",
       "    </tr>\n",
       "    <tr>\n",
       "      <th>min</th>\n",
       "      <td>0.000000</td>\n",
       "      <td>0.000000</td>\n",
       "      <td>0.000000</td>\n",
       "      <td>0.000000</td>\n",
       "      <td>0.000000</td>\n",
       "      <td>0.000000</td>\n",
       "      <td>0.000000</td>\n",
       "      <td>0.000000</td>\n",
       "      <td>0.000000</td>\n",
       "      <td>0.000000</td>\n",
       "      <td>...</td>\n",
       "      <td>0.000000</td>\n",
       "      <td>0.000000</td>\n",
       "      <td>0.000000</td>\n",
       "      <td>0.000000</td>\n",
       "      <td>0.000000</td>\n",
       "      <td>0.000000</td>\n",
       "      <td>0.000000</td>\n",
       "      <td>0.000000</td>\n",
       "      <td>0.000000</td>\n",
       "      <td>0.000000</td>\n",
       "    </tr>\n",
       "    <tr>\n",
       "      <th>25%</th>\n",
       "      <td>0.000000</td>\n",
       "      <td>0.000000</td>\n",
       "      <td>0.000000</td>\n",
       "      <td>0.000000</td>\n",
       "      <td>0.000000</td>\n",
       "      <td>0.000000</td>\n",
       "      <td>0.000000</td>\n",
       "      <td>0.000000</td>\n",
       "      <td>0.000000</td>\n",
       "      <td>0.000000</td>\n",
       "      <td>...</td>\n",
       "      <td>0.000000</td>\n",
       "      <td>0.000000</td>\n",
       "      <td>0.000000</td>\n",
       "      <td>0.000000</td>\n",
       "      <td>0.000000</td>\n",
       "      <td>0.000000</td>\n",
       "      <td>0.000000</td>\n",
       "      <td>0.000000</td>\n",
       "      <td>0.000000</td>\n",
       "      <td>0.000000</td>\n",
       "    </tr>\n",
       "    <tr>\n",
       "      <th>50%</th>\n",
       "      <td>0.000000</td>\n",
       "      <td>0.000000</td>\n",
       "      <td>0.000000</td>\n",
       "      <td>0.000000</td>\n",
       "      <td>0.000000</td>\n",
       "      <td>0.000000</td>\n",
       "      <td>0.000000</td>\n",
       "      <td>0.000000</td>\n",
       "      <td>0.000000</td>\n",
       "      <td>0.000000</td>\n",
       "      <td>...</td>\n",
       "      <td>0.000000</td>\n",
       "      <td>0.000000</td>\n",
       "      <td>0.000000</td>\n",
       "      <td>0.000000</td>\n",
       "      <td>0.000000</td>\n",
       "      <td>0.000000</td>\n",
       "      <td>0.000000</td>\n",
       "      <td>0.000000</td>\n",
       "      <td>0.000000</td>\n",
       "      <td>0.000000</td>\n",
       "    </tr>\n",
       "    <tr>\n",
       "      <th>75%</th>\n",
       "      <td>0.000000</td>\n",
       "      <td>0.000000</td>\n",
       "      <td>0.000000</td>\n",
       "      <td>0.000000</td>\n",
       "      <td>0.000000</td>\n",
       "      <td>0.000000</td>\n",
       "      <td>0.000000</td>\n",
       "      <td>0.000000</td>\n",
       "      <td>0.000000</td>\n",
       "      <td>0.000000</td>\n",
       "      <td>...</td>\n",
       "      <td>0.000000</td>\n",
       "      <td>0.000000</td>\n",
       "      <td>0.000000</td>\n",
       "      <td>0.000000</td>\n",
       "      <td>0.000000</td>\n",
       "      <td>0.000000</td>\n",
       "      <td>0.000000</td>\n",
       "      <td>0.000000</td>\n",
       "      <td>0.000000</td>\n",
       "      <td>0.000000</td>\n",
       "    </tr>\n",
       "    <tr>\n",
       "      <th>max</th>\n",
       "      <td>1.000000</td>\n",
       "      <td>1.000000</td>\n",
       "      <td>1.000000</td>\n",
       "      <td>1.000000</td>\n",
       "      <td>1.000000</td>\n",
       "      <td>1.000000</td>\n",
       "      <td>1.000000</td>\n",
       "      <td>1.000000</td>\n",
       "      <td>1.000000</td>\n",
       "      <td>1.000000</td>\n",
       "      <td>...</td>\n",
       "      <td>1.000000</td>\n",
       "      <td>1.000000</td>\n",
       "      <td>1.000000</td>\n",
       "      <td>1.000000</td>\n",
       "      <td>1.000000</td>\n",
       "      <td>1.000000</td>\n",
       "      <td>1.000000</td>\n",
       "      <td>1.000000</td>\n",
       "      <td>1.000000</td>\n",
       "      <td>1.000000</td>\n",
       "    </tr>\n",
       "  </tbody>\n",
       "</table>\n",
       "<p>8 rows × 9012 columns</p>\n",
       "</div>"
      ],
      "text/plain": [
       "            0          1          2          3          4          5      \n",
       "count  93.000000  93.000000  93.000000  93.000000  93.000000  93.000000  \\\n",
       "mean    0.010753   0.010753   0.107527   0.010753   0.032258   0.010753   \n",
       "std     0.103695   0.103695   0.311461   0.103695   0.177642   0.103695   \n",
       "min     0.000000   0.000000   0.000000   0.000000   0.000000   0.000000   \n",
       "25%     0.000000   0.000000   0.000000   0.000000   0.000000   0.000000   \n",
       "50%     0.000000   0.000000   0.000000   0.000000   0.000000   0.000000   \n",
       "75%     0.000000   0.000000   0.000000   0.000000   0.000000   0.000000   \n",
       "max     1.000000   1.000000   1.000000   1.000000   1.000000   1.000000   \n",
       "\n",
       "            6          7          8          9     ...       9002       9003   \n",
       "count  93.000000  93.000000  93.000000  93.000000  ...  93.000000  93.000000  \\\n",
       "mean    0.010753   0.010753   0.010753   0.010753  ...   0.010753   0.010753   \n",
       "std     0.103695   0.103695   0.103695   0.103695  ...   0.103695   0.103695   \n",
       "min     0.000000   0.000000   0.000000   0.000000  ...   0.000000   0.000000   \n",
       "25%     0.000000   0.000000   0.000000   0.000000  ...   0.000000   0.000000   \n",
       "50%     0.000000   0.000000   0.000000   0.000000  ...   0.000000   0.000000   \n",
       "75%     0.000000   0.000000   0.000000   0.000000  ...   0.000000   0.000000   \n",
       "max     1.000000   1.000000   1.000000   1.000000  ...   1.000000   1.000000   \n",
       "\n",
       "            9004       9005       9006       9007       9008       9009   \n",
       "count  93.000000  93.000000  93.000000  93.000000  93.000000  93.000000  \\\n",
       "mean    0.010753   0.010753   0.043011   0.010753   0.096774   0.010753   \n",
       "std     0.103695   0.103695   0.203981   0.103695   0.297252   0.103695   \n",
       "min     0.000000   0.000000   0.000000   0.000000   0.000000   0.000000   \n",
       "25%     0.000000   0.000000   0.000000   0.000000   0.000000   0.000000   \n",
       "50%     0.000000   0.000000   0.000000   0.000000   0.000000   0.000000   \n",
       "75%     0.000000   0.000000   0.000000   0.000000   0.000000   0.000000   \n",
       "max     1.000000   1.000000   1.000000   1.000000   1.000000   1.000000   \n",
       "\n",
       "            9010       9011  \n",
       "count  93.000000  93.000000  \n",
       "mean    0.064516   0.010753  \n",
       "std     0.247002   0.103695  \n",
       "min     0.000000   0.000000  \n",
       "25%     0.000000   0.000000  \n",
       "50%     0.000000   0.000000  \n",
       "75%     0.000000   0.000000  \n",
       "max     1.000000   1.000000  \n",
       "\n",
       "[8 rows x 9012 columns]"
      ]
     },
     "execution_count": 217,
     "metadata": {},
     "output_type": "execute_result"
    }
   ],
   "source": [
    "pd.DataFrame(X_minmax).describe()"
   ]
  },
  {
   "cell_type": "code",
   "execution_count": 218,
   "metadata": {},
   "outputs": [
    {
     "name": "stdout",
     "output_type": "stream",
     "text": [
      "['sense', 'sense', 'sense', 'sense', 'persuasion', 'sense', 'persuasion', 'emma', 'persuasion', 'emma', 'emma', 'persuasion', 'persuasion', 'sense', 'persuasion', 'sense', 'sense', 'emma', 'emma', 'sense', 'sense', 'emma', 'persuasion', 'sense', 'sense', 'emma', 'sense', 'sense', 'sense', 'sense', 'persuasion', 'sense', 'sense', 'sense', 'sense', 'persuasion', 'persuasion', 'persuasion', 'emma', 'emma', 'emma', 'persuasion', 'sense', 'persuasion', 'persuasion', 'sense', 'sense', 'persuasion', 'persuasion', 'sense', 'sense', 'sense', 'emma', 'sense', 'sense', 'sense', 'persuasion', 'sense', 'emma', 'persuasion', 'sense', 'persuasion', 'persuasion', 'persuasion', 'sense']\n",
      "['sense', 'emma', 'sense', 'sense', 'sense', 'sense', 'sense', 'sense', 'sense', 'persuasion', 'sense', 'persuasion', 'emma', 'emma', 'sense', 'sense', 'emma', 'emma', 'emma', 'sense', 'sense', 'sense', 'sense', 'sense', 'persuasion', 'sense', 'emma', 'sense']\n"
     ]
    }
   ],
   "source": [
    "X_train, X_test, y_train, y_test = train_test_split(X_minmax, y, test_size=0.30)\n",
    "print(y_train)\n",
    "print(y_test)"
   ]
  },
  {
   "cell_type": "code",
   "execution_count": 219,
   "metadata": {},
   "outputs": [
    {
     "data": {
      "text/html": [
       "<style>#sk-container-id-27 {color: black;background-color: white;}#sk-container-id-27 pre{padding: 0;}#sk-container-id-27 div.sk-toggleable {background-color: white;}#sk-container-id-27 label.sk-toggleable__label {cursor: pointer;display: block;width: 100%;margin-bottom: 0;padding: 0.3em;box-sizing: border-box;text-align: center;}#sk-container-id-27 label.sk-toggleable__label-arrow:before {content: \"▸\";float: left;margin-right: 0.25em;color: #696969;}#sk-container-id-27 label.sk-toggleable__label-arrow:hover:before {color: black;}#sk-container-id-27 div.sk-estimator:hover label.sk-toggleable__label-arrow:before {color: black;}#sk-container-id-27 div.sk-toggleable__content {max-height: 0;max-width: 0;overflow: hidden;text-align: left;background-color: #f0f8ff;}#sk-container-id-27 div.sk-toggleable__content pre {margin: 0.2em;color: black;border-radius: 0.25em;background-color: #f0f8ff;}#sk-container-id-27 input.sk-toggleable__control:checked~div.sk-toggleable__content {max-height: 200px;max-width: 100%;overflow: auto;}#sk-container-id-27 input.sk-toggleable__control:checked~label.sk-toggleable__label-arrow:before {content: \"▾\";}#sk-container-id-27 div.sk-estimator input.sk-toggleable__control:checked~label.sk-toggleable__label {background-color: #d4ebff;}#sk-container-id-27 div.sk-label input.sk-toggleable__control:checked~label.sk-toggleable__label {background-color: #d4ebff;}#sk-container-id-27 input.sk-hidden--visually {border: 0;clip: rect(1px 1px 1px 1px);clip: rect(1px, 1px, 1px, 1px);height: 1px;margin: -1px;overflow: hidden;padding: 0;position: absolute;width: 1px;}#sk-container-id-27 div.sk-estimator {font-family: monospace;background-color: #f0f8ff;border: 1px dotted black;border-radius: 0.25em;box-sizing: border-box;margin-bottom: 0.5em;}#sk-container-id-27 div.sk-estimator:hover {background-color: #d4ebff;}#sk-container-id-27 div.sk-parallel-item::after {content: \"\";width: 100%;border-bottom: 1px solid gray;flex-grow: 1;}#sk-container-id-27 div.sk-label:hover label.sk-toggleable__label {background-color: #d4ebff;}#sk-container-id-27 div.sk-serial::before {content: \"\";position: absolute;border-left: 1px solid gray;box-sizing: border-box;top: 0;bottom: 0;left: 50%;z-index: 0;}#sk-container-id-27 div.sk-serial {display: flex;flex-direction: column;align-items: center;background-color: white;padding-right: 0.2em;padding-left: 0.2em;position: relative;}#sk-container-id-27 div.sk-item {position: relative;z-index: 1;}#sk-container-id-27 div.sk-parallel {display: flex;align-items: stretch;justify-content: center;background-color: white;position: relative;}#sk-container-id-27 div.sk-item::before, #sk-container-id-27 div.sk-parallel-item::before {content: \"\";position: absolute;border-left: 1px solid gray;box-sizing: border-box;top: 0;bottom: 0;left: 50%;z-index: -1;}#sk-container-id-27 div.sk-parallel-item {display: flex;flex-direction: column;z-index: 1;position: relative;background-color: white;}#sk-container-id-27 div.sk-parallel-item:first-child::after {align-self: flex-end;width: 50%;}#sk-container-id-27 div.sk-parallel-item:last-child::after {align-self: flex-start;width: 50%;}#sk-container-id-27 div.sk-parallel-item:only-child::after {width: 0;}#sk-container-id-27 div.sk-dashed-wrapped {border: 1px dashed gray;margin: 0 0.4em 0.5em 0.4em;box-sizing: border-box;padding-bottom: 0.4em;background-color: white;}#sk-container-id-27 div.sk-label label {font-family: monospace;font-weight: bold;display: inline-block;line-height: 1.2em;}#sk-container-id-27 div.sk-label-container {text-align: center;}#sk-container-id-27 div.sk-container {/* jupyter's `normalize.less` sets `[hidden] { display: none; }` but bootstrap.min.css set `[hidden] { display: none !important; }` so we also need the `!important` here to be able to override the default hidden behavior on the sphinx rendered scikit-learn.org. See: https://github.com/scikit-learn/scikit-learn/issues/21755 */display: inline-block !important;position: relative;}#sk-container-id-27 div.sk-text-repr-fallback {display: none;}</style><div id=\"sk-container-id-27\" class=\"sk-top-container\"><div class=\"sk-text-repr-fallback\"><pre>KNeighborsClassifier()</pre><b>In a Jupyter environment, please rerun this cell to show the HTML representation or trust the notebook. <br />On GitHub, the HTML representation is unable to render, please try loading this page with nbviewer.org.</b></div><div class=\"sk-container\" hidden><div class=\"sk-item\"><div class=\"sk-estimator sk-toggleable\"><input class=\"sk-toggleable__control sk-hidden--visually\" id=\"sk-estimator-id-27\" type=\"checkbox\" checked><label for=\"sk-estimator-id-27\" class=\"sk-toggleable__label sk-toggleable__label-arrow\">KNeighborsClassifier</label><div class=\"sk-toggleable__content\"><pre>KNeighborsClassifier()</pre></div></div></div></div></div>"
      ],
      "text/plain": [
       "KNeighborsClassifier()"
      ]
     },
     "execution_count": 219,
     "metadata": {},
     "output_type": "execute_result"
    }
   ],
   "source": [
    "model_knn = KNeighborsClassifier(n_neighbors = 5)\n",
    "model_knn.fit(X_train, y_train)"
   ]
  },
  {
   "cell_type": "code",
   "execution_count": 220,
   "metadata": {},
   "outputs": [],
   "source": [
    "y_pred = model_knn.predict(X_test)"
   ]
  },
  {
   "attachments": {},
   "cell_type": "markdown",
   "metadata": {},
   "source": [
    "#### Ocena klasyfikatora dla wag TFIDF"
   ]
  },
  {
   "cell_type": "code",
   "execution_count": 221,
   "metadata": {},
   "outputs": [
    {
     "name": "stdout",
     "output_type": "stream",
     "text": [
      "0.7857142857142857\n"
     ]
    }
   ],
   "source": [
    "porownanie = [pred == rzecz for pred, rzecz in zip (y_pred, y_test)]\n",
    "print(sum(porownanie)/len(porownanie))"
   ]
  },
  {
   "attachments": {},
   "cell_type": "markdown",
   "metadata": {},
   "source": [
    "Dokładność klasyfikacji wynosi około 78%. Jest to dobry wynik, który oznacza, że klasyfikator stosunkowo dobrze radzi sobie z klasyfikacją poszczególnych rozdziałów do rzeczywistych klas. "
   ]
  },
  {
   "cell_type": "code",
   "execution_count": 222,
   "metadata": {},
   "outputs": [
    {
     "name": "stdout",
     "output_type": "stream",
     "text": [
      "[[ 2  2  3]\n",
      " [ 0  2  1]\n",
      " [ 0  0 18]]\n",
      "              precision    recall  f1-score   support\n",
      "\n",
      "        emma       1.00      0.29      0.44         7\n",
      "  persuasion       0.50      0.67      0.57         3\n",
      "       sense       0.82      1.00      0.90        18\n",
      "\n",
      "    accuracy                           0.79        28\n",
      "   macro avg       0.77      0.65      0.64        28\n",
      "weighted avg       0.83      0.79      0.75        28\n",
      "\n"
     ]
    }
   ],
   "source": [
    "print(confusion_matrix(y_test, y_pred))\n",
    "print(classification_report(y_test, y_pred))"
   ]
  },
  {
   "attachments": {},
   "cell_type": "markdown",
   "metadata": {},
   "source": [
    "Zbiór testowy składa się z siedmiu rozdziałów książki \"Emma\", trzech rozdziałów książki \"Persuasion\" oraz osiemnastu rozdziałów książki \"Sense and Sensibility\". \n",
    "\n",
    "Rozdziały książki \"Emma\" zostały dwa razy zaklasyfikowane do swojej klasy rzeczywistej oraz 5 razy do błędnej klasy, w tym 2 razy do klasy \"Persuasion\" i trzy razy do klasy \"Sense and Sensibility\". \n",
    "Wrażliwość klasyfikacji wynosi 100%. Pokazuje to, że nie jest to doskonała miara oceny klasyfikatora. Jej wartość wynika z powodu nie przydzielenia innych klas do klasy \"Emma\" (wartości zerowe w drugim oraz trzecim wierszu kolumny pierwszej). Trafność przewidywania jest znacznie niższa i wynosi 29%. Wynika to z klasyfikacji tylko dwóch rozdziałów poprawnie na 7 rozdziałów badanych. \n",
    "\n",
    "Kolejna klasa to klasa książki \"Persuasion\" została zaklasyfikowana dwa razy do właściwej klasy oraz raz do klasy \"Sense and Sensibility\". Trafność klasyfikacji tej klasy jest wynosi 67%, co można uznać za wynik poprawny. Klasyfikator nie przewiduje tej klasy bezbłędnie co widać po wartości 1 w trzeciej kolumnie drugiego wiersza macierzy. Jednakże klasa jest bardzo mało liczna (jedynie 3 rozdziały w zbiorze testowym) co ma wpływ na wartości trafności oraz precyzji. Przy większym udziale tej klasy w zbiorze testowym wartości mogą być inne. Wartość wrażliwości tego klasyfikatora wynosi 50% co wynika dwukrotnej klasyfikacji poprawnej na wszystkie przewidywania klasy (dwukrotne błędne przydzielenie rozdziałów książki \"Emma\" do klasy \"Persuasion\").\n",
    "\n",
    "Rozdziały książki \"Sense and Sensibility\" stanowią do ostatnią analizowaną klasę. Wartość wrażliwości klasyfikacji tej klasy wynosi 82%. Taka wartość jest wynikiem niepoprawnej klasyfikacji 3 rozdziałów książki \"Emma\" oraz jednego rozdziału książki \"Persuasion\" do klasy książki \"Sense and Sensibility\". Trafność rozpoznawania tej klasy wynosi 100%. Co oznacza, że klasyfikator dobrze radzi sobie z rozpoznawaniem tej klasy. "
   ]
  },
  {
   "attachments": {},
   "cell_type": "markdown",
   "metadata": {},
   "source": [
    "#### Podsumowując, najlepiej z klasyfikacją rozdziałów do rzeczywistych klas radzi sobie klasyfikator wag TFIDF. Jego dokładność wynosi około 78%. Wartość dokładności klasyfikatora dla wag binarnych jest niższa niż klasyfikatora wag TFIDF, lecz wyższa niż klasyfikatora dla wag logarytmicznych i wynosi około 68%. Najgorsze wyniki klasyfikacji uzyskuje klasyfikator dla wag logarytmicznych, którego dokładność jest na poziomie 20%. Natomiast zarówno klasyfikator wag binarnych jak i wag logarytmicznych nie radzi sobie z klasyfikacją książki \"Emma\". Każdy z klasyfikatorów najlepiej radzi sobie z klasyfikacją książki \"Sense and Sensibility\". Jest to spowodowane wyższym udziałem tej klasy w stosunku do pozostałych. Książka ta zawiera 50 rozdziałów gdzie pozostałe zawierają ich mniej. Powieść \"Emma\" zawiera 18 rozdziałów a \"Persuasion\" zawiera 24 rozdziały. \n",
    "\n",
    "#### Ograniczając zbiór badanych słów do słów występujących z założoną częstościa np. minimum 10 razy w celu odfiltrowania \"szumu\", możliwym jest uzyskanie lepszych wyników dla klasyfikatorów. \n",
    "  "
   ]
  },
  {
   "attachments": {},
   "cell_type": "markdown",
   "metadata": {},
   "source": [
    "## Analiza nastroju"
   ]
  },
  {
   "attachments": {},
   "cell_type": "markdown",
   "metadata": {},
   "source": [
    "#### dla całych książek"
   ]
  },
  {
   "attachments": {},
   "cell_type": "markdown",
   "metadata": {},
   "source": [
    "Polaryzacja (polarity) obejmuje ładunek emocjonalny wypowiedzi. Jest liczbą z przedziału [-1, 1], która wskazuje na kierunek i intensywność sentymentu. Wartości bliskie 1 oznaczają pozytywny sentyment, wartości bliskie -1 oznaczają negatywny sentyment, a wartości bliskie 0 oznacza neutralny sentyment.\n",
    "\n",
    "Subiektywność (subjectivity) określa ilość osobistych opinii i faktycznych informacji zawartych w tekście. Wyższa subiektywność oznacza, że tekst zawiera osobiste opinie, a nie faktyczne informacje. Jest to liczba z przedziału [0, 1], która wskazuje na stopień obiektywności lub subiektywności tekstu. Wartość bliska 0 oznacza tekst bardziej obiektywny, a wartość bliska 1 oznacza tekst bardziej subiektywny."
   ]
  },
  {
   "cell_type": "code",
   "execution_count": 344,
   "metadata": {},
   "outputs": [
    {
     "name": "stdout",
     "output_type": "stream",
     "text": [
      "Sentiment(polarity=0.1569617684101289, subjectivity=0.5429318360259929)\n"
     ]
    }
   ],
   "source": [
    "sentimnet_emma = TextBlob(emma).sentiment\n",
    "print(sentimnet_emma)"
   ]
  },
  {
   "attachments": {},
   "cell_type": "markdown",
   "metadata": {},
   "source": [
    "Dla książki \"Emma\" otrzymano wartość polaryzacji na poziomie 0.15 co można zinterpretować jako neutralny sentyment z delikatną odchyłką w stronę pozytywną. Natomiast wartość subiektywności wynosi 0.54 co oznacza, że tekst jest mniej więcej w takim samym stopniu obiektywny jak i subiektywny. "
   ]
  },
  {
   "cell_type": "code",
   "execution_count": 345,
   "metadata": {},
   "outputs": [
    {
     "name": "stdout",
     "output_type": "stream",
     "text": [
      "Sentiment(polarity=0.14821008177303208, subjectivity=0.5224922537955677)\n"
     ]
    }
   ],
   "source": [
    "sentiment_persuasion = TextBlob(persuasion).sentiment\n",
    "print(sentiment_persuasion)"
   ]
  },
  {
   "attachments": {},
   "cell_type": "markdown",
   "metadata": {},
   "source": [
    "Dla książki \"Persuasion\" wartość polaryzacji wynosi 0.14, co oznacza neutralny sentyment z drobną przewagą w stronę pozytywną. Subiektywność wynosi 0.52 co oznacza prawie dokładnie równoważny stosunek opinii do faktów w tekście. "
   ]
  },
  {
   "cell_type": "code",
   "execution_count": 346,
   "metadata": {},
   "outputs": [
    {
     "name": "stdout",
     "output_type": "stream",
     "text": [
      "Sentiment(polarity=0.13202853506072912, subjectivity=0.5325865497390507)\n"
     ]
    }
   ],
   "source": [
    "sentiment_sense = TextBlob(sense).sentiment\n",
    "print(sentiment_sense)"
   ]
  },
  {
   "attachments": {},
   "cell_type": "markdown",
   "metadata": {},
   "source": [
    "Dla książki \"Sense and Sensibility\" polarność wynosi 0.13 co oznacza neutralny sentyment z drobną odchyłką w stronę pozytywną. Subiektywność wynosi 0.53. Oznacza to, że tekst jest mniej więcej w takim samym stopniu obiektywny jak i subiektywny. "
   ]
  },
  {
   "attachments": {},
   "cell_type": "markdown",
   "metadata": {},
   "source": [
    "##### Podsumowując, wszystkie z analizowanych książek mają sentyment neutralny z drobną przewagą w stronę pozytywną. Subiektywność analizowanych powieści również jest do siebie zbliżona i dla wszystkich wynosi lekko ponad 50%. Takie wyniki są powodem analizy książek jako całości co powoduje neutralne wartości, tj. nie obserwuje się ani pozytywności, ani negatywności tekstu tak samo jak nie można ocenić czy tekst jest subiektywny czy obiektywny. Wartości dla całości książek są wartościami średnimi. \n",
    "\n",
    "##### Z tego względu przeprowadzono tę analizę ponownie dla rozdziałów książek"
   ]
  },
  {
   "attachments": {},
   "cell_type": "markdown",
   "metadata": {},
   "source": [
    "#### dla rozdziałów"
   ]
  },
  {
   "cell_type": "code",
   "execution_count": 5,
   "metadata": {},
   "outputs": [],
   "source": [
    "sentiments = []\n",
    "\n",
    "os.chdir(\"C:/Users/Ania/Desktop/chapters/\")\n",
    "for directory in os.listdir(os.getcwd()):\n",
    "    os.chdir(f\"C:/Users/Ania/Desktop/chapters/{directory}\")\n",
    "    for filename in os.listdir(os.getcwd()):\n",
    "        with open(os.path.join(os.getcwd(), filename), 'r') as f:\n",
    "            text = f.read()\n",
    "            sentiment = TextBlob(text).sentiment\n",
    "            sentiments.append(sentiment)     \n"
   ]
  },
  {
   "attachments": {},
   "cell_type": "markdown",
   "metadata": {},
   "source": [
    "Z powodu dużej ilości rozdziałów poniżej wyświetlono oraz przeanalizowano rozdziały dla każdej książki osobno"
   ]
  },
  {
   "attachments": {},
   "cell_type": "markdown",
   "metadata": {},
   "source": [
    "#### dla książki \"Emma\""
   ]
  },
  {
   "cell_type": "code",
   "execution_count": 359,
   "metadata": {},
   "outputs": [
    {
     "name": "stdout",
     "output_type": "stream",
     "text": [
      "rodział 1: Sentiment(polarity=0.18269805731575794, subjectivity=0.5561963446124025)\n",
      "rodział 2: Sentiment(polarity=0.1748218388767352, subjectivity=0.5446839714800944)\n",
      "rodział 3: Sentiment(polarity=0.16072724840120825, subjectivity=0.529828180746401)\n",
      "rodział 4: Sentiment(polarity=0.18439648818645557, subjectivity=0.5334056740794099)\n",
      "rodział 5: Sentiment(polarity=0.17255914024385002, subjectivity=0.5190460178049471)\n",
      "rodział 6: Sentiment(polarity=0.18206367843769716, subjectivity=0.545854924431157)\n",
      "rodział 7: Sentiment(polarity=0.15693931878306872, subjectivity=0.5330183222522962)\n",
      "rodział 8: Sentiment(polarity=0.15284823088228935, subjectivity=0.5531023196964713)\n",
      "rodział 9: Sentiment(polarity=0.17532123466023936, subjectivity=0.5480630171166818)\n",
      "rodział 10: Sentiment(polarity=0.1374987095499065, subjectivity=0.5108453257313436)\n",
      "rodział 11: Sentiment(polarity=0.10586665143811129, subjectivity=0.5604481500110864)\n",
      "rodział 12: Sentiment(polarity=0.1428998733168099, subjectivity=0.57078795341101)\n",
      "rodział 13: Sentiment(polarity=0.16855373147978772, subjectivity=0.5337913592667112)\n",
      "rodział 14: Sentiment(polarity=0.14837066899150228, subjectivity=0.5479018006684668)\n",
      "rodział 15: Sentiment(polarity=0.1756150793650794, subjectivity=0.49749206349206354)\n",
      "rodział 16: Sentiment(polarity=0.13622462125066287, subjectivity=0.5551473930243769)\n",
      "rodział 17: Sentiment(polarity=0.13074991443402872, subjectivity=0.5600833431250708)\n",
      "rodział 18: Sentiment(polarity=0.14681774551787846, subjectivity=0.5259776231451762)\n"
     ]
    }
   ],
   "source": [
    "i = 0\n",
    "for sentiment in sentiments[:18]:\n",
    "    i=i+1\n",
    "    print(f'rodział {i}: {sentiment}')"
   ]
  },
  {
   "attachments": {},
   "cell_type": "markdown",
   "metadata": {},
   "source": [
    "Jak można zaobserwować wartości zarówno wartości polaryzacji jak i subiektywności zmieniają się dla rozdziałów. Większe różnice obserwuje się w przypadku polaryzacji niż w przypadku subiektywności. Niemniej jednak wszystkie wartości oscylują wokół wartości wcześniej przedstawionych dla książek. \n",
    "Rozdziały 1-6 oraz rozdziały 9, 13 i 15 mają wyższą wartość sentymentu niż pozostałe. Oznacza to, że te rozdziały są bardziej pozytywne od pozostałych. Jednakże wartości nadal są stosunkowo niskie co powoduje, że nie można jednoznacznie określić rozdziału jako pozytywny. \n",
    "Sentyment wszystkich rozdziałów można określić jako neutralny, lekko pozytywny. \n",
    "Subiektywność wszystkich rozdziałów waha się w okolicy 50% co nie pozwala na określenie czy dany rozdział jest obiektywny czy subiektywny."
   ]
  },
  {
   "attachments": {},
   "cell_type": "markdown",
   "metadata": {},
   "source": [
    "#### Dla książki \"Persuasion\""
   ]
  },
  {
   "cell_type": "code",
   "execution_count": 361,
   "metadata": {},
   "outputs": [
    {
     "name": "stdout",
     "output_type": "stream",
     "text": [
      "rodział 1: Sentiment(polarity=0.10020336902527172, subjectivity=0.533559680241096)\n",
      "rodział 2: Sentiment(polarity=0.16648808181732305, subjectivity=0.5306985681316041)\n",
      "rodział 3: Sentiment(polarity=0.14325382653061222, subjectivity=0.4801797309833024)\n",
      "rodział 4: Sentiment(polarity=0.1279205867403737, subjectivity=0.4900755985442764)\n",
      "rodział 5: Sentiment(polarity=0.14976929191140811, subjectivity=0.4931849017741131)\n",
      "rodział 6: Sentiment(polarity=0.140870651369356, subjectivity=0.4686098774570277)\n",
      "rodział 7: Sentiment(polarity=0.18895815438970207, subjectivity=0.5560315169838981)\n",
      "rodział 8: Sentiment(polarity=0.21179845360400906, subjectivity=0.556597802917247)\n",
      "rodział 9: Sentiment(polarity=0.13017316017316025, subjectivity=0.5329471739500811)\n",
      "rodział 10: Sentiment(polarity=0.19061081412395126, subjectivity=0.5225563157649147)\n",
      "rodział 11: Sentiment(polarity=0.07317315092315094, subjectivity=0.49168997668997666)\n",
      "rodział 12: Sentiment(polarity=0.18019529173312074, subjectivity=0.5575633528265106)\n",
      "rodział 13: Sentiment(polarity=0.12522601996527777, subjectivity=0.4934975198412701)\n",
      "rodział 14: Sentiment(polarity=0.1387964458205937, subjectivity=0.5200224459883555)\n",
      "rodział 15: Sentiment(polarity=0.16997340416341847, subjectivity=0.5061085205769115)\n",
      "rodział 16: Sentiment(polarity=0.12109501006240148, subjectivity=0.5304920478597233)\n",
      "rodział 17: Sentiment(polarity=0.17365474240474238, subjectivity=0.5400939900939898)\n",
      "rodział 18: Sentiment(polarity=0.14515631298526038, subjectivity=0.5395232204442733)\n",
      "rodział 19: Sentiment(polarity=0.1561160141270639, subjectivity=0.5563882311672366)\n",
      "rodział 20: Sentiment(polarity=0.17760448637190138, subjectivity=0.5525493993450651)\n",
      "rodział 21: Sentiment(polarity=0.14641795650635447, subjectivity=0.5431922805555406)\n",
      "rodział 22: Sentiment(polarity=0.12476848965052609, subjectivity=0.5349657764972335)\n",
      "rodział 23: Sentiment(polarity=0.14618739122645372, subjectivity=0.5148562848562847)\n",
      "rodział 24: Sentiment(polarity=0.16592652717652723, subjectivity=0.5326097162097161)\n",
      "rodział 25: Sentiment(polarity=0.17184925052271993, subjectivity=0.4949028182701652)\n"
     ]
    }
   ],
   "source": [
    "i = 0\n",
    "for sentiment in sentiments[19:44]:\n",
    "    i=i+1\n",
    "    print(f'rodział {i}: {sentiment}')"
   ]
  },
  {
   "attachments": {},
   "cell_type": "markdown",
   "metadata": {},
   "source": [
    "W przypadku książki \"Persuasion\" również obserwuje się oscylowanie wartości polaryzacji oraz subiektywności rozdziałów wokół wartości otrzymanych dla całości książki. \n",
    "Można jednak zaobserwować wyróżnianie się rozdziałów 1, 7, 8 oraz 11 na tle pozostałych. Rozdziały 1 oraz 11 charakteryzują się one niższą wartością polaryzacji. Natomiast wartości polaryzacji dla rozdziałów 7 oraz 8 są wyższe niż dla pozostałych rozdziałów. \n",
    "Na tej podstawie można stwierdzić, że rozdziały 1 oraz 11 są bardziej neutralne od pozostałych, a rozdziały 7 oraz 8 są bardziej pozytywne. \n",
    "Niemniej jednak wszystkie rozdziały można określić jako neutralne. \n",
    "W przypadku subiektywności nie zaobserwowano znaczących różnic. Dla wszystkich rozdziałów otrzymano wartości w okolicy 0.50 co oznacza mniej więcej równy stosunek opinii do faktów w analizowanych rozdziałach i uniemożliwia jednoznaczne określenie charakteru tekstu.   "
   ]
  },
  {
   "attachments": {},
   "cell_type": "markdown",
   "metadata": {},
   "source": [
    "#### dla książki \"Sense and Sensibility\""
   ]
  },
  {
   "cell_type": "code",
   "execution_count": 11,
   "metadata": {},
   "outputs": [
    {
     "name": "stdout",
     "output_type": "stream",
     "text": [
      "rodział 1: Sentiment(polarity=0.17661955310158897, subjectivity=0.5420740786159951)\n",
      "rodział 2: Sentiment(polarity=0.07239652300314064, subjectivity=0.5099709808165691)\n",
      "rodział 3: Sentiment(polarity=0.1311630036630037, subjectivity=0.48674984737484733)\n",
      "rodział 4: Sentiment(polarity=0.13366278365850282, subjectivity=0.5692108462313941)\n",
      "rodział 5: Sentiment(polarity=0.1796013040457485, subjectivity=0.5410817166372722)\n",
      "rodział 6: Sentiment(polarity=0.04005633686980837, subjectivity=0.5036327000575707)\n",
      "rodział 7: Sentiment(polarity=0.08286564796498569, subjectivity=0.4855592347314203)\n",
      "rodział 8: Sentiment(polarity=0.1502987497234186, subjectivity=0.541784624499856)\n",
      "rodział 9: Sentiment(polarity=0.16459086955662303, subjectivity=0.539274867065963)\n",
      "rodział 10: Sentiment(polarity=0.1600891081796595, subjectivity=0.5152744259240324)\n",
      "rodział 11: Sentiment(polarity=0.15491358045677422, subjectivity=0.5454373404373405)\n",
      "rodział 12: Sentiment(polarity=0.17774359117668975, subjectivity=0.5459060931244029)\n",
      "rodział 13: Sentiment(polarity=0.13009943181818184, subjectivity=0.5399088847660276)\n",
      "rodział 14: Sentiment(polarity=0.08692086095094397, subjectivity=0.5630205582798946)\n",
      "rodział 15: Sentiment(polarity=0.10757389663182346, subjectivity=0.539216221447929)\n",
      "rodział 16: Sentiment(polarity=0.12871838251148596, subjectivity=0.5639880952380952)\n",
      "rodział 17: Sentiment(polarity=0.21105701066271532, subjectivity=0.5250652498135722)\n",
      "rodział 18: Sentiment(polarity=0.10823152764893842, subjectivity=0.5192002357761288)\n",
      "rodział 19: Sentiment(polarity=0.06674923983783201, subjectivity=0.45942298801522125)\n",
      "rodział 20: Sentiment(polarity=0.045794829482948295, subjectivity=0.5237513751375138)\n",
      "rodział 21: Sentiment(polarity=0.07376754670122014, subjectivity=0.5409728970953462)\n",
      "rodział 22: Sentiment(polarity=0.1634195155334861, subjectivity=0.519002976190476)\n",
      "rodział 23: Sentiment(polarity=0.0995862157392434, subjectivity=0.5277532832493921)\n",
      "rodział 24: Sentiment(polarity=0.13985687259202112, subjectivity=0.5099331361707597)\n",
      "rodział 25: Sentiment(polarity=0.09595627058127058, subjectivity=0.5413222518222517)\n",
      "rodział 26: Sentiment(polarity=0.21968805437442634, subjectivity=0.5682334547722633)\n",
      "rodział 27: Sentiment(polarity=0.14859568383005886, subjectivity=0.5584114496614496)\n",
      "rodział 28: Sentiment(polarity=0.18964025500910747, subjectivity=0.5890801457194901)\n",
      "rodział 29: Sentiment(polarity=0.15397189523615382, subjectivity=0.4886701764648532)\n",
      "rodział 30: Sentiment(polarity=0.10053753286287535, subjectivity=0.5659234616220916)\n",
      "rodział 31: Sentiment(polarity=0.1839110967229511, subjectivity=0.5749744091996156)\n",
      "rodział 32: Sentiment(polarity=0.12707608592339126, subjectivity=0.5297766372017869)\n",
      "rodział 33: Sentiment(polarity=0.1319984975808505, subjectivity=0.5790384687208217)\n",
      "rodział 34: Sentiment(polarity=0.1691805469662613, subjectivity=0.5441008343508345)\n",
      "rodział 35: Sentiment(polarity=0.1340504374098124, subjectivity=0.5709087111718688)\n",
      "rodział 36: Sentiment(polarity=0.11599794238683124, subjectivity=0.5483540430762653)\n",
      "rodział 37: Sentiment(polarity=0.07742253750815394, subjectivity=0.4926973255055448)\n",
      "rodział 38: Sentiment(polarity=0.10888594825120458, subjectivity=0.524106656768127)\n",
      "rodział 39: Sentiment(polarity=0.18829429759354, subjectivity=0.5599556167737986)\n",
      "rodział 40: Sentiment(polarity=0.07480023631339423, subjectivity=0.5123113144165775)\n",
      "rodział 41: Sentiment(polarity=0.1328494963303575, subjectivity=0.5186551778896282)\n",
      "rodział 42: Sentiment(polarity=0.1548164070154811, subjectivity=0.5341490299823635)\n",
      "rodział 43: Sentiment(polarity=0.1326890995585359, subjectivity=0.5072634462471258)\n",
      "rodział 44: Sentiment(polarity=0.2015263605442177, subjectivity=0.6033560090702946)\n",
      "rodział 45: Sentiment(polarity=0.16481769404304614, subjectivity=0.49592696036358014)\n",
      "rodział 46: Sentiment(polarity=0.14711142454994905, subjectivity=0.4887730962116208)\n",
      "rodział 47: Sentiment(polarity=0.15867520722171885, subjectivity=0.5816354575656899)\n",
      "rodział 48: Sentiment(polarity=0.1129057645785587, subjectivity=0.5450803553744731)\n",
      "rodział 49: Sentiment(polarity=0.17097991071428575, subjectivity=0.5146582341269841)\n"
     ]
    }
   ],
   "source": [
    "i = 0\n",
    "for sentiment in sentiments[44:]:\n",
    "    i=i+1\n",
    "    print(f'rodział {i}: {sentiment}')"
   ]
  },
  {
   "attachments": {},
   "cell_type": "markdown",
   "metadata": {},
   "source": [
    "W analizie rozdziałów ksiązki \"Sense and Sensibility\" podobnie jak dla pozostałych dwóch książek wartości sentymentu są podobne do wartości obliczonej dla całej książki. \n",
    "Rozdziały takie jak: 1, 5, 12, 17 i 49 mają wyższe wartości polarności - są bardziej pozytywne niż pozostałe. A rozdziały 2, 6, 7, 14, 15, 18-21, 23 oraz 25 mają niższe wartości polarności - są bardziej neutralne niż pozostałe. \n",
    "Wartości subiektywności oscylują wokół wartości 0.50 co nie pozwala na jednoznaczne określenie charakteru tekstu jako obiektywny bądź subiektywny."
   ]
  },
  {
   "attachments": {},
   "cell_type": "markdown",
   "metadata": {},
   "source": [
    "#### Podsumowując, podobnie jak dla całości książek wartości subiektywności dla rozdziałów nie pozwalają jednoznacznie określić tekstu. Nie są one ani obiektywny ani subiektywny. Wartości polarności w zależności od rozdziału wahają się od bardziej neutralnego do lekko pozytywnego. Jednakże nie zaobserwowano rozdziałów definitywnie pozytywnych."
   ]
  },
  {
   "attachments": {},
   "cell_type": "markdown",
   "metadata": {},
   "source": [
    "#### dla słów"
   ]
  },
  {
   "cell_type": "code",
   "execution_count": 368,
   "metadata": {},
   "outputs": [],
   "source": [
    "os.chdir(\"C:/Users/Ania/Desktop/chapters/\")\n",
    "for directory in os.listdir(os.getcwd()):\n",
    "    os.chdir(f\"C:/Users/Ania/Desktop/chapters/{directory}\")\n",
    "    for filename in os.listdir(os.getcwd()):\n",
    "        with open(os.path.join(os.getcwd(), filename), 'r') as f:\n",
    "            text = f.read()\n",
    "            tokens = {token: TextBlob(token).polarity for token in text.split()}"
   ]
  },
  {
   "attachments": {},
   "cell_type": "markdown",
   "metadata": {},
   "source": [
    "Z powodu dużej ilości badanych danych wyświetlono jedynie losowe słowa i ich wartości polarności. "
   ]
  },
  {
   "cell_type": "code",
   "execution_count": 370,
   "metadata": {},
   "outputs": [
    {
     "data": {
      "text/plain": [
       "{'familiar,': 0.375,\n",
       " 'ordinary': -0.25,\n",
       " 'pursuits': 0.0,\n",
       " 'which': 0.0,\n",
       " 'had': 0.0,\n",
       " 'given': 0.0,\n",
       " 'Norland': 0.0,\n",
       " 'half': -0.16666666666666666,\n",
       " 'its': 0.0,\n",
       " 'charms': 0.0,\n",
       " 'engaged': 0.0,\n",
       " 'in': 0.0,\n",
       " 'again': 0.0,\n",
       " 'far': 0.1,\n",
       " 'greater': 0.5,\n",
       " 'enjoyment': 0.0,\n",
       " 'than': 0.0,\n",
       " 'been': 0.0,\n",
       " 'able': 0.5,\n",
       " 'afford,': 0.0}"
      ]
     },
     "execution_count": 370,
     "metadata": {},
     "output_type": "execute_result"
    }
   ],
   "source": [
    "dict(list(tokens.items())[23:43])"
   ]
  },
  {
   "cell_type": "code",
   "execution_count": 383,
   "metadata": {},
   "outputs": [
    {
     "data": {
      "text/plain": [
       "{'ancient': 0.0,\n",
       " 'respectable': 0.5,\n",
       " 'looking': 0.0,\n",
       " 'mansion': 0.0,\n",
       " 'which,': 0.0,\n",
       " 'by': 0.0,\n",
       " 'reminding': 0.0,\n",
       " 'little': -0.1875,\n",
       " 'Norland,': 0.0,\n",
       " 'interested': 0.25,\n",
       " 'imagination': 0.0,\n",
       " 'made': 0.0,\n",
       " 'better': 0.5,\n",
       " 'acquainted': 0.5,\n",
       " 'it.': 0.0,\n",
       " 'But': 0.0,\n",
       " 'learnt,': 0.0,\n",
       " 'enquiry,': 0.0,\n",
       " 'possessor,': 0.0,\n",
       " 'elderly': 0.0}"
      ]
     },
     "execution_count": 383,
     "metadata": {},
     "output_type": "execute_result"
    }
   ],
   "source": [
    "dict(list(tokens.items())[144:164])"
   ]
  },
  {
   "cell_type": "code",
   "execution_count": 386,
   "metadata": {},
   "outputs": [
    {
     "data": {
      "text/plain": [
       "{'downs': 0.0,\n",
       " 'invited': 0.0,\n",
       " 'almost': 0.0,\n",
       " 'window': 0.0,\n",
       " 'cottage': 0.0,\n",
       " 'seek': 0.0,\n",
       " 'exquisite': 1.0,\n",
       " 'air': 0.0,\n",
       " 'summits,': 0.0,\n",
       " 'happy': 0.8,\n",
       " 'alternative': 0.0,\n",
       " 'when': 0.0,\n",
       " 'dirt': 0.0,\n",
       " 'valleys': 0.0,\n",
       " 'beneath': 0.0,\n",
       " 'shut': 0.0,\n",
       " 'up': 0.0,\n",
       " 'superior': 0.7,\n",
       " 'beauties;': 0.0,\n",
       " 'towards': 0.0}"
      ]
     },
     "execution_count": 386,
     "metadata": {},
     "output_type": "execute_result"
    }
   ],
   "source": [
    "dict(list(tokens.items())[182:202])"
   ]
  },
  {
   "attachments": {},
   "cell_type": "markdown",
   "metadata": {},
   "source": [
    "Na wyświetlonych wyżej losowo wybranych fragmentach można zaobserwować rózne wartości polarności dla różnych słów. \n",
    "Do słów pozytywnych z fragmentu pierwszego można zakwalifikować słowa: \"familiar\", \"greater\" oraz \"able\". Z fragmentu drugiego słowa pozytywne to: \"respectable\", \"interested\", \"better\" oraz \"acquainted\". Jednak wartości polarności dla słów z fragmentów 1 oraz 2 są wyższe niż średnie wartości dla rozdziałów ale nie są też bardzo wysokie. \n",
    "Z ostatniego fragmentu słowa pozytwyne to: \"exquisite\", \"happy\" oraz \"superior\". Jak można zaobserwować wartości dla słów z tego fragmentu są wyższe, stąd można określić je jako słowa silnie pozytywne.  \n",
    "Natomiast jako słowa negatywne można zaklasyfikować słowa z fragmentu pierwszego: \"ordinary\", \"half\". Z fragmentu drugiego: \"little\". \n",
    "Pozostałe słowa są słowami neutalnymi. \n",
    "Duży odsetek słów neutralnych wpływa na ogólną wartość rozdziałów oraz książek. Dogłębna analiza pokazuje, że w tekscie występują też słowa pozytywne oraz negatywne. Jednak jest ich mniej niż słów neutralnych. "
   ]
  }
 ],
 "metadata": {
  "kernelspec": {
   "display_name": "Python 3",
   "language": "python",
   "name": "python3"
  },
  "language_info": {
   "codemirror_mode": {
    "name": "ipython",
    "version": 3
   },
   "file_extension": ".py",
   "mimetype": "text/x-python",
   "name": "python",
   "nbconvert_exporter": "python",
   "pygments_lexer": "ipython3",
   "version": "3.11.3"
  },
  "orig_nbformat": 4
 },
 "nbformat": 4,
 "nbformat_minor": 2
}
